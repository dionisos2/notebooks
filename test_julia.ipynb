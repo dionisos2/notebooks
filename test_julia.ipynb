{
 "cells": [
  {
   "cell_type": "markdown",
   "metadata": {
    "ein.tags": "worksheet-0",
    "slideshow": {
     "slide_type": "-"
    }
   },
   "source": [
    "# Introduction"
   ]
  },
  {
   "cell_type": "markdown",
   "metadata": {
    "ein.tags": "worksheet-0",
    "slideshow": {
     "slide_type": "-"
    }
   },
   "source": [
    "I didn’t write on the blog since 8 days, it is partially because I didn’t keep with my intended schedule, but also because I spend way too much time configuring my computer, emacs, and learning about jupyter notebook and the julia programming language.\n",
    "To be honest, I stumbled on too much bugs on different levels, spent my time fixing bugs instead of learning. It was discouraging and it is why I didn’t work as much as I intended.\n",
    "Today I will quickly speak about my new configuration, and then show a example of what can be done with jupyter notebook, in fact, I wrote this article using it.\n"
   ]
  },
  {
   "cell_type": "markdown",
   "metadata": {
    "ein.tags": "worksheet-0",
    "slideshow": {
     "slide_type": "-"
    }
   },
   "source": [
    "## New emacs configuration"
   ]
  },
  {
   "cell_type": "markdown",
   "metadata": {
    "ein.tags": "worksheet-0",
    "slideshow": {
     "slide_type": "-"
    }
   },
   "source": [
    "I had a lot of inconsistent or weird keybindings that I changed, I also completely rewrite my emacs config to organize it better, and I installed some new usefull packages :\n",
    "(The videos are poorly done, and I hesitated to redo them, but I should really move forward)\n",
    "\n",
    "<b>Ace-jump</b>\n",
    "\n",
    "<video width=\"890\" height=\"500\" src=\"./ace-jump.mp4\" type=\"video/mp4\" controls>\n",
    "</video>\n",
    "\n",
    "<b>Helm and helm-dash</b>\n",
    "\n",
    "<video width=\"890\" height=\"500\" src=\"./helm.mp4\" type=\"video/mp4\" controls>\n",
    "</video>\n",
    "\n",
    "<b>Company and helm-company</b>\n",
    "\n",
    "<video width=\"890\" height=\"500\" src=\"./company.mp4\" type=\"video/mp4\" controls>\n",
    "</video>\n",
    "\n",
    "And finally <b>ein</b> (emacs ipython notebook), a client for the jupyter notebook than I am using right now:\n",
    "\n",
    "<video width=\"890\" height=\"500\" src=\"./jupyter.mp4\" type=\"video/mp4\" controls>\n",
    "</video>"
   ]
  },
  {
   "cell_type": "markdown",
   "metadata": {
    "ein.tags": "worksheet-0",
    "slideshow": {
     "slide_type": "-"
    }
   },
   "source": [
    "You probably remember the article about <a href=\"http://240hoursoflearning.blogspot.fr/2017/08/first-post.html\">sum fo sequences</a>.\n",
    "I will use Julia and SymPy to actually do the calculus.\n",
    "First let install Sympy, a library to do symbolic mathematics.\n",
    "For that, we will use Pkg, the built-in package manager of Julia (Julia is a really good programming language which ought to be more popular)."
   ]
  },
  {
   "cell_type": "code",
   "execution_count": null,
   "metadata": {
    "autoscroll": false,
    "collapsed": false,
    "ein.tags": "worksheet-0",
    "slideshow": {
     "slide_type": "-"
    }
   },
   "outputs": [
    {
     "name": "stderr",
     "output_type": "stream",
     "text": [
      "\u001b[1m\u001b[36mINFO: \u001b[39m\u001b[22m\u001b[36mCloning cache of BaseTestNext from https://github.com/JuliaCI/BaseTestNext.jl.git\n",
      "\u001b[39m\u001b[1m\u001b[36mINFO: \u001b[39m\u001b[22m\u001b[36mCloning cache of MacroTools from https://github.com/MikeInnes/MacroTools.jl.git\n",
      "\u001b[39m\u001b[1m\u001b[36mINFO: \u001b[39m\u001b[22m\u001b[36mCloning cache of PyCall from https://github.com/JuliaPy/PyCall.jl.git\n",
      "\u001b[39m\u001b[1m\u001b[36mINFO: \u001b[39m\u001b[22m\u001b[36mCloning cache of SymPy from https://github.com/JuliaPy/SymPy.jl.git\n",
      "\u001b[39m\u001b[1m\u001b[36mINFO: \u001b[39m\u001b[22m\u001b[36mInstalling BaseTestNext v0.2.2\n",
      "\u001b[39m\u001b[1m\u001b[36mINFO: \u001b[39m\u001b[22m\u001b[36mInstalling MacroTools v0.3.7\n",
      "\u001b[39m\u001b[1m\u001b[36mINFO: \u001b[39m\u001b[22m\u001b[36mInstalling PyCall v1.14.0\n",
      "\u001b[39m\u001b[1m\u001b[36mINFO: \u001b[39m\u001b[22m\u001b[36mInstalling SymPy v0.5.3\n",
      "\u001b[39m\u001b[1m\u001b[36mINFO: \u001b[39m\u001b[22m\u001b[36mBuilding Conda\n",
      "\u001b[39m\u001b[1m\u001b[36mINFO: \u001b[39m\u001b[22m\u001b[36mBuilding PyCall\n",
      "\u001b[39m\u001b[1m\u001b[36mINFO: \u001b[39m\u001b[22m\u001b[36mPyCall is using python (Python 3.6.2) at /usr/bin/python, libpython = /usr/lib/libpython3.6m\n",
      "\u001b[39m\u001b[1m\u001b[36mINFO: \u001b[39m\u001b[22m\u001b[36m/home/dionisos/.julia/v0.6/PyCall/deps/deps.jl has been updated\n",
      "\u001b[39m\u001b[1m\u001b[36mINFO: \u001b[39m\u001b[22m\u001b[36m/home/dionisos/.julia/v0.6/PyCall/deps/PYTHON has been updated\n",
      "\u001b[39m\u001b[1m\u001b[36mINFO: \u001b[39m\u001b[22m\u001b[36mPackage database updated\n",
      "\u001b[39m\u001b[1m\u001b[36mINFO: \u001b[39m\u001b[22m\u001b[36mMETADATA is out-of-date — you may not have the latest version of SymPy\n",
      "\u001b[39m\u001b[1m\u001b[36mINFO: \u001b[39m\u001b[22m\u001b[36mUse `Pkg.update()` to get the latest versions of your packages\n",
      "\u001b[39m"
     ]
    }
   ],
   "source": [
    "Pkg.add(\"SymPy\")"
   ]
  },
  {
   "cell_type": "markdown",
   "metadata": {
    "ein.tags": "worksheet-0",
    "slideshow": {
     "slide_type": "-"
    }
   },
   "source": [
    "First, we will test the SymPy package on some simple calculus."
   ]
  },
  {
   "cell_type": "code",
   "execution_count": 3,
   "metadata": {
    "autoscroll": false,
    "collapsed": false,
    "ein.tags": "worksheet-0",
    "slideshow": {
     "slide_type": "-"
    }
   },
   "outputs": [
    {
     "name": "stderr",
     "output_type": "stream",
     "text": [
      "\u001b[1m\u001b[36mINFO: \u001b[39m\u001b[22m\u001b[36mRecompiling stale cache file /home/dionisos/.julia/lib/v0.6/RecipesBase.ji for module RecipesBase.\n",
      "\u001b[39m"
     ]
    },
    {
     "name": "stderr",
     "output_type": "stream",
     "text": [
      "\u001b[1m\u001b[36mINFO: \u001b[39m\u001b[22m\u001b[36mRecompiling stale cache file /home/dionisos/.julia/lib/v0.6/SymPy.ji for module SymPy.\n",
      "\u001b[39m"
     ]
    },
    {
     "data": {
      "text/plain": [
       "6⋅x + 6"
      ]
     },
     "execution_count": 3,
     "metadata": {},
     "output_type": "execute_result"
    }
   ],
   "source": [
    "using SymPy\n",
    "\n",
    "x = Sym(\"x\")\n",
    "a=x^2+2x\n",
    "a = diff(a)\n",
    "a*3"
   ]
  },
  {
   "cell_type": "markdown",
   "metadata": {
    "ein.tags": "worksheet-0",
    "slideshow": {
     "slide_type": "-"
    }
   },
   "source": [
    "Everything is working perfectly, yes sympy is pretty cool :-)"
   ]
  },
  {
   "cell_type": "markdown",
   "metadata": {
    "autoscroll": false,
    "ein.tags": "worksheet-0",
    "slideshow": {
     "slide_type": "-"
    }
   },
   "source": [
    "# Caculating ∑x^k"
   ]
  },
  {
   "cell_type": "markdown",
   "metadata": {
    "ein.tags": "worksheet-0",
    "slideshow": {
     "slide_type": "-"
    }
   },
   "source": [
    "We will try to use one of the formula given in sum of sequences article to caculate ∑x^k (successive derivatives)\n",
    "Let begin to calculate ∑x^2."
   ]
  },
  {
   "cell_type": "code",
   "execution_count": 4,
   "metadata": {
    "autoscroll": false,
    "collapsed": false,
    "ein.tags": "worksheet-0",
    "slideshow": {
     "slide_type": "-"
    }
   },
   "outputs": [
    {
     "data": {
      "text/plain": [
       " 3    2    \nn    n    n\n── + ── + ─\n3    2    6"
      ]
     },
     "execution_count": 4,
     "metadata": {},
     "output_type": "execute_result"
    }
   ],
   "source": [
    "n = Sym(\"n\")\n",
    "g = (x^(n+1) - 1)/(x-1)\n",
    "s = diff((diff(g,x)*x),x)\n",
    "limit(s,x,1,\"+\")"
   ]
  },
  {
   "cell_type": "markdown",
   "metadata": {
    "ein.tags": "worksheet-0",
    "slideshow": {
     "slide_type": "-"
    }
   },
   "source": [
    "That works, now we can generalize."
   ]
  },
  {
   "cell_type": "code",
   "execution_count": 13,
   "metadata": {
    "autoscroll": false,
    "collapsed": false,
    "ein.tags": "worksheet-0",
    "slideshow": {
     "slide_type": "-"
    }
   },
   "outputs": [
    {
     "data": {
      "text/plain": [
       " 4    3    2\n",
       "n    n    n \n",
       "── + ── + ──\n",
       "4    2    4 "
      ]
     },
     "execution_count": 13,
     "metadata": {},
     "output_type": "execute_result"
    }
   ],
   "source": [
    "function g(x, n) = (x^(n+1) - 1)/(x-1)\n",
    "\n",
    "function closing_form_of_xk(k)\n",
    "    x = Sym(\"x\")\n",
    "    n = Sym(\"n\")\n",
    "\n",
    "    result = g(x, n)\n",
    "    for i in 1:k\n",
    "        result = diff(result, x)\n",
    "        result *= x\n",
    "    end\n",
    "    return \n",
    "end"
   ]
  },
  {
   "cell_type": "code",
   "execution_count": 16,
   "metadata": {
    "autoscroll": false,
    "collapsed": false,
    "ein.tags": "worksheet-0",
    "slideshow": {
     "slide_type": "-"
    }
   },
   "outputs": [
    {
     "data": {
      "text/latex": [
       "$$x \\left(\\frac{2 \\left(x^{n + 1} - 1\\right)}{\\left(x - 1\\right)^{3}} - \\frac{2 x^{n + 1} \\left(n + 1\\right)}{x \\left(x - 1\\right)^{2}} + \\frac{x^{n + 1} \\left(n + 1\\right)^{2}}{x^{2} \\left(x - 1\\right)} - \\frac{x^{n + 1} \\left(n + 1\\right)}{x^{2} \\left(x - 1\\right)}\\right) + x \\left(x \\left(- \\frac{6 \\left(x^{n + 1} - 1\\right)}{\\left(x - 1\\right)^{4}} + \\frac{6 x^{n + 1} \\left(n + 1\\right)}{x \\left(x - 1\\right)^{3}} - \\frac{3 x^{n + 1} \\left(n + 1\\right)^{2}}{x^{2} \\left(x - 1\\right)^{2}} + \\frac{3 x^{n + 1} \\left(n + 1\\right)}{x^{2} \\left(x - 1\\right)^{2}} + \\frac{x^{n + 1} \\left(n + 1\\right)^{3}}{x^{3} \\left(x - 1\\right)} - \\frac{3 x^{n + 1} \\left(n + 1\\right)^{2}}{x^{3} \\left(x - 1\\right)} + \\frac{2 x^{n + 1} \\left(n + 1\\right)}{x^{3} \\left(x - 1\\right)}\\right) + \\frac{4 \\left(x^{n + 1} - 1\\right)}{\\left(x - 1\\right)^{3}} - \\frac{4 x^{n + 1} \\left(n + 1\\right)}{x \\left(x - 1\\right)^{2}} + \\frac{2 x^{n + 1} \\left(n + 1\\right)^{2}}{x^{2} \\left(x - 1\\right)} - \\frac{2 x^{n + 1} \\left(n + 1\\right)}{x^{2} \\left(x - 1\\right)}\\right) - \\frac{x^{n + 1} - 1}{\\left(x - 1\\right)^{2}} + \\frac{x^{n + 1} \\left(n + 1\\right)}{x \\left(x - 1\\right)}$$"
      ],
      "text/plain": [
       "  ⎛  ⎛ n + 1    ⎞      n + 1            n + 1        2    n + 1        ⎞     ⎛\n",
       "  ⎜2⋅⎝x      - 1⎠   2⋅x     ⋅(n + 1)   x     ⋅(n + 1)    x     ⋅(n + 1)⎟     ⎜\n",
       "x⋅⎜────────────── - ──────────────── + ─────────────── - ──────────────⎟ + x⋅⎜\n",
       "  ⎜          3                  2          2                2          ⎟     ⎜\n",
       "  ⎝   (x - 1)          x⋅(x - 1)          x ⋅(x - 1)       x ⋅(x - 1)  ⎠     ⎝\n",
       "\n",
       "  ⎛    ⎛ n + 1    ⎞      n + 1              n + 1        2      n + 1         \n",
       "  ⎜  6⋅⎝x      - 1⎠   6⋅x     ⋅(n + 1)   3⋅x     ⋅(n + 1)    3⋅x     ⋅(n + 1) \n",
       "x⋅⎜- ────────────── + ──────────────── - ───────────────── + ──────────────── \n",
       "  ⎜            4                  3          2        2         2        2    \n",
       "  ⎝     (x - 1)          x⋅(x - 1)          x ⋅(x - 1)         x ⋅(x - 1)     \n",
       "\n",
       "   n + 1        3      n + 1        2      n + 1        ⎞     ⎛ n + 1    ⎞    \n",
       "  x     ⋅(n + 1)    3⋅x     ⋅(n + 1)    2⋅x     ⋅(n + 1)⎟   4⋅⎝x      - 1⎠   4\n",
       "+ ─────────────── - ───────────────── + ────────────────⎟ + ────────────── - ─\n",
       "      3                  3                  3           ⎟             3       \n",
       "     x ⋅(x - 1)         x ⋅(x - 1)         x ⋅(x - 1)   ⎠      (x - 1)        \n",
       "\n",
       "  n + 1              n + 1        2      n + 1        ⎞    n + 1        n + 1 \n",
       "⋅x     ⋅(n + 1)   2⋅x     ⋅(n + 1)    2⋅x     ⋅(n + 1)⎟   x      - 1   x     ⋅\n",
       "─────────────── + ───────────────── - ────────────────⎟ - ────────── + ───────\n",
       "           2           2                  2           ⎟           2      x⋅(x \n",
       "  x⋅(x - 1)           x ⋅(x - 1)         x ⋅(x - 1)   ⎠    (x - 1)            \n",
       "\n",
       "       \n",
       "(n + 1)\n",
       "───────\n",
       "- 1)   \n",
       "       "
      ]
     },
     "execution_count": 16,
     "metadata": {},
     "output_type": "execute_result"
    }
   ],
   "source": [
    "s2"
   ]
  },
  {
   "cell_type": "code",
   "execution_count": null,
   "metadata": {
    "autoscroll": false,
    "collapsed": false,
    "ein.tags": "worksheet-0",
    "slideshow": {
     "slide_type": "-"
    }
   },
   "outputs": [],
   "source": []
  }
 ],
 "metadata": {
  "kernelspec": {
   "display_name": "Julia 0.6.0",
   "name": "julia-0.6"
  },
  "language_info": {
   "file_extension": ".jl",
   "mimetype": "application/julia",
   "name": "julia",
   "version": "0.6.0"
  },
  "name": "test_julia.ipynb"
 },
 "nbformat": 4,
 "nbformat_minor": 2
}
