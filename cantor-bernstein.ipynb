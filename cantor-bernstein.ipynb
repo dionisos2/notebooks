{
 "cells": [
  {
   "cell_type": "markdown",
   "metadata": {},
   "source": [
    "# Introduction"
   ]
  },
  {
   "cell_type": "markdown",
   "metadata": {},
   "source": [
    "Le but de ce document est d’expliquer une démonstration du théorème de Cantor-Berntein : \"S'il existe une injection d'un ensemble $E$ vers un ensemble $F$ et une injection de $F$ vers $E$, alors il existe une bijection de $E$ sur $F$.\"\n",
    "\n",
    "Puis de créer un programme génère une bijection à partir des deux injections en s’inspirant de cette démonstration, et enfin de s’en servir sur un exemple. (solution non générale)"
   ]
  },
  {
   "cell_type": "markdown",
   "metadata": {},
   "source": [
    "# Explication avec les mains (et un humour douteux)"
   ]
  },
  {
   "cell_type": "markdown",
   "metadata": {},
   "source": [
    "Nomons u la bijection de E sur F et v la bijection de $F$ sur $E$."
   ]
  },
  {
   "cell_type": "code",
   "execution_count": 23,
   "metadata": {},
   "outputs": [
    {
     "name": "stdout",
     "output_type": "stream",
     "text": [
      "\u001b[32m\u001b[1m Resolving\u001b[22m\u001b[39m package versions...\n",
      "\u001b[32m\u001b[1m  Updating\u001b[22m\u001b[39m `~/.julia/environments/v1.2/Project.toml`\n",
      "\u001b[90m [no changes]\u001b[39m\n",
      "\u001b[32m\u001b[1m  Updating\u001b[22m\u001b[39m `~/.julia/environments/v1.2/Manifest.toml`\n",
      "\u001b[90m [no changes]\u001b[39m\n",
      "\u001b[32m\u001b[1m Resolving\u001b[22m\u001b[39m package versions...\n",
      "\u001b[32m\u001b[1m  Updating\u001b[22m\u001b[39m `~/.julia/environments/v1.2/Project.toml`\n",
      "\u001b[90m [no changes]\u001b[39m\n",
      "\u001b[32m\u001b[1m  Updating\u001b[22m\u001b[39m `~/.julia/environments/v1.2/Manifest.toml`\n",
      "\u001b[90m [no changes]\u001b[39m\n"
     ]
    }
   ],
   "source": [
    "# Just add some julia package\n",
    "using Pkg\n",
    "Pkg.add(\"Primes\")\n",
    "Pkg.add(\"SaferIntegers\");"
   ]
  },
  {
   "cell_type": "code",
   "execution_count": 3,
   "metadata": {},
   "outputs": [
    {
     "name": "stdout",
     "output_type": "stream",
     "text": [
      "(0, 3, 1, 0, 2)\n",
      "1234537733850\n",
      "(0, 3, 1, 0, 2)\n"
     ]
    }
   ],
   "source": [
    "using Primes\n",
    "using SaferIntegers\n",
    "\n",
    "S = NTuple{N,Int} where N\n",
    "\"An injection from S to ℕ (where S is the set of all finite sequences)\"\n",
    "function f(x::S)::Int\n",
    "    if isempty(x)\n",
    "        return 0\n",
    "    end\n",
    "    res = SafeInt(1)\n",
    "    for (i, xi) in enumerate(x)\n",
    "        print(i)\n",
    "        ti = SafeInt(prime(i))^(xi+1)\n",
    "        res *= ti\n",
    "    end\n",
    "    return res\n",
    "end\n",
    "\n",
    "\"An basic injection from ℕ to S\"\n",
    "g(x::Int)=(x,)\n",
    "\n",
    "ginv(x::S)=x[1];\n",
    "\n",
    "function finv(x::Int)\n",
    "    if x == 0\n",
    "        return ()\n",
    "    end\n",
    "    if x == 1\n",
    "        throw(DomainError(\"ptdr t ki ?\"))\n",
    "    end\n",
    "    factors = factor(x)\n",
    "    res = []\n",
    "    for (i, f) in enumerate(factors)\n",
    "        if f[1] != prime(i)\n",
    "            throw(DomainError(\"finv undefined on $x\"))\n",
    "        end\n",
    "        push!(res, f[2]-1)\n",
    "    end\n",
    "    return Tuple(res)\n",
    "end\n",
    "\n",
    "x = (0,3,1,0,2)\n",
    "println(x)\n",
    "y = f(x)\n",
    "println(y)\n",
    "x = finv(y)\n",
    "println(x)"
   ]
  },
  {
   "cell_type": "code",
   "execution_count": 20,
   "metadata": {},
   "outputs": [
    {
     "data": {
      "text/plain": [
       "true"
      ]
     },
     "execution_count": 20,
     "metadata": {},
     "output_type": "execute_result"
    }
   ],
   "source": [
    "struct C0\n",
    "end\n",
    "\n",
    "struct C\n",
    "end\n",
    "\n",
    "\"C0 = S-g[ℕ]\"\n",
    "Base.in(x::Tuple, ::Type{C0}) = length(x)!=1\n",
    "\n",
    "\"C = ⋃Cn\"\n",
    "function Base.in(x::Tuple, ::Type{C})\n",
    "    if x in C0\n",
    "        return true\n",
    "    end\n",
    "\n",
    "    # x∈C1 ⇔ x∈g(f(C0)) ⇔ y∈C0 x=g(f(y)) ⇔ y∈C0 y=f^-1(g^-1(x))\n",
    "    try\n",
    "        y=finv(ginv(x))\n",
    "        if y in C0\n",
    "            return true\n",
    "        end\n",
    "    catch\n",
    "    end\n",
    "    # From here x in Cn ⇒ x=2^(k+1) and g(k) in C(n-1)\n",
    "    \n",
    "    # g^-1(x)=2^(k)\n",
    "    k = log2(ginv(x))-1\n",
    "    if !isinteger(k) || k<0\n",
    "        return false\n",
    "    end\n",
    "    k = Int(k)\n",
    "    return true\n",
    "    return g(k) in C\n",
    "end\n",
    "\n",
    "(16,) in C"
   ]
  }
 ],
 "metadata": {
  "kernelspec": {
   "display_name": "Julia 1.2.0",
   "language": "julia",
   "name": "julia-1.2"
  },
  "language_info": {
   "file_extension": ".jl",
   "mimetype": "application/julia",
   "name": "julia",
   "version": "1.2.0"
  }
 },
 "nbformat": 4,
 "nbformat_minor": 4
}
