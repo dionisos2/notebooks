{
 "cells": [
  {
   "cell_type": "markdown",
   "metadata": {},
   "source": [
    "# Introduction"
   ]
  },
  {
   "cell_type": "markdown",
   "metadata": {},
   "source": [
    "Le but de ce document est d’expliquer une démonstration du théorème de Cantor-Berntein : \"S'il existe une injection d'un ensemble $E$ vers un ensemble $F$ et une injection de $F$ vers $E$, alors il existe une bijection de $E$ sur $F$.\"\n",
    "\n",
    "Puis de créer un programme qui génère une bijection à partir des deux injections en s’inspirant de cette démonstration, et enfin de s’en servir sur un exemple. (solution non générale)"
   ]
  },
  {
   "cell_type": "markdown",
   "metadata": {},
   "source": [
    "# Explication avec les mains"
   ]
  },
  {
   "cell_type": "markdown",
   "metadata": {},
   "source": [
    "Nommons $f$ l’injection de $E$ sur $F$ et $g$ l’injection de $F$ sur $E$. On va essayer de construire une fonction $h$ bijective de $E$ dans $F$. \n",
    "\n",
    "Pour commencer on va utiliser $g^{-1}$ qui est bien surjective (car $g$ est défini sur tout $F$) et injective car c’est une fonction inverse.  \n",
    "Le problème est que cette fonction n’est pas défini sur tout $E$ (car $g$ n’était pas surjective). On utilisera alors $f$ pour l’ensemble manquant pour couvrir tout $E$, qu’on nommera $C_0=E \\backslash g(F)$. \n",
    "\n",
    "On a donc $\n",
    "h(x) =\n",
    "\\begin{cases}\n",
    "      f(x) & si,x\\in C_0 \\\\\n",
    "      u^{-1}(x) & sinon \\\\\n",
    "\\end{cases}\n",
    "$\n",
    "\n",
    "$h$ est bien définit sur tout $E$ et surjective par construction, le problème qu’on a maintenant est que $f$ va rentrer en collision avec $g^{-1}$ sur $F$ car $g^{-1}$ occupait déjà tout $F$.  \n",
    "Pour régler ce problème on va prendre toutes les valeurs $y$ de l’ensemble $F$ où il y a une collision (qui est en réalité tout $f(C_0)$, puis regarder l’antécédent de $y$ par la fonction $g^{-1}$ (qui est donc $g(y)$), et ne plus utiliser $g^{-1}$ pour ce point là. (car il est déjà couvert par $f$).\n",
    "\n",
    "On obtient ainsi un nouvel ensemble $C_1=g(f(C_0))$\n",
    "\n",
    "![schéma](images/schema1.png)\n",
    "\n",
    "Notre fonction $h$ devient donc :\n",
    "\n",
    "$h(x) =\n",
    "\\begin{cases}\n",
    "      f(x) & si,x\\in C_0 \\cup C_1 \\\\\n",
    "      u^{-1}(x) & sinon \\\\\n",
    "\\end{cases}\n",
    "$\n",
    "\n",
    "On a réglé le problème de collision pour $C_0$, malheureusement on se retrouve avec exactement le même problème pour $C_1$. Ouais je sais nous voilà bien avancé, mais pas de panique (si si vous paniquiez je l’ai senti). \n",
    "\n",
    "On ne se laisse par abattre et on répète cette opération une infinité de fois ($Cn+1=g(f(Cn))$).  \n",
    "Et vue que quand même l’infini c’est beaucoup, ça va bien finir par marcher ! (d’accord j’arrête, partez pas !)\n",
    "\n",
    "Plus sérieusement, si maintenant je prend un point $x$ quelconque sur $F$ il y a deux possibilités :\n",
    "- Soit il n’y a jamais eu de collisions, et il n’y a donc pas de problèmes.\n",
    "- Soit il y a eu une collision à une des étapes, or cette collision a donc été corrigée à l’étape suivante, et il n’y a donc plus de problèmes à partir de là. (on ne peut pas se retrouver deux fois avec la même collision)\n",
    "\n",
    "Donc $h$ est bijective !\n",
    "\n",
    "$h(x) =\n",
    "\\begin{cases}\n",
    "      f(x) & si,x\\in \\bigcup _{i=0}^\\infty C_n \\\\\n",
    "      u^{-1}(x) & sinon \\\\\n",
    "\\end{cases}\n",
    "$\n",
    "\n",
    "D’une certaine manière on n’a fait que repousser le problème toujours plus loin à chaque fois, mais repousser le problème plus loin une infinité de fois, c’est le faire disparaitre.\n",
    "\n",
    "Maintenant place à la démonstration."
   ]
  },
  {
   "cell_type": "markdown",
   "metadata": {},
   "source": [
    "# Démonstration"
   ]
  },
  {
   "cell_type": "markdown",
   "metadata": {},
   "source": [
    "$f$ l’injection de $E$ sur $F$ et $g$ l’injection de $F$ sur $E$. On va essayer de construire une fonction $h$ bijective de $E$ dans $F$.\n",
    "\n",
    "$C_0=E \\backslash g(F)$  \n",
    "$C_n+1 = g(f(C_n))$  \n",
    "$C = \\bigcup _{i=0}^\\infty C_n$\n",
    "\n",
    "$h(x) =\n",
    "\\begin{cases}\n",
    "      f(x) & si x \\in C \\\\\n",
    "      u^{-1}(x) & sinon \\\\\n",
    "\\end{cases}\n",
    "$\n",
    "\n",
    "si $(x, y) \\in C^2, h(x) = h(y) \\Rightarrow f(x)=f(y) \\Rightarrow x=y$  \n",
    "si $x \\notin C$ et $y \\notin, h(x) = h(y) \\Rightarrow g^{-1}(x)=g^{-1}(y) \\Rightarrow x=y$  \n",
    "si $x \\notin C$ et $y \\in C, h(x)=h(y) \\Rightarrow g^{-1}(x)=f(y) \\Rightarrow x=g(f(y)) \\Rightarrow x \\in C \\Rightarrow$ contradiction et mensonge\n",
    "\n",
    "Donc $h$ injective.\n",
    "\n",
    "(Démonstration de la surjection à finir)"
   ]
  },
  {
   "cell_type": "markdown",
   "metadata": {},
   "source": [
    "# Le programme"
   ]
  },
  {
   "cell_type": "code",
   "execution_count": 23,
   "metadata": {},
   "outputs": [
    {
     "name": "stdout",
     "output_type": "stream",
     "text": [
      "\u001b[32m\u001b[1m Resolving\u001b[22m\u001b[39m package versions...\n",
      "\u001b[32m\u001b[1m  Updating\u001b[22m\u001b[39m `~/.julia/environments/v1.2/Project.toml`\n",
      "\u001b[90m [no changes]\u001b[39m\n",
      "\u001b[32m\u001b[1m  Updating\u001b[22m\u001b[39m `~/.julia/environments/v1.2/Manifest.toml`\n",
      "\u001b[90m [no changes]\u001b[39m\n",
      "\u001b[32m\u001b[1m Resolving\u001b[22m\u001b[39m package versions...\n",
      "\u001b[32m\u001b[1m  Updating\u001b[22m\u001b[39m `~/.julia/environments/v1.2/Project.toml`\n",
      "\u001b[90m [no changes]\u001b[39m\n",
      "\u001b[32m\u001b[1m  Updating\u001b[22m\u001b[39m `~/.julia/environments/v1.2/Manifest.toml`\n",
      "\u001b[90m [no changes]\u001b[39m\n"
     ]
    }
   ],
   "source": [
    "# Just some julia package\n",
    "using Pkg\n",
    "Pkg.add(\"Primes\")\n",
    "Pkg.add(\"SaferIntegers\");"
   ]
  },
  {
   "cell_type": "code",
   "execution_count": 31,
   "metadata": {},
   "outputs": [
    {
     "data": {
      "text/plain": [
       "create_h (generic function with 1 method)"
      ]
     },
     "execution_count": 31,
     "metadata": {},
     "output_type": "execute_result"
    }
   ],
   "source": [
    "\"Check if x is in the domain of f. (ie check than f(x) is well defined)\"\n",
    "function in_domain(f, x)\n",
    "    try\n",
    "        y = f(x)\n",
    "    catch error\n",
    "        if isa(error, DomainError)\n",
    "            return false\n",
    "        else\n",
    "            rethrow()\n",
    "        end\n",
    "    end\n",
    "    \n",
    "    return true\n",
    "end\n",
    "\n",
    "function create_h((f, finv), (g, ginv))\n",
    "    # C0 = E - g(f)\n",
    "    in_C0(x) = !in_domain(ginv, x)\n",
    "    \n",
    "    function in_Cn(x)\n",
    "        if in_C0(x)\n",
    "            return true\n",
    "        end\n",
    "        \n",
    "        y = ginv(x)\n",
    "        if in_domain(finv, y)\n",
    "            old_x = finv(y)\n",
    "            return in_Cn(old_x)\n",
    "        else\n",
    "            return false\n",
    "        end\n",
    "    end\n",
    "    \n",
    "    h(x) = in_Cn(x) ? f(x) : ginv(x) \n",
    "    hinv(x) = in_domain(finv, x) && in_Cn(finv(x)) ? finv(x) : g(x)\n",
    "    return (h, hinv)\n",
    "end\n",
    "\n"
   ]
  },
  {
   "cell_type": "code",
   "execution_count": 38,
   "metadata": {},
   "outputs": [
    {
     "name": "stdout",
     "output_type": "stream",
     "text": [
      "h((0,)) = 2\n",
      "hinv(2) = (0,)\n",
      "h((1,)) = 1\n",
      "hinv(1) = (1,)\n",
      "h((2,)) = 8\n",
      "hinv(8) = (2,)\n",
      "h((3,)) = 3\n",
      "hinv(3) = (3,)\n",
      "h((4,)) = 4\n",
      "hinv(4) = (4,)\n",
      "h((5,)) = 5\n",
      "hinv(5) = (5,)\n",
      "h((6,)) = 128\n",
      "hinv(128) = (6,)\n",
      "h((7,)) = 7\n",
      "hinv(7) = (7,)\n",
      "h((8,)) = 512\n",
      "hinv(512) = (8,)\n",
      "h((9,)) = 9\n",
      "hinv(9) = (9,)\n",
      "h((10,)) = 10\n",
      "hinv(10) = (10,)\n",
      "h((11,)) = 11\n",
      "hinv(11) = (11,)\n",
      "h((12,)) = 8192\n",
      "hinv(8192) = (12,)\n",
      "h((13,)) = 13\n",
      "hinv(13) = (13,)\n",
      "h((14,)) = 14\n",
      "hinv(14) = (14,)\n",
      "h((15,)) = 15\n",
      "hinv(15) = (15,)\n",
      "h((16,)) = 16\n",
      "hinv(16) = (16,)\n",
      "h((17,)) = 17\n",
      "hinv(17) = (17,)\n",
      "h((18,)) = 524288\n",
      "hinv(524288) = (18,)\n",
      "h((19,)) = 19\n",
      "hinv(19) = (19,)\n",
      "h((20,)) = 20\n",
      "hinv(20) = (20,)\n",
      "--------------------------------------------------\n",
      "hinv(0) = ()\n",
      "hinv(1) = (1,)\n",
      "hinv(2) = (0,)\n",
      "hinv(3) = (3,)\n",
      "hinv(4) = (4,)\n",
      "hinv(5) = (5,)\n",
      "hinv(6) = (0, 0)\n",
      "hinv(7) = (7,)\n",
      "hinv(8) = (2,)\n",
      "hinv(9) = (9,)\n",
      "hinv(10) = (10,)\n",
      "hinv(11) = (11,)\n",
      "hinv(12) = (1, 0)\n",
      "hinv(13) = (13,)\n",
      "hinv(14) = (14,)\n",
      "hinv(15) = (15,)\n",
      "hinv(16) = (16,)\n",
      "hinv(17) = (17,)\n",
      "hinv(18) = (0, 1)\n",
      "hinv(19) = (19,)\n",
      "hinv(20) = (20,)\n"
     ]
    }
   ],
   "source": [
    "using Primes\n",
    "using SaferIntegers\n",
    "\n",
    "S = NTuple{N,Int} where N\n",
    "\"An injection from S to ℕ (where S is the set of all finite sequences)\"\n",
    "function f(x::S)::Int\n",
    "    if isempty(x)\n",
    "        return 0\n",
    "    end\n",
    "    res = SafeInt(1)\n",
    "    for (i, xi) in enumerate(x)\n",
    "        ti = SafeInt(prime(i))^(xi+1)\n",
    "        res *= ti\n",
    "    end\n",
    "    return res\n",
    "end\n",
    "\n",
    "\"An basic injection from ℕ to S\"\n",
    "g(x::Int)=(x,)\n",
    "\n",
    "ginv(x::S)=length(x) == 1 ? x[1] : throw(DomainError(\"ginv only defined for singleton\"));\n",
    "\n",
    "function finv(x::Int)\n",
    "    if x == 0\n",
    "        return ()\n",
    "    end\n",
    "    if x == 1\n",
    "        throw(DomainError(\"finv(1) undefined (∄x, f(x)==1)\"))\n",
    "    end\n",
    "    factors = factor(x)\n",
    "    res = []\n",
    "    for (i, f) in enumerate(factors)\n",
    "        if f[1] != prime(i)\n",
    "            throw(DomainError(\"finv($x) undefined (∄x, f(x)==$x)\"))\n",
    "        end\n",
    "        push!(res, f[2]-1)\n",
    "    end\n",
    "    return Tuple(res)\n",
    "end\n",
    "\n",
    "\n",
    "(h, hinv) = create_h((f, finv), (g, ginv))\n",
    "\n",
    "for x in 0:20\n",
    "    y = h((x,))\n",
    "    @eval @show h(($x,));\n",
    "    @eval @show hinv($y);\n",
    "end\n",
    "\n",
    "println(\"-\"^50)\n",
    "\n",
    "for y in 0:20\n",
    "    @eval @show hinv($y)\n",
    "end"
   ]
  }
 ],
 "metadata": {
  "kernelspec": {
   "display_name": "Julia 1.2.0",
   "language": "julia",
   "name": "julia-1.2"
  },
  "language_info": {
   "file_extension": ".jl",
   "mimetype": "application/julia",
   "name": "julia",
   "version": "1.2.0"
  }
 },
 "nbformat": 4,
 "nbformat_minor": 4
}
