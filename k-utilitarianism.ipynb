{
 "cells": [
  {
   "cell_type": "markdown",
   "metadata": {
    "ein.tags": "worksheet-0",
    "slideshow": {
     "slide_type": "-"
    }
   },
   "source": [
    "# k-utilitarianism"
   ]
  },
  {
   "cell_type": "markdown",
   "metadata": {
    "ein.tags": "worksheet-0",
    "slideshow": {
     "slide_type": "-"
    }
   },
   "source": [
    "## Introduction"
   ]
  },
  {
   "cell_type": "markdown",
   "metadata": {
    "ein.tags": "worksheet-0",
    "slideshow": {
     "slide_type": "-"
    }
   },
   "source": [
    "The goal of this document is to quickly highly problems in different kind of utilitarianisms, and present a compromise between total and leximin utilitarianism.<br>\n",
    "\n",
    "I wrote this document with suffering and pleasure as the source of value in mind, anyway this document focus on how to aggregate the [intrinsic value](https://plato.stanford.edu/entries/value-intrinsic-extrinsic/) of a set of local things into the global intrinsic value of the sum of these things, and not on how to determine the intrinsic value of these local things.<br>\n",
    "So even if you intrinsically values something else that suffering and pleasure, like autonomy, the fullfilling of preferences, liberty, etc… (or a combinaison of theses), I think the idea highlighted here should still matter approximatively the same way.\n",
    "\n",
    "What is \"local\" here, will also be up to the reader. Probably a __[closed individualist](https://en.wikipedia.org/wiki/Open_individualism)__ will want to focus on individuals, where a empty/open individualist will want to focus on subjective experiences or qualia."
   ]
  },
  {
   "cell_type": "markdown",
   "metadata": {
    "ein.tags": "worksheet-0",
    "slideshow": {
     "slide_type": "-"
    }
   },
   "source": [
    "## Formalism"
   ]
  },
  {
   "cell_type": "markdown",
   "metadata": {},
   "source": [
    "We will focus on the quantity and intensity of things we consider to have intrinsics values in the world. (where negative intensity mean something bad, and positive intensity mean something good)<br>\n",
    "By example we could be interested in :\n",
    "- the quantity of subjectives experiences of suffering and pleasure of each intensity.\n",
    "- the quality of liberty of each individual.\n",
    "- the weighted satisfaction of preferences of each individual.\n",
    "- etc…\n",
    "    \n",
    "We will represente the possible worlds as __[multisets](https://en.wikipedia.org/wiki/Multiset)__ with elements taken in the set of real numbers.<br>\n",
    "By example, if what is valued is suffering and pleasure, and we want to represente a world composed of these 7 subjectives experiences :\n",
    "- 3 identically low pleasures (pleasure with 1 of intensity)\n",
    "- 2 identically low sufferings (-1)\n",
    "- 1 strong pleasure (100)\n",
    "- 1 strong suffering (-100)\n",
    "\n",
    "Then we can represent this worlds by : $[1, 1, 1, -1, -1, 100, -100]$ or more succinctly $[1^{\\S 3}, -1^{\\S 2}, 100, -100]$\n",
    "\n",
    "More formally, a possible world is represented by the set $\\{(X, m(X)) | X\\in \\mathbb{R}\\}$, where $m$ is the multiplicity function ($m:\\mathbb{R}\\to \\mathbb{N}$), and $\\mathbb{W}$ will be the set of all possible worlds :<br>\n",
    "$\\mathbb{W} = \\{ \\{(A, m(A)) | A\\in \\mathbb{R}\\} | m:\\mathbb{R}\\to \\mathbb{N}\\}$<br>\n",
    "$[1,5,5] = \\{(1, 1), (5, 2)\\} \\cup \\{(X, 0)|X\\in\\mathbb{R}\\setminus\\{1,5\\}\\}$\n",
    "\n",
    "We define the $+$ operation on worlds as usual on multisets :<br>\n",
    "$\\forall (a,b)\\in \\mathbb{W}^2, a+b = \\{(X, m_a(X)+m_b(X)|X\\in \\mathbb{R}\\}$\n",
    "\n",
    "It is then possible to decompose a world as a sum of its elements :<br>\n",
    "$\\forall w\\in\\mathbb{W}, w=\\sum_{i\\in\\mathbb{R}}m_w(i)*[i]$\n",
    "\n",
    "The cardinality of a world is its number of elements (that is, the sum of the quantity of element of each intensity):<br>\n",
    "$\\forall w\\in\\mathbb{W}, card(w) = |w| = \\sum_{i\\in \\mathbb{R}}m_w(i)$"
   ]
  },
  {
   "cell_type": "markdown",
   "metadata": {},
   "source": [
    "### Implicite requirement and generalization"
   ]
  },
  {
   "cell_type": "markdown",
   "metadata": {},
   "source": [
    "Sometime in the litterature the \"possible worlds\" are represented as a tuple instead of multiset, and the symmetry (or anonymity) axiom is required.<br>\n",
    "This axiom mean that any permutation of the elements of the tuple are equivalents.<br>\n",
    "Both ways means we don’t care about the order of the elements, but I think using multiset is simpler.\n",
    "\n",
    "Also we can easily generalize multiset to \"weighted set\" by choosing the multiplycity function to be $m : \\mathbb{R}\\to \\mathbb{R}$ instead of $m : \\mathbb{R}\\to \\mathbb{N}$.\n",
    "\n",
    "If we want to represente a continuous variation of a intensity, F(t), we can consider a limit of weighted set :<br>\n",
    "$w_F = \\lim_{n\\to\\infty} \\sum_{i\\in \\mathbb{N}, i/n \\in dom(F)} 1/n*[F(i/n)]$\n",
    "\n",
    "To avoid too much details and keep the connexion with tuples I will use multisets, but everything generalize easily with weighted sets.<br>\n",
    "I even think it generalize with limit of weighted sets, but if not we can still use a very large $n$ for $W_F$ "
   ]
  },
  {
   "cell_type": "markdown",
   "metadata": {},
   "source": [
    "### Utility function"
   ]
  },
  {
   "cell_type": "markdown",
   "metadata": {},
   "source": [
    "We want to be able to compare possible worlds, so we want a utility functions of the form $U :  \\mathbb{W} \\to E$  \n",
    "Where E is a __[totally ordered set](http://mathworld.wolfram.com/TotallyOrderedSet.html)__<br>\n",
    "And where $U(X) > U(Y)$ mean that the world X is better than the world Y. (or that we should choose X over Y)\n",
    "\n",
    "Most of the time $E=\\mathbb{R}$, but some order (like leximin), can’t be represented in $\\mathbb{R}$.\n",
    "\n",
    "Because by convention a element of positive/negative intensity represents something good/bad, we will also require :<br>\n",
    "$x>0 \\Leftrightarrow U([x])>0_E$<br>\n",
    "$x<0 \\Leftrightarrow U([x])<0_E$<br>\n",
    "This implies that :<br>\n",
    "$x=0 \\Leftrightarrow U([x])=0_E$"
   ]
  },
  {
   "cell_type": "markdown",
   "metadata": {
    "ein.tags": "worksheet-0",
    "slideshow": {
     "slide_type": "-"
    }
   },
   "source": [
    "## Total utilitarianism"
   ]
  },
  {
   "cell_type": "markdown",
   "metadata": {
    "ein.tags": "worksheet-0",
    "slideshow": {
     "slide_type": "-"
    }
   },
   "source": [
    "Total utilitarianism is the simplest form of utilitarianism, we just sum the intensity of every elements:<br> \n",
    "$U_T(w) = U_T(\\sum_{i \\in \\mathbb{R}} m_w(i)*[i]) = \\sum_{i \\in \\mathbb{R}} m_w(i)*i$<br>\n",
    "Example :  \n",
    "$U_T([-5^{\\S 2},3^{\\S 3},7^{\\S 4}]) = 2*(-5) + 3*3 + 4*7 = 27$\n",
    "\n",
    "The main problem is that we are lacking some idea of equity :  \n",
    "$U_T([10, 10]) < U_T([-50, 71])$\n",
    "\n",
    "And also it implies what is called the repugnant conclusion :  \n",
    "$U_T([100^{\\S 100}]) < U_T([1^{\\S 10001}])$"
   ]
  },
  {
   "cell_type": "markdown",
   "metadata": {
    "ein.tags": "worksheet-0",
    "slideshow": {
     "slide_type": "-"
    }
   },
   "source": [
    "## The repugnant conclusion and local independance"
   ]
  },
  {
   "cell_type": "markdown",
   "metadata": {
    "ein.tags": "worksheet-0",
    "slideshow": {
     "slide_type": "-"
    }
   },
   "source": [
    "### Local independance"
   ]
  },
  {
   "cell_type": "markdown",
   "metadata": {
    "ein.tags": "worksheet-0",
    "slideshow": {
     "slide_type": "-"
    }
   },
   "source": [
    "Our utility function should be **locally independant**.  \n",
    "It mean that if a local thing X is intrinsically better than another local thing Y, it stay intrinsically better if you change something else in the world:<br>\n",
    "$\\forall (X,Y,A,B) \\in \\mathbb{W}^4, U(X+A) > U(Y+A) \\Rightarrow U(X+B) > U(Y+B)$\n",
    "\n",
    "\n",
    "Failling to meet this criteria would be strongly problematic because you would always have to take into account the whole to know what to do locally. (even the part of this whole that are causally independant of what you choose to do). \n",
    "\n",
    "This means that even if you know you have no influence on something, or that your expected influence is neutral, you can’t avoid to take it into account because the intrinsic value of the things you have direct influence on, would be dependant of what is the whole (and this, even if you have no knowledge on this whole)."
   ]
  },
  {
   "cell_type": "markdown",
   "metadata": {},
   "source": [
    "### From local independance to summation"
   ]
  },
  {
   "cell_type": "markdown",
   "metadata": {},
   "source": [
    "It is important to note that we are only interested in the order represented by the utility function, so if two functions represent the same order, they are equilavent :<br>\n",
    "$U_1$ is equivalent to $U_2$ if $\\forall (x,y)\\in\\mathbb{W}^2, U_1(x)<U_1(y) \\Leftrightarrow U_2(x)<U_2(y)$\n",
    "\n",
    "Take $U : \\mathbb{W}\\to E$ a locally independant utility function.<br>\n",
    "We can create $C(w)$ the equilavence class of all element with the same value than $w$ : <br>\n",
    "$C(w) = \\{x\\in \\mathbb{W} | U(x)=U(w)\\}$ <br>\n",
    "By local independance we have : <br>\n",
    "$U(x)=U(y) \\Rightarrow U(x+c)=U(y+c)$\n",
    "\n",
    "so \n",
    "\n",
    "$\n",
    "\\begin{align*}\n",
    "x1\\in C(x2) \\text{ and } y2\\in C(y2) &\\Rightarrow U(x1)=U(x2) \\text{ and } U(y1)=U(y2)\\\\\n",
    "&\\Rightarrow U(x1+y1)=U(x2+y1) \\text{ and } U(x2+y1)=U(x2+y2) \\text{ (local independance)}\\\\\n",
    "&\\Rightarrow U(x1+y1)=U(x2+y2)\\\\\n",
    "&\\Rightarrow C(x1+y1)=C(x2+y2)\\\\\n",
    "\\end{align*}\n",
    "$\n",
    "\n",
    "\n",
    "It means that $C(x+y)$ is completely determined by $C(x)$ and $C(y)$, so we can define the $+$ operator on the equivalences classes : $C(x)+C(y) = C(x+y)$\n",
    "\n",
    "And we create a order relation on these classes : <br>\n",
    "$C(x)<C(y)\\Leftrightarrow U(x)<U(y)$\n",
    "\n",
    "We can now define a new utility function $U_c$ representing the same order relation than $U$ :<br>\n",
    "$U_c(w) = C(w)$<br>\n",
    "$\n",
    "\\begin{align*}\n",
    "U_c(x)<U_c(y) &\\Leftrightarrow C(x)<C(y)\\\\\n",
    "&\\Leftrightarrow U(x)<U(y)\n",
    "\\end{align*}\n",
    "$\n",
    "\n",
    "So we have :<br>\n",
    "$U_c(x+y)=C(x+y)=C(x)+C(y)=U_c(x)+U_c(y)$<br>\n",
    "Or more generally :<br>\n",
    "$U_c(w)= C(\\sum_{i\\in\\mathbb{R}} m_w(i)*[i]) = \\sum_i m_w(i)*C([i]) = \\sum_i m_w(i)*U_c([i])$\n",
    "\n",
    "It means that as soon as we have a locally independant utility function, we can find a equilavent linear utility function. <br>\n",
    "It is easy to see the reciprocal is also true : A linear utility function is locally independant.\n",
    "\n",
    "Example, the locally independant utility function:<br>\n",
    "$U(w)=\\prod_{i\\in\\mathbb{R}^{\\bf{+}}}m_x(i)*i$<br>\n",
    "Is equilavent (represents the same order relation) to the linear function : <br>\n",
    "$U(w)=\\sum_{i\\in\\mathbb{R}^{\\bf{+}}}m_x(i)*ln(i)$"
   ]
  },
  {
   "cell_type": "markdown",
   "metadata": {
    "ein.tags": "worksheet-0",
    "slideshow": {
     "slide_type": "-"
    }
   },
   "source": [
    "### Average utilitarianism"
   ]
  },
  {
   "cell_type": "markdown",
   "metadata": {
    "ein.tags": "worksheet-0",
    "slideshow": {
     "slide_type": "-"
    }
   },
   "source": [
    "Instead the sum of local utilities, average utilitarianism compute the average:  \n",
    "$U_A(X) = \\cfrac{\\sum_{i \\in \\mathbb{R}} m_X(i)*i}{|X|}$  \n",
    "Example :  \n",
    "$U_A([-5^{\\S 2},3^{\\S 3},7^{\\S 4}]) = \\cfrac{(2*-5 + 3*3 + 4*7)}{(2+3+4)} = 3$\n",
    "\n",
    "I think the main idea of average utilitarianism was to avoid the repugnant conclusion.  \n",
    "Unfortunately this version of utilitarianism isn’t locally independant (and also sort of crazy):  \n",
    "$U_A([10]) > U_A([9, 9])$  \n",
    "but:  \n",
    "$U_A([10, 5, 5]) < U_A([9, 9, 5, 5])$  \n",
    "\n",
    "But if you think it is still good, you also have :  \n",
    "$U_A([-99^{\\S 100}, -100]) > U_A([-100])$  \n",
    "$U_A([100]) > U_A([99^{\\S 100}, 100])$"
   ]
  },
  {
   "cell_type": "markdown",
   "metadata": {
    "ein.tags": "worksheet-0",
    "slideshow": {
     "slide_type": "-"
    }
   },
   "source": [
    "### The repugnant conclusion is hardly avoidable"
   ]
  },
  {
   "cell_type": "markdown",
   "metadata": {
    "ein.tags": "worksheet-0",
    "slideshow": {
     "slide_type": "-"
    }
   },
   "source": [
    "The only way to avoid the repugnant conclusion would be to have a good thing which is better than an arbitrarily large number of something arbitrarily close to this thing : <br>\n",
    "$\\exists V\\in \\mathbb{R}_{>0}, \\forall \\epsilon \\in \\mathbb{R}_{>0}, \\forall N \\in \\mathbb{N} , U([V]) > U([(V-\\epsilon)^{\\S N}])$\n",
    "\n",
    "Otherwise you would be able to start from $V$, remove $\\epsilon$ an abritrary number of time (making $N$ grow exponentially in the process), and end up with something arbitrarely close to 0 :<br>\n",
    "$U([V]) < U([(V-\\epsilon)^{\\S N_1}]) < U([(V-2*\\epsilon)^{\\S N_1*N_2}]) < \\ldots$\n",
    "\n",
    "I find it really weird and hard to accept, and I think it is much more acceptable to just \"bite the other bullet\", and accept the repugnant conclusion.<br>\n",
    "In fact I don’t think the repugnant conclusion is a problem at all, but this is outside the scope of this article."
   ]
  },
  {
   "cell_type": "markdown",
   "metadata": {
    "ein.tags": "worksheet-0",
    "slideshow": {
     "slide_type": "-"
    }
   },
   "source": [
    "## Leximin utilitarianism"
   ]
  },
  {
   "cell_type": "markdown",
   "metadata": {
    "ein.tags": "worksheet-0",
    "slideshow": {
     "slide_type": "-"
    }
   },
   "source": [
    "The name \"leximin\" come from the __[lexicographic ordering](https://en.wikipedia.org/wiki/Lexicographic_preferences)__\n",
    "\n",
    "The basic idea is to never make the situation of \"someone\" worse, in order to improve the situation of someone else who is already better off than him.\n",
    "\n",
    "To compare two worlds, leximin utilitarianism will compare the respective worst elements of these two worlds (and then the respective second worsts elements if the worsts are equals, etc…)<br>\n",
    "$\\forall (X,Y) \\in \\mathbb{W}^2, (U_L(X) > U_L(Y) \\Leftrightarrow \\exists V \\in \\mathbb{R},(m_X(V) < m_Y(V)) \\text{ and } (\\forall P<V, m_X(P) = m_Y(P)))$\n",
    "\n",
    "Another way to say the same thing, is that if we remove everything common elements, the best world is the world with the more intense element of minimal intensity.<br>\n",
    "$\\forall (X,Y) \\in \\mathbb{W}^2, U_L(X) > U_L(Y) \\Leftrightarrow min(X - X \\cap Y) > min(Y - X \\cap Y)$<br>\n",
    "where $\\forall w\\in\\mathbb{W}, min(w)=min(\\{x|m_w(x)>0\\})$\n",
    "\n",
    "Example :<br>\n",
    "$U_L([-1, -2, -2, 4, 5]) > U_L([-1, -2, -2, 3, 10])$ because $4>3$ (or because $m_X(3)=0 < 1=m_Y(3)$)\n",
    "\n",
    "You could note that $U_L$ is locally independant, this means there is a way to express it as a summation on singleton worlds. For that we could use polynomials ordered by the relation:<br>\n",
    "$P1<P2 \\Leftrightarrow \\lim_{x\\to\\infty} P1(x)<P2(x)$\n",
    "\n",
    "So the commons terms could be removed, and only the remaining term of highter degree count. Taking care of $U_L([0])=0$ we can define $U_L$ with the two relations :<br>\n",
    "$U_L(w)= \\sum_{i\\in\\mathbb{R}} m_w(i) * U_L([i])$<br>\n",
    "$U_L([a]) = 1-X^{-a}$\n",
    "\n",
    "Illustration :<br>\n",
    "$\n",
    "\\begin{align*}\n",
    "U_L([-1, -2, -2, 4, 5]) - U_L([-1, -2, -2, 3, 10]) &= (5 - X^1 - 2*X^2 - X^{-4} - X^{-5}) - (5 - X^1 - 2*X^2 - X^{-3} - X^{-10})\\\\\n",
    "&= X^{-3} + X^{-10} - X^{-4} - X^{-5}\\\\\n",
    "&> 0\\\\\n",
    "U_L([-1, -2, -2, 4, 5]) > U_L([-1, -2, -2, 3, 10])\n",
    "\\end{align*}\n",
    "$\n",
    "\n",
    "We can say than contrary to total utilitarianism, leximin utilitarianism focus entirely on equity.  \n",
    "Unfortunately, while entirely focusing on equity, it doesn’t take quantity into account anymore:<br>\n",
    "$U_L([100]) < U_L([99.9^{\\S 99999}])$<br>\n",
    "and worse :<br>\n",
    "$U_L([-100]) < U_L([-99.9^{\\S 99999}])$<br>\n",
    "\n",
    "It seems too extreme to me, and this is why I want to propose a compromise between leximin and total utilitarianism."
   ]
  },
  {
   "cell_type": "markdown",
   "metadata": {},
   "source": [
    "## Negative utilitarianism"
   ]
  },
  {
   "cell_type": "markdown",
   "metadata": {},
   "source": [
    "On the same idea than leximin utilitarianism, there is negative utilitarianism where a suffering is infinitely more important than a pleasure :<br>\n",
    "$U_N(w) = \\sum_{i\\in\\mathbb{R}^+}m_w(i)*i + X*\\sum_{i\\in\\mathbb{R}^-}m_w(i)*i$\n",
    "\n",
    "The problem is that negavite utilitarianism have no equity consideration on $\\mathbb{R}^+$ or $\\mathbb{R}^-$<br>\n",
    "$U_N([-10, -10]) <  U_N([-18,-1])$}<br>\n",
    "$U_N([10, 10]) < U_N([20, 1])$\n",
    "\n",
    "It is also vulnerable to the pinprick argument : <br>\n",
    "$U_N([-1, 100^{\\S 99999}]) < U_N([0])$"
   ]
  },
  {
   "cell_type": "markdown",
   "metadata": {
    "ein.tags": "worksheet-0",
    "slideshow": {
     "slide_type": "-"
    }
   },
   "source": [
    "## K-utilitarianism"
   ]
  },
  {
   "cell_type": "markdown",
   "metadata": {
    "ein.tags": "worksheet-0",
    "slideshow": {
     "slide_type": "-"
    }
   },
   "source": [
    "### A compromise"
   ]
  },
  {
   "cell_type": "markdown",
   "metadata": {
    "ein.tags": "worksheet-0",
    "slideshow": {
     "slide_type": "-"
    }
   },
   "source": [
    "What seems more reasonable, is a utility function which value equity **and** quantity. Something \"between\" leximin and total utilitarianism.\n",
    "\n",
    "The principle leading to leximin utilitarianism, namely:<br>\n",
    "> Never make the situation of \"someone\" worse, in order to improve the situation of someone else who is already better off than him.<br>\n",
    "\n",
    "Can be reformulated as :<br>\n",
    "\n",
    "> Improving the situation of someone in a worse situation is infinitely more important than improving the situation of someone else in a better one.<br>\n",
    "\n",
    "When for total utilitarianism, improving the situation of someone or someone else is equally important, no matter the respective situations.\n",
    "\n",
    "We can focus our attention on one element because of the local independance, we define the gain obtened by improving the situation of the element $x$ by $e$ relative to the utility function U :<br>\n",
    "$gain(U, x, e) = U([x+e])-U([x])$\n",
    "\n",
    "So for leximin utilitarianism we have :<br>\n",
    "$\\forall e>0, \\forall x, \\forall n, gain(U_L, x, e) > n * gain(U_L, x+e, e)$<br>\n",
    "And for total utilitarianism :<br>\n",
    "$\\forall e>0, \\forall x, gain(U_T, x, e) = gain(U_T, x+e, e)$<br>\n",
    "\n",
    "Instead, to build a compromise, we choose utility function parameterized by $K \\in [1, \\infty[$, which follow this proprety :<br>\n",
    "$\\forall e>0, \\forall x, gain(U_K, x, e) = K*gain(U_K, x+e, e)$<br>\n",
    "\n",
    "So $K$ represent how much we want to care for equity, and we have :<br>\n",
    "$U_{K=1} = U_T$<br>\n",
    "$lim_{K\\to\\infty}U_K = U_L$\n",
    "\n",
    "Note that at first I wanted a compromise between leximin and total utilitarianism, that is, a utility function which would agree with $U_T$ and $U_L$ when they agree together, but it lead to a particular problem I will explain at the end of this article.<br>\n",
    "So take into account the compromise is between the principles which lead to both utility functions, and not between the actual utility function.\n",
    "\n",
    "There is also a concerne about why the ratio of the gain should be constant, it seems intuitive to me, and I believe we can find good reasons to defend it, but for now I am still unclear about how to make a strong argument for it."
   ]
  },
  {
   "cell_type": "markdown",
   "metadata": {
    "ein.tags": "worksheet-0",
    "slideshow": {
     "slide_type": "-"
    }
   },
   "source": [
    "### Finding the function"
   ]
  },
  {
   "cell_type": "markdown",
   "metadata": {
    "ein.tags": "worksheet-0",
    "slideshow": {
     "slide_type": "-"
    }
   },
   "source": [
    "This paragraph is just some basics calculus to find the function from its properties, feel free to pass it. \n",
    "\n",
    "We have :\n",
    "$\\forall e>0, \\forall x, gain(U_K, x, e) = K*gain(U_K, x+e, e)$<br>\n",
    "$U_K([0]) = 0$\n",
    "\n",
    "let choose a particular $e$, and to simplify calculus pose :\n",
    "$T_K(x) = U_K([x])$\n",
    "$b = T_K(e)$<br>\n",
    "\n",
    "\n",
    "$T_K(x+e)-T_K(x) = K*(T_K(x+2*e)-T_K(x+e))$<br>\n",
    "$T_K(x+2*e) = (T_K(x+e)*(K+1)-T_K(x)) / K$<br>\n",
    "$T_K(0)=0$<br>\n",
    "$T_K(e)=b$<br>\n",
    "$T_K(2*e)=(T_K(e)*(K+1)-T_K(0)) / K = (b*(K+1)-0)/K = b*(1+1/K)$<br>\n",
    "$T_K(3*e)=(T_K(2*e)*(K+1)-T_K(e)) / K = (b*(1+1/K)*(K+1)-b)/K = b*(1+1/K+1/K^2)$\n",
    "\n",
    "Suppose :<br>\n",
    "$\n",
    "\\begin{align*}\n",
    "T_K(n*e) = b*\\sum_{i=0}^{n-1} 1/K^{i}\n",
    "\\end{align*}\n",
    "$<br>\n",
    "So :<br>\n",
    "$\n",
    "\\begin{align*}\n",
    "T_K((n+1)*e) &= (b*\\sum_{i=0}^{n-1} 1/K^{i}*(K+1) - b*\\sum_{i=0}^{n-2} 1/K^{i})/K\\\\\n",
    "&=  b * (K * \\sum_{i=0}^{n-1} 1/K^{i} + \\sum_{i=0}^{n-1} 1/K^{i} - \\sum_{i=0}^{n-2} 1/K^{i}))/K\\\\\n",
    "&= b*(\\sum_{i=0}^{n-1} 1/K^{i-1} + 1/K^{n-1})/K\\\\\n",
    "&= b*(\\sum_{i=0}^{n} 1/K^{i-1})/K\\\\\n",
    "&= b*(\\sum_{i=0}^{n} 1/K^{i})\\\\\n",
    "\\end{align*}\n",
    "$\n",
    "\n",
    "So by induction we have :<br>\n",
    "$\n",
    "\\begin{align*}\n",
    "T_K(n*e)&=b*\\sum_{i=0}^{n-1} 1/K^{i}\\\\\n",
    "& = \n",
    "\\begin{cases}\n",
    "b*(K-K^{(1-n)}) / (K-1), &\\text{for } K>1\\\\\n",
    "b*n, &\\text{for } K=1\n",
    "\\end{cases}\n",
    "\\end{align*}\n",
    "$\n",
    "\n",
    "\n",
    "We can extend the function on $\\mathbb{R}$ to get :<br>\n",
    "\n",
    "$\n",
    "T_K(x) =\n",
    "\\begin{cases}\n",
    "b * (K-K^{(1-x/e)}) / (K-1),&\\text{for } K>1\\\\\n",
    "b * n,&\\text{for } K=1\\\\\n",
    "\\end{cases}\n",
    "$\n",
    "\n",
    "And because multiplying by a contant doesn’t change the order, we can simplify it :<br>\n",
    "$T_K(x) = 1-K^{-x/e}$\n",
    "\n",
    "We can see that $e$ only play the role of a horizontal change of scale, and we almost have the same expression as the one for leximin utilitarianism.\n",
    "\n",
    "We verify we actually get what we wanted :"
   ]
  },
  {
   "cell_type": "code",
   "execution_count": 2,
   "metadata": {},
   "outputs": [
    {
     "data": {
      "text/latex": [
       "\\begin{equation*}- K \\left(- K^{\\frac{- 2 e - x}{e}} + K^{\\frac{- e - x}{e}}\\right) - K^{\\frac{- e - x}{e}} + K^{- \\frac{x}{e}}\\end{equation*}"
      ],
      "text/plain": [
       "    ⎛   -2⋅e - x    -e - x⎞    -e - x    -x \n",
       "    ⎜   ────────    ──────⎟    ──────    ───\n",
       "    ⎜      e          e   ⎟      e        e \n",
       "- K⋅⎝- K         + K      ⎠ - K       + K   "
      ]
     },
     "metadata": {},
     "output_type": "display_data"
    },
    {
     "data": {
      "text/latex": [
       "\\begin{equation*}0\\end{equation*}"
      ],
      "text/plain": [
       "0"
      ]
     },
     "metadata": {},
     "output_type": "display_data"
    }
   ],
   "source": [
    "using SymPy\n",
    "\n",
    "@vars K x e\n",
    "\n",
    "Tk(x) = 1-K^(-x/e)\n",
    "\n",
    "gain(x, e) = Tk(x+e)-Tk(x)\n",
    "\n",
    "eq = gain(x, e) - K*gain(x+e, e)\n",
    "\n",
    "display(eq)\n",
    "display(simplify(eq))"
   ]
  },
  {
   "cell_type": "markdown",
   "metadata": {},
   "source": [
    "### What Tk look like"
   ]
  },
  {
   "cell_type": "code",
   "execution_count": 1,
   "metadata": {},
   "outputs": [
    {
     "ename": "LoadError",
     "evalue": "UndefVarError: x not defined",
     "output_type": "error",
     "traceback": [
      "UndefVarError: x not defined",
      "",
      "Stacktrace:",
      " [1] top-level scope at In[1]:4"
     ]
    }
   ],
   "source": [
    "using Plots\n",
    "\n",
    "# We fix Tk(1)=1 to get a better comparaison\n",
    "Tk_scaled = (K-K^(1-x))/(K-1)\n",
    "\n",
    "plot(Tk_scaled(K=>1.001), -2, 5, label=\"k=1.001\", legend=:bottomright)\n",
    "for i in 1.2:0.2:2\n",
    "    plot!(Tk_scaled(K=>i), -2, 5, label=\"k=$i\")\n",
    "end"
   ]
  },
  {
   "cell_type": "markdown",
   "metadata": {},
   "source": [
    "### "
   ]
  }
 ],
 "metadata": {
  "kernelspec": {
   "display_name": "Julia 1.5.1",
   "language": "julia",
   "name": "julia-1.5"
  },
  "language_info": {
   "file_extension": ".jl",
   "mimetype": "application/julia",
   "name": "julia",
   "version": "1.5.1"
  },
  "name": "k-utilitarianism.ipynb"
 },
 "nbformat": 4,
 "nbformat_minor": 4
}
