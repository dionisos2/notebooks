{
 "cells": [
  {
   "cell_type": "markdown",
   "metadata": {
    "ein.tags": "worksheet-0",
    "slideshow": {
     "slide_type": "-"
    }
   },
   "source": [
    "# A compromise between total and leximin utilitarianism"
   ]
  },
  {
   "cell_type": "markdown",
   "metadata": {
    "ein.tags": "worksheet-0",
    "slideshow": {
     "slide_type": "-"
    }
   },
   "source": [
    "## Introduction"
   ]
  },
  {
   "cell_type": "markdown",
   "metadata": {
    "ein.tags": "worksheet-0",
    "slideshow": {
     "slide_type": "-"
    }
   },
   "source": [
    "The goal of this document is to quickly highly problems in different kind of utilitarianisms, and present a compromise between total and leximin utilitarianism.  \n",
    "\n",
    "I wrote this document with suffering and pleasure as the source of value in mind.\n",
    "Anyway this document focus on how to aggregate the [intrinsic value](https://plato.stanford.edu/entries/value-intrinsic-extrinsic/) of a set of local things into the global intrinsic value of the sum of these things, and not on how to determine the intrinsic value of these local things.  \n",
    "So even if you intrinsically values something else that suffering and pleasure, like autonomy, the fullfilling of preferences, liberty, etc… (or a combinaison of theses), I think the idea highlighted here should still matter approximatively the same way.  \n",
    "\n",
    "What is \"local\" here, will also be up to the reader. Probably a __[closed individualist](https://en.wikipedia.org/wiki/Open_individualism)__ will want to focus on part of the life of individual, where a empty/open individualist will want to focus on subjective experiences or qualia. "
   ]
  },
  {
   "cell_type": "markdown",
   "metadata": {},
   "source": []
  },
  {
   "cell_type": "markdown",
   "metadata": {
    "ein.tags": "worksheet-0",
    "slideshow": {
     "slide_type": "-"
    }
   },
   "source": [
    "## Formalism\n",
    "\n",
    "We take as a given some method to determine the intrinsic value of t\n",
    "\n",
    "We will represente the possible worlds as __[multiset](https://en.wikipedia.org/wiki/Multiset)__ with element taken in the set of real number.\n",
    "a(R,m)\n",
    "\n",
    "\n",
    "By example, if what is valued is suffering and pleasure, and we want to represente a world composed of these 7 subjective experiences:  \n",
    "- 3 identically low pleasure (That we will assign a intrinsic value of 1)\n",
    "- 2 identically low suffering (-1)\n",
    "- 1 strong pleasure (100)\n",
    "- 1 strong suffering (-100)\n",
    "\n",
    "Then we can represent this worlds by : $[1, 1, 1, -1, -1, 100, -100]$ or more succinctly $[1^{3}, -1^{2}, 100, -100]$\n",
    "\n",
    "$\\mathbb{W}$ will be the set of all possible world:  \n",
    "$\\mathbb{W} = \\{(A, m_A) | A\\in \\mathbb{R}, m_A:\\mathbb{R}\\to \\mathbb{N}\\}$\n",
    "\n",
    "Our utility functions will be of the form $\\textbf{U} :  \\mathbb{W} \\to E$  \n",
    "Where E is a __[totally ordered set](http://mathworld.wolfram.com/TotallyOrderedSet.html)__  \n",
    "And where $\\textbf{U}(X) > \\textbf{U}(Y)$ mean that the world X is better than the world Y. (or that we should choose X over Y)\n",
    "\n",
    "Most of the time $E=\\mathbb{R}$, but some order (like leximin), can’t be represented in $\\mathbb{R}$."
   ]
  },
  {
   "cell_type": "markdown",
   "metadata": {
    "ein.tags": "worksheet-0",
    "slideshow": {
     "slide_type": "-"
    }
   },
   "source": [
    "## Total utilitarianism"
   ]
  },
  {
   "cell_type": "markdown",
   "metadata": {
    "ein.tags": "worksheet-0",
    "slideshow": {
     "slide_type": "-"
    }
   },
   "source": [
    "Total utilitarianism is the simplest form of utilitarianism, we just sum the utility of every local part:  \n",
    "$\\textbf{U}_T(X) = \\sum_{i \\in Supp(X)} m_X(i)*i$  \n",
    "Example :  \n",
    "$\\textbf{U}_T([-5^2,3^3,7^4]) = 2*-5 + 3*3 + 4*7 = 27$\n",
    "\n",
    "The main problem is that we are lacking some idea of equity :  \n",
    "$\\textbf{U}_T([10, 10]) < \\textbf{U}_T([-50, 71])$\n",
    "\n",
    "And also it implies what is called the repugnant conclusion :  \n",
    "$\\textbf{U}_T([100^{100}]) < \\textbf{U}_T([1^{10001}])$"
   ]
  },
  {
   "cell_type": "markdown",
   "metadata": {
    "ein.tags": "worksheet-0",
    "slideshow": {
     "slide_type": "-"
    }
   },
   "source": [
    "## The repugnant conclusion and local independance"
   ]
  },
  {
   "cell_type": "markdown",
   "metadata": {
    "ein.tags": "worksheet-0",
    "slideshow": {
     "slide_type": "-"
    }
   },
   "source": [
    "### Local independance"
   ]
  },
  {
   "cell_type": "markdown",
   "metadata": {
    "ein.tags": "worksheet-0",
    "slideshow": {
     "slide_type": "-"
    }
   },
   "source": [
    "I believe our utility function should be \"locally independant\".  \n",
    "By that I mean that if a local thing X is better than another local thing Y, it stay better whatever you change outside it.\n",
    "\n",
    "$\\forall (X,Y,A,B) \\in \\mathbb{W}^4, \\textbf{U}(X+A) > \\textbf{U}(Y+A) \\Rightarrow \\textbf{U}(X+B) > \\textbf{U}(Y+B)$\n",
    "\n",
    "\n",
    "Failling to meet this criteria would be strongly problematic because you would always have take into account the whole to know what to do locally. (even the part of this whole that are causally independant of what you choose to do).  \n",
    "That mean that even if you know you have no influence on something, or that your expected influence is neutral, you can’t avoid to take it into account because the intrinsic value of the things you have direct influence on, would be dependant of the whole."
   ]
  },
  {
   "cell_type": "markdown",
   "metadata": {
    "ein.tags": "worksheet-0",
    "slideshow": {
     "slide_type": "-"
    }
   },
   "source": [
    "### Average utilitarianism"
   ]
  },
  {
   "cell_type": "markdown",
   "metadata": {
    "ein.tags": "worksheet-0",
    "slideshow": {
     "slide_type": "-"
    }
   },
   "source": [
    "Instead the sum of local utilities, average utilitarianism compute the average:  \n",
    "$\\textbf{U}_A(X) = \\cfrac{\\sum_{i \\in Supp(X)} m_X(i)*i}{|X|}$  \n",
    "Example :  \n",
    "$\\textbf{U}_A([-5^2,3^3,7^4]) = \\cfrac{(2*-5 + 3*3 + 4*7)}{(2+3+4)} = 3$\n",
    "\n",
    "I think the main idea of average utilitarianism was to avoid the repugnant conclusion.  \n",
    "Unfortunately this version of utilitarianism isn’t locally independant (and also sort of crazy):  \n",
    "$\\textbf{U}_A([10]) > \\textbf{U}_A([9, 9])$  \n",
    "but:  \n",
    "$\\textbf{U}_A([10, 5, 5]) < \\textbf{U}_A([9, 9, 5, 5])$  \n",
    "\n",
    "But if you think it is still good, you also have :  \n",
    "$\\textbf{U}_A([-99^{100}, -100]) > \\textbf{U}_A([-100])$  \n",
    "$\\textbf{U}_A([100]) > \\textbf{U}_A([99^{100}, 100])$"
   ]
  },
  {
   "cell_type": "markdown",
   "metadata": {
    "ein.tags": "worksheet-0",
    "slideshow": {
     "slide_type": "-"
    }
   },
   "source": [
    "### The repugnant conclusion is hardly avoidable"
   ]
  },
  {
   "cell_type": "markdown",
   "metadata": {
    "ein.tags": "worksheet-0",
    "slideshow": {
     "slide_type": "-"
    }
   },
   "source": [
    "The only way to avoid the repugnant conclusion while keeping local independence would be to have, somewhere in the utility function, a local utility which is infinitely more valuable that another arbitrarily close local utility:  \n",
    "\n",
    "$\\forall \\epsilon \\in \\mathbb{R}_{>0}, \\exists V \\in \\mathbb{R}_{>0}, \\forall N , \\in \\mathbb{N} , U([V]) > U([(V-\\epsilon)^N])$  \n",
    "Otherwise you would be able to start from $V$, remove $\\epsilon$ an abritrary number of time (making $N$ grow exponentially in the process), and end up with something arbitrarely close to 0 :  \n",
    "$\\textbf{U}([V]) < \\textbf{U}([(V-\\epsilon)^{N_1}]) < \\textbf{U}([(V-2*\\epsilon)^{N_1*N_2}]) < \\ldots$\n",
    "\n",
    "I find it really weird and hard to accept, and I think it is much more acceptable to just \"bite the other bullet\", and accept the repugnant conclusion."
   ]
  },
  {
   "cell_type": "markdown",
   "metadata": {
    "ein.tags": "worksheet-0",
    "slideshow": {
     "slide_type": "-"
    }
   },
   "source": [
    "## Leximin utilitarianism"
   ]
  },
  {
   "cell_type": "markdown",
   "metadata": {
    "ein.tags": "worksheet-0",
    "slideshow": {
     "slide_type": "-"
    }
   },
   "source": [
    "To compare two worlds, leximin utilitarianism will compare the respective worst local utility of these two world (and then the second worsts if the worsts are equal, etc…)  \n",
    "$\\forall (X,Y) \\in \\mathbb{W}^2, (\\textbf{U}_L(X) > \\textbf{U}_L(Y) \\Leftrightarrow \\exists V \\in \\mathbb{R},(m_X(V) < m_Y(V)) \\: \\text{and} \\: (\\forall P<V, m_X(P) = m_Y(P)))$  \n",
    "\n",
    "Another way to say the same thing, is that if we remove everything that is common, the best world is the world with the bigger minimum:  \n",
    "$\\forall (X,Y) \\in \\mathbb{W}^2, (\\textbf{U}_L(X) > \\textbf{U}_L(Y) \\Leftrightarrow min(Supp(X - X \\cap Y)) > min(Supp(Y - X \\cap Y))$\n",
    "\n",
    "(you could note that $\\textbf{U}_L$ is locally independant)\n",
    "\n",
    "Example :  \n",
    "$\\textbf{U}_L([-1, -2, -2, 4, 5]) > \\textbf{U}_L([-1, -2, -2, 3, 10])$ because $4>3$ (or $m_X(3)=0 < 1=m_Y(3)$)\n",
    "\n",
    "The name \"leximin\" come from the __[lexicographic ordering](https://en.wikipedia.org/wiki/Lexicographic_preferences)__\n",
    "\n",
    "The idea is to never make the situation of \"someone\" worse, to improve the situation of person already better off than him.  \n",
    "We can say than contrary to total utilitarianism, leximin utilitarianism focus entirely on equity.  \n",
    "\n",
    "Unfortunately, while entirely focusing on equity, it doesn’t take quantity into account anymore:  \n",
    "$\\textbf{U}_L([100]) < \\textbf{U}_L([99.9^{99999}])$  \n",
    "and worse :  \n",
    "$\\textbf{U}_L([-100]) < \\textbf{U}_L([-99.9^{99999}])$\n",
    "\n",
    "It seems too extreme to me, and that is why I want to propose a compromise between leximin and total utilitarianism"
   ]
  },
  {
   "cell_type": "markdown",
   "metadata": {
    "ein.tags": "worksheet-0",
    "slideshow": {
     "slide_type": "-"
    }
   },
   "source": [
    "## K-utilitarianism"
   ]
  },
  {
   "cell_type": "markdown",
   "metadata": {
    "ein.tags": "worksheet-0",
    "slideshow": {
     "slide_type": "-"
    }
   },
   "source": [
    "### The transformation function"
   ]
  },
  {
   "cell_type": "markdown",
   "metadata": {
    "ein.tags": "worksheet-0",
    "slideshow": {
     "slide_type": "-"
    }
   },
   "source": [
    "The idea is that we will do a sum, like in total utilitarianism, except that for giving more weight to the utility of the worst off, we will first transform each local utility with a unlinear function $\\textbf{T}_K: \\mathbb{R} \\to \\mathbb{R}$\n",
    "\n",
    "$\\textbf{U}_K(X) = \\sum_{i \\in Supp(X)} m_X(i)*\\textbf{T}_K(i)$\n",
    "\n",
    "$K$ will be a parameter which will specify how much we \"weight\" equity over quantity."
   ]
  },
  {
   "cell_type": "markdown",
   "metadata": {
    "ein.tags": "worksheet-0",
    "slideshow": {
     "slide_type": "-"
    }
   },
   "source": [
    "### The properties of $T_K$"
   ]
  },
  {
   "cell_type": "markdown",
   "metadata": {
    "ein.tags": "worksheet-0",
    "slideshow": {
     "slide_type": "-"
    }
   },
   "source": [
    "The properties we want for $T_K$ and $U_K$ will be given by order of importance.  \n",
    "(Local independence of $U_K$ is already assured by how we construct the function)\n",
    "\n",
    "__Property 1__ : $T_K$ should be strictly increasing.\n",
    "\n",
    "The most obvious property is that $T_K$ should be a strictly increasing function, because if something is locally better, it should also be better regarding the global utility.\n",
    "\n",
    "__Property 2__ : The derivative of $T_K$ should be decreasing.\n",
    "\n",
    "What we want is to give more weight to the worst off, that mean we want:  \n",
    "$\n",
    "\\begin{align}\n",
    "T_K(x)&=W_1*x \\\\\n",
    "T_K(y)&=W_2*x \\\\\n",
    "x<y &\\Rightarrow W_1>W_2 &\\\\\n",
    "&\\Rightarrow \\cfrac{T_K(x)}{x}>\\cfrac{T_K(y)}{y}  &\\\\\n",
    "&\\Rightarrow T_K\\prime(x) > T_K\\prime(y)\n",
    "\\end{align}\n",
    "$\n",
    "\n",
    "__Property 3__ : $T_K$(0)=0\n",
    "__Property 4__ : $T_K$ is unbounded.\n",
    "\n",
    "We want intensity to always be able to compensate for quantity :  \n",
    "$\n",
    "\\begin{align}\n",
    "\\forall x, \\exists y, \\textbf{U}_K([y]) > \\textbf{U}_K([x,x]) &\\Rightarrow \\forall x, \\exists y, T_K(y)>2*T_K(x)\\\\\n",
    "&\\Rightarrow \\forall V, \\exists x, T_K(x)>V\n",
    "\\end{align}\n",
    "$\n",
    "\n",
    "So $T_K$ should be unbounded from above, and it is obviously unbounded from below (because of the two previous properties).\n",
    "\n",
    "__Property 5__ : $U_K$ continuiously vary from $\\textbf{U}_T$ to $\\textbf{U}_L$\n",
    "\n",
    "$\n",
    "\\lim_{K \\to K_1} U_K=U_T\\\\\n",
    "\\lim_{K \\to K_2} U_K=U_L\n",
    "$\n",
    "\n",
    "And $U_K$ is continuous between $K_1$ and $K_2$\n",
    "\n",
    "__Property 6__ : $U_K$ is independent of scale\n",
    "\n",
    "We want that changing the unity in which we express local utility, doesn’t change the order expressed by $U_K$ :\n",
    "\n",
    "$\\forall (X,Y) \\in \\mathbb{W}^2, \\forall S \\in \\mathbb{R}_{>0}, U_K(X)>U_K(Y) \\Rightarrow U_K(S*X)>U_K(S*Y)$\n",
    "\n",
    "Where $S*X$ is a scalar multiplication ($\\forall (S,X) \\in \\mathbb{R}^* \\times \\mathbb{W}, S*X=(m, S*Supp(X)),\\: m(V) = m_X(V/S)$)."
   ]
  },
  {
   "cell_type": "markdown",
   "metadata": {
    "ein.tags": "worksheet-0",
    "slideshow": {
     "slide_type": "-"
    }
   },
   "source": [
    "### Building $T_K$"
   ]
  },
  {
   "cell_type": "markdown",
   "metadata": {
    "ein.tags": "worksheet-0",
    "slideshow": {
     "slide_type": "-"
    }
   },
   "source": [
    "$T_K(x)=sign(x)*|x|^K$ have all the wanted properties between $]-\\inf, 0]$ when $K>1$, and all the wanted properties between $[0,+\\inf[$ when $0<K<=1$.  \n",
    "But unfortunately, not both at the same time."
   ]
  },
  {
   "cell_type": "code",
   "execution_count": 16,
   "metadata": {
    "autoscroll": false,
    "ein.hycell": false,
    "ein.tags": "worksheet-0",
    "slideshow": {
     "slide_type": "-"
    }
   },
   "outputs": [
    {
     "data": {
      "image/png": "[encoded data removed]",
      "text/plain": [
       "Graphics object consisting of 2 graphics primitives"
      ]
     },
     "metadata": {},
     "output_type": "display_data"
    }
   ],
   "source": [
    "def T(k):\n",
    "    return sign(x)*abs(x)**k\n",
    "\n",
    "graph = plot([T(0.5), T(2)], legend_label=[\"K<1 (ok when x>0)\",\"K>1 (ok when x<0)\"])\n",
    "\n",
    "graph.show()"
   ]
  },
  {
   "cell_type": "markdown",
   "metadata": {
    "ein.tags": "worksheet-0",
    "slideshow": {
     "slide_type": "-"
    }
   },
   "source": [
    "So, I choose to cut the $T_K$ into a left part $L_K$, and a right part $R_K$ :  \n",
    "$\n",
    "K>1\\\\\n",
    "L_K(x) = -(-x)^{K}\\\\\n",
    "R_K(x) = x^{(1/K)}\\\\\n",
    "T_K(x) =\n",
    "\\begin{cases}\n",
    "      L_K(x) & x\\leq 0 \\\\\n",
    "      R_K(x) & x > 0 \\\\\n",
    "\\end{cases}\n",
    "$\n",
    "\n",
    "The problem is that we will lose __property 2__ (The derivative of $T_K$ should be decreasing) near 0."
   ]
  },
  {
   "cell_type": "code",
   "execution_count": 107,
   "metadata": {
    "autoscroll": false,
    "ein.hycell": false,
    "ein.tags": "worksheet-0",
    "slideshow": {
     "slide_type": "-"
    }
   },
   "outputs": [
    {
     "data": {
      "image/png": "[encoded data removed]",
      "text/plain": [
       "Graphics object consisting of 2 graphics primitives"
      ]
     },
     "metadata": {},
     "output_type": "display_data"
    }
   ],
   "source": [
    "L(K) = -(-x)**K\n",
    "R(K) = x^(1/K)\n",
    "def U(K):\n",
    "    return lambda X: L(K)(x=X) if X<=0 else R(K)(x=X)\n",
    "\n",
    "graph = plot(U(2)) + circle((0,0),0.3, color=\"red\")\n",
    "\n",
    "graph.show()"
   ]
  },
  {
   "cell_type": "markdown",
   "metadata": {
    "ein.tags": "worksheet-0",
    "slideshow": {
     "slide_type": "-"
    }
   },
   "source": [
    "So I choose to \"cut and paste\" the $L_K$ and $R_K$ at the place where their derivative is 1. (any other place could be chosen)"
   ]
  },
  {
   "cell_type": "code",
   "execution_count": 119,
   "metadata": {
    "autoscroll": false,
    "ein.hycell": false,
    "ein.tags": "worksheet-0",
    "slideshow": {
     "slide_type": "-"
    }
   },
   "outputs": [
    {
     "name": "stdout",
     "output_type": "stream",
     "text": [
      "The final functions are :\n",
      "Lk(x) = -(-x + 1/K^(1/(K - 1)))^K + 1/K^(K/(K - 1))\n",
      "Rk(x) = (x + 1/K^(K/(K - 1)))^(1/K) - 1/K^(1/(K - 1))\n"
     ]
    },
    {
     "data": {
      "image/png": "[encoded data removed]",
      "text/plain": [
       "Graphics object consisting of 3 graphics primitives"
      ]
     },
     "metadata": {},
     "output_type": "display_data"
    }
   ],
   "source": [
    "assume(K, \"real\")\n",
    "assume(K>1)\n",
    "assume(x, \"real\")\n",
    "\n",
    "# We find the points where to cut\n",
    "\n",
    "Lp(K) = derivative(L(K), x)\n",
    "Rp(K) = derivative(R(K), x)\n",
    "\n",
    "XL = -(1/K)**(1/(K-1)) # Solution for Lp(K)==1\n",
    "XR = solve(Rp(K)==1, [x])[0].rhs()\n",
    "\n",
    "YL = L(K)(x=XL)\n",
    "YR = R(K)(x=XR)\n",
    "\n",
    "# We cut and paste\n",
    "\n",
    "LF(K) = simplify(expand(L(K)(x=(x+XL))-YL))\n",
    "RF(K) = simplify(expand((R(K)(x=(x+XR))-YR)))\n",
    "\n",
    "print(\"The final functions are :\")\n",
    "print(\"Lk(x) = \" + str(LF(K)))\n",
    "print(\"Rk(x) = \" + str(RF(K)))\n",
    "\n",
    "def U(K):\n",
    "    return lambda X: LF(K)(x=X) if X<=0 else RF(K)(x=X)\n",
    "\n",
    "graph = plot([U(1.01), U(2), U(3)], legend_label=[\"K=1.01\", \"K=2\", \"K=3\"])\n",
    "graph.show()"
   ]
  },
  {
   "cell_type": "markdown",
   "metadata": {
    "ein.tags": "worksheet-0",
    "slideshow": {
     "slide_type": "-"
    }
   },
   "source": [
    "## Conclusion"
   ]
  },
  {
   "cell_type": "markdown",
   "metadata": {
    "ein.tags": "worksheet-0",
    "slideshow": {
     "slide_type": "-"
    }
   },
   "source": [
    "So, finally we have:\n",
    "$\n",
    "T_K(x) = \n",
    "\\begin{cases}\n",
    "      -(-x + 1/K^{(1/(K - 1))})^K + 1/K^{(K/(K - 1))} & x\\leq 0 \\\\\n",
    "      (x + 1/K^{(K/(K - 1))})^{(1/K)} - 1/K^{(1/(K - 1))} & x > 0\n",
    "\\end{cases}\\\\\n",
    "\\textbf{U}_K(X) = \\sum_{i \\in Supp(X)} m_X(i)*\\textbf{T}_K(i)\n",
    "$\n",
    "\n",
    "$U_K$ meet these properties :\n",
    "- __property 1__ ($T_K\\prime(x) > 0$), by construction.\n",
    "- __property 2__ ($T_K\\prime\\prime(x) \\leq 0$), by construction.\n",
    "- __property 3__ ($T_K$(0) = 0)\n",
    "- __property 4__ ($T_K$ is unbounded)\n",
    "- __property 5__ (explanation below)\n",
    "\n",
    "$\n",
    "\\lim_{K \\to 1} T_K(x)=x \\Rightarrow \\lim_{K \\to 1} U_K=U_T\\\\\n",
    "\\begin{align}\n",
    "\\forall N \\in \\mathbb{N} \\forall (X,Y) \\in \\mathbb{W}^2, \\textbf{U}_K(X) < \\textbf{U}_K(Y) &\\Rightarrow \\exists K \\in \\mathbb{R}, min()\n",
    "\\Rightarrow T_K(min(X - X \\cap Y)) = T_K()\n",
    "\\end{align}\n",
    "$\n",
    "\n",
    "Unfortunately we lose __property 6__ ($U_K$ is independent of scale), anyway I am unsure it is even possible to have all these properties, and __property 6__ would be convenient but doesn’t seem essential to me.\n",
    "\n",
    "Also $U_K$ is complex and a sort of a messy hack, there is probably better to do on the same line.  \n",
    "But for now, I think it is still better that what we have otherwise.\n",
    "\n",
    "Thanks for reading :-)"
   ]
  }
 ],
 "metadata": {
  "kernelspec": {
   "display_name": "SageMath 8.8",
   "language": "sage",
   "name": "sagemath"
  },
  "language_info": {
   "codemirror_mode": {
    "name": "ipython",
    "version": 2
   },
   "file_extension": ".py",
   "mimetype": "text/x-python",
   "name": "python",
   "nbconvert_exporter": "python",
   "pygments_lexer": "ipython2",
   "version": "2.7.16"
  },
  "name": "k-utilitarianism.ipynb"
 },
 "nbformat": 4,
 "nbformat_minor": 4
}
