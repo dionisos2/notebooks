{
 "cells": [
  {
   "cell_type": "markdown",
   "metadata": {
    "ein.tags": "worksheet-0",
    "slideshow": {
     "slide_type": "-"
    }
   },
   "source": [
    "# k-utilitarianism"
   ]
  },
  {
   "cell_type": "markdown",
   "metadata": {},
   "source": []
  },
  {
   "cell_type": "markdown",
   "metadata": {
    "ein.tags": "worksheet-0",
    "slideshow": {
     "slide_type": "-"
    }
   },
   "source": [
    "## Introduction"
   ]
  },
  {
   "cell_type": "markdown",
   "metadata": {
    "ein.tags": "worksheet-0",
    "slideshow": {
     "slide_type": "-"
    }
   },
   "source": [
    "The goal of this document is to quickly highly problems in different kind of utilitarianisms, and present a compromise between total and leximin utilitarianism.<br>\n",
    "\n",
    "I wrote this document with suffering and pleasure as the source of value in mind, anyway this document focus on how to aggregate the [intrinsic value](https://plato.stanford.edu/entries/value-intrinsic-extrinsic/) of a set of local things into the global intrinsic value of the sum of these things, and not on how to determine the intrinsic value of these local things.<br>\n",
    "So even if you intrinsically values something else that suffering and pleasure, like autonomy, the fullfilling of preferences, liberty, etc… (or a combinaison of theses), I think the idea highlighted here should still matter approximatively the same way.\n",
    "\n",
    "What is \"local\" here, will also be up to the reader. Probably a __[closed individualist](https://en.wikipedia.org/wiki/Open_individualism)__ will want to focus on individuals, where a empty/open individualist will want to focus on subjective experiences or qualia."
   ]
  },
  {
   "cell_type": "markdown",
   "metadata": {
    "ein.tags": "worksheet-0",
    "slideshow": {
     "slide_type": "-"
    }
   },
   "source": [
    "## Formalism"
   ]
  },
  {
   "cell_type": "markdown",
   "metadata": {},
   "source": [
    "We will focus on the quantity and intensity of things we consider to have intrinsics values in the world. (where negative intensity mean something bad, and positive intensity mean something good)<br>\n",
    "By example we could be interested in :\n",
    "- the quantity of subjectives experiences of suffering and pleasure of each intensity.\n",
    "- the quality of liberty of each individual.\n",
    "- the weighted satisfaction of preferences of each individual.\n",
    "- etc…\n",
    "    \n",
    "We will represente the possible worlds as __[multisets](https://en.wikipedia.org/wiki/Multiset)__ with elements taken in the set of real numbers.<br>\n",
    "By example, if what is valued is suffering and pleasure, and we want to represente a world composed of these 7 subjectives experiences :\n",
    "- 3 identically low pleasures (pleasure with 1 of intensity)\n",
    "- 2 identically low sufferings (-1)\n",
    "- 1 strong pleasure (100)\n",
    "- 1 strong suffering (-100)\n",
    "\n",
    "Then we can represent this worlds by : $[1, 1, 1, -1, -1, 100, -100]$ or more succinctly $[1^{3}, -1^{2}, 100, -100]$\n",
    "\n",
    "More formally, a possible world can be defined as the couple $(\\mathbb{R}, m)$, where $m$ is the multiplicity function ($m:\\mathbb{R}\\to \\mathbb{N}$)<br>\n",
    "So the set of all possible worlds $\\mathbb{W}$ is defined as:<br>\n",
    "$\\mathbb{W} = \\{(\\mathbb{R}, m) | m\\in\\mathbb{N}^\\mathbb{R}\\}$<br> (where $\\mathbb{N}^\\mathbb{R}$ is the set of all functions from $\\mathbb{R}$ to $\\mathbb{N}$)\n",
    "\n",
    "ie, $[1,5,5] = (\\mathbb{R}, m)$ where $m(1)=1$, $m(5)=2$ and $m(x)=0$ otherwise.\n",
    "\n",
    "We define the $+$ operation on worlds as usual on multisets :<br>\n",
    "$\\forall (a,b)\\in \\mathbb{W}^2, a+b = (\\mathbb{R}, m_a)+(\\mathbb{R}, m_b) = (\\mathbb{R}, m_a+m_b)$<br>\n",
    "Where $(m_a+m_b)(x)=m_a(x)+m_b(x)$\n",
    "\n",
    "It is then possible to decompose a world as a sum of its elements :<br>\n",
    "$\\forall w\\in\\mathbb{W}, w=\\sum_{i\\in\\mathbb{R}}m_w(i)*[i]$\n",
    "\n",
    "The cardinality of a world is its number of elements (that is, the sum of the quantity of element of each intensity):<br>\n",
    "$\\forall w\\in\\mathbb{W}, card(w) = |w| = \\sum_{i\\in \\mathbb{R}}m_w(i)$"
   ]
  },
  {
   "cell_type": "markdown",
   "metadata": {},
   "source": [
    "### Implicite requirement and generalization"
   ]
  },
  {
   "cell_type": "markdown",
   "metadata": {},
   "source": [
    "Sometime in the litterature the \"possible worlds\" are represented as a tuple instead of multiset, and the symmetry (or anonymity) axiom is required.<br>\n",
    "This axiom mean that any permutation of the elements of the tuple are equivalents.<br>\n",
    "Both ways means we don’t care about the order of the elements, but I think using multiset is simpler.\n",
    "\n",
    "Also we can easily generalize multiset to real-valued multiset by choosing the multiplycity function to be $m : \\mathbb{R}\\to \\mathbb{R}$ instead of $m : \\mathbb{R}\\to \\mathbb{N}$.\n",
    "\n",
    "If we want to represente a continuous variation of a intensity, F(t), we can consider this limit of real-valued multisets  :<br>\n",
    "$w_F = \\lim_{n\\to\\infty} \\sum_{i\\in \\mathbb{N}, i/n \\in dom(F)} 1/n*[F(i/n)]$\n",
    "\n",
    "To avoid too much details and keep the connexion with tuples, I will use simple multisets, but everything generalize easily with real-valued multisets.<br>\n",
    "I even think it generalize with limit of real-valued multisets, but if not we can still use a very large $n$ for $w_F$"
   ]
  },
  {
   "cell_type": "markdown",
   "metadata": {},
   "source": [
    "### Utility function"
   ]
  },
  {
   "cell_type": "markdown",
   "metadata": {},
   "source": [
    "We want to be able to compare possible worlds, so we want a utility functions of the form $U :  \\mathbb{W} \\to E$  \n",
    "Where E is a __[totally ordered set](http://mathworld.wolfram.com/TotallyOrderedSet.html)__<br>\n",
    "And where $U(X) > U(Y)$ mean that the world X is better than the world Y. (or that we should choose X over Y)\n",
    "\n",
    "Most of the time $E=\\mathbb{R}$, but some order (like leximin), can’t be represented in $\\mathbb{R}$.\n",
    "\n",
    "Because by convention a element of positive/negative intensity represents something good/bad, we will also require :<br>\n",
    "$x>0 \\Leftrightarrow U([x])>0_E$<br>\n",
    "$x<0 \\Leftrightarrow U([x])<0_E$<br>\n",
    "This implies that :<br>\n",
    "$x=0 \\Leftrightarrow U([x])=0_E$"
   ]
  },
  {
   "cell_type": "markdown",
   "metadata": {
    "ein.tags": "worksheet-0",
    "slideshow": {
     "slide_type": "-"
    }
   },
   "source": [
    "## Total utilitarianism"
   ]
  },
  {
   "cell_type": "markdown",
   "metadata": {
    "ein.tags": "worksheet-0",
    "slideshow": {
     "slide_type": "-"
    }
   },
   "source": [
    "Total utilitarianism is the simplest form of utilitarianism, we just sum the intensity of every elements:<br> \n",
    "$U_T(w) = U_T(\\sum_{i \\in \\mathbb{R}} m_w(i)*[i]) = \\sum_{i \\in \\mathbb{R}} m_w(i)*i$<br>\n",
    "Example :  \n",
    "$U_T([-5^{2},3^{3},7^{4}]) = 2*(-5) + 3*3 + 4*7 = 27$\n",
    "\n",
    "The main problem is that we are lacking some idea of equity :  \n",
    "$U_T([10, 10]) < U_T([-50, 71])$\n",
    "\n",
    "And also it implies what is called the repugnant conclusion :  \n",
    "$U_T([100^{100}]) < U_T([1^{10001}])$"
   ]
  },
  {
   "cell_type": "markdown",
   "metadata": {
    "ein.tags": "worksheet-0",
    "slideshow": {
     "slide_type": "-"
    }
   },
   "source": [
    "## The repugnant conclusion and local independance"
   ]
  },
  {
   "cell_type": "markdown",
   "metadata": {
    "ein.tags": "worksheet-0",
    "slideshow": {
     "slide_type": "-"
    }
   },
   "source": [
    "### Local independance"
   ]
  },
  {
   "cell_type": "markdown",
   "metadata": {
    "ein.tags": "worksheet-0",
    "slideshow": {
     "slide_type": "-"
    }
   },
   "source": [
    "Our utility function should be **locally independant**.  \n",
    "It mean that if a local thing X is intrinsically better than another local thing Y, it stay intrinsically better if you change something else in the world:<br>\n",
    "$\\forall (X,Y,A,B) \\in \\mathbb{W}^4, U(X+A) > U(Y+A) \\Rightarrow U(X+B) > U(Y+B)$\n",
    "\n",
    "\n",
    "Failling to meet this criteria would be strongly problematic because you would always have to take into account the whole to know what to do locally. (even the part of this whole that are causally independant of what you choose to do). \n",
    "\n",
    "This means that even if you know you have no influence on something, or that your expected influence is neutral, you can’t avoid to take it into account because the intrinsic value of the things you have direct influence on, would be dependant of what is the whole (and this, even if you have no knowledge on this whole)."
   ]
  },
  {
   "cell_type": "markdown",
   "metadata": {},
   "source": [
    "### From local independance to summation"
   ]
  },
  {
   "cell_type": "markdown",
   "metadata": {},
   "source": [
    "It is important to note that we are only interested in the order represented by the utility function, so if two functions represent the same order, they are equilavent :<br>\n",
    "$U_1$ is equivalent to $U_2$ if $\\forall (x,y)\\in\\mathbb{W}^2, U_1(x)<U_1(y) \\Leftrightarrow U_2(x)<U_2(y)$\n",
    "\n",
    "Take $U : \\mathbb{W}\\to E$ a locally independant utility function.<br>\n",
    "We can create $C(w)$ the equilavence class of all element with the same value than $w$ : <br>\n",
    "$C(w) = \\{x\\in \\mathbb{W} | U(x)=U(w)\\}$ <br>\n",
    "By local independance we have : <br>\n",
    "$U(x)=U(y) \\Rightarrow U(x+c)=U(y+c)$\n",
    "\n",
    "so \n",
    "\n",
    "$\n",
    "\\begin{align*}\n",
    "x1\\in C(x2) \\text{ and } y2\\in C(y2) &\\Rightarrow U(x1)=U(x2) \\text{ and } U(y1)=U(y2)\\\\\n",
    "&\\Rightarrow U(x1+y1)=U(x2+y1) \\text{ and } U(x2+y1)=U(x2+y2) \\text{ (local independance)}\\\\\n",
    "&\\Rightarrow U(x1+y1)=U(x2+y2)\\\\\n",
    "&\\Rightarrow C(x1+y1)=C(x2+y2)\\\\\n",
    "\\end{align*}\n",
    "$\n",
    "\n",
    "\n",
    "It means that $C(x+y)$ is completely determined by $C(x)$ and $C(y)$, so we can define the $+$ operator on the equivalences classes : $C(x)+C(y) = C(x+y)$\n",
    "\n",
    "And we create a order relation on these classes : <br>\n",
    "$C(x)<C(y)\\Leftrightarrow U(x)<U(y)$\n",
    "\n",
    "We can now define a new utility function $U_c$ representing the same order relation than $U$ :<br>\n",
    "$U_c(w) = C(w)$<br>\n",
    "$\n",
    "\\begin{align*}\n",
    "U_c(x)<U_c(y) &\\Leftrightarrow C(x)<C(y)\\\\\n",
    "&\\Leftrightarrow U(x)<U(y)\n",
    "\\end{align*}\n",
    "$\n",
    "\n",
    "So we have :<br>\n",
    "$U_c(x+y)=C(x+y)=C(x)+C(y)=U_c(x)+U_c(y)$<br>\n",
    "Or more generally :<br>\n",
    "$U_c(w)= C(\\sum_{i\\in\\mathbb{R}} m_w(i)*[i]) = \\sum_i m_w(i)*C([i]) = \\sum_i m_w(i)*U_c([i])$\n",
    "\n",
    "It means that as soon as we have a locally independant utility function, we can find a equilavent linear utility function. <br>\n",
    "It is easy to see the reciprocal is also true : A linear utility function is locally independant.\n",
    "\n",
    "Example, the locally independant utility function:<br>\n",
    "$U(w)=\\prod_{i\\in\\mathbb{R}^{\\bf{+}}}m_x(i)*i$<br>\n",
    "Is equilavent (represents the same order relation) to the linear function : <br>\n",
    "$U(w)=\\sum_{i\\in\\mathbb{R}^{\\bf{+}}}m_x(i)*ln(i)$"
   ]
  },
  {
   "cell_type": "markdown",
   "metadata": {
    "ein.tags": "worksheet-0",
    "slideshow": {
     "slide_type": "-"
    }
   },
   "source": [
    "### Average utilitarianism"
   ]
  },
  {
   "cell_type": "markdown",
   "metadata": {
    "ein.tags": "worksheet-0",
    "slideshow": {
     "slide_type": "-"
    }
   },
   "source": [
    "Instead the sum of local utilities, average utilitarianism compute the average:  \n",
    "$U_A(X) = \\cfrac{\\sum_{i \\in \\mathbb{R}} m_X(i)*i}{|X|}$  \n",
    "Example :  \n",
    "$U_A([-5^{\\S 2},3^{\\S 3},7^{\\S 4}]) = \\cfrac{(2*-5 + 3*3 + 4*7)}{(2+3+4)} = 3$\n",
    "\n",
    "I think the main idea of average utilitarianism was to avoid [the repugnant conclusion](https://en.wikipedia.org/wiki/Mere_addition_paradox).<br>\n",
    "Unfortunately this version of utilitarianism isn’t locally independant (and also sort of crazy):  \n",
    "$U_A([10]) > U_A([9, 9])$  \n",
    "but:  \n",
    "$U_A([10, 5, 5]) < U_A([9, 9, 5, 5])$  \n",
    "\n",
    "But if you think it is still good, you also have :  \n",
    "$U_A([-99^{\\S 100}, -100]) > U_A([-100])$  \n",
    "$U_A([100]) > U_A([99^{\\S 100}, 100])$"
   ]
  },
  {
   "cell_type": "markdown",
   "metadata": {
    "ein.tags": "worksheet-0",
    "slideshow": {
     "slide_type": "-"
    }
   },
   "source": [
    "### The repugnant conclusion is hardly avoidable"
   ]
  },
  {
   "cell_type": "markdown",
   "metadata": {
    "ein.tags": "worksheet-0",
    "slideshow": {
     "slide_type": "-"
    }
   },
   "source": [
    "The only way to avoid the repugnant conclusion would be to have a good thing which is better than an arbitrarily large number of something arbitrarily close to this thing : <br>\n",
    "$\\exists V\\in \\mathbb{R}_{>0}, \\forall \\epsilon \\in \\mathbb{R}_{>0}, \\forall N \\in \\mathbb{N} , U([V]) > U([(V-\\epsilon)^{\\S N}])$\n",
    "\n",
    "Otherwise you would be able to start from $V$, remove $\\epsilon$ an abritrary number of time (making $N$ grow exponentially in the process), and end up with something arbitrarely close to 0 :<br>\n",
    "$U([V]) < U([(V-\\epsilon)^{\\S N_1}]) < U([(V-2*\\epsilon)^{\\S N_1*N_2}]) < \\ldots$\n",
    "\n",
    "I find it really weird and hard to accept, and I think it is much more acceptable to just \"bite the other bullet\", and accept the repugnant conclusion.<br>\n",
    "But I don’t think the repugnant conclusion is the problem at all, and I believe it could seems like a problem largely for three reasons :\n",
    "- [Scope insensitivity](https://www.lesswrong.com/posts/2ftJ38y9SRBCBsCzy/scope-insensitivity)\n",
    "- A confusion about what \"a life barely worth living\" means here : It means a life just above 0 intrinsic value, so it means either a life with only good things (but few), or a life where any bad is compensated with enough good. It doesn’t mean a life of boredom (which is bad), or a life so bad the person living it would want to die (which is super bad, we evolved to fear death).\n",
    "- A confusion between intrinsic and extrinsic values, and about complexe social considerations. (it is obviouly not about saying to some people it would be preferable if they were dead, no more than saying the repugnant conclusion is bad is saying to one billion of people than their cumulated life worth less than the life of one happy person)."
   ]
  },
  {
   "cell_type": "markdown",
   "metadata": {
    "ein.tags": "worksheet-0",
    "slideshow": {
     "slide_type": "-"
    }
   },
   "source": [
    "## Leximin utilitarianism"
   ]
  },
  {
   "cell_type": "markdown",
   "metadata": {
    "ein.tags": "worksheet-0",
    "slideshow": {
     "slide_type": "-"
    }
   },
   "source": [
    "The name \"leximin\" come from the __[lexicographic ordering](https://en.wikipedia.org/wiki/Lexicographic_preferences)__\n",
    "\n",
    "The basic idea is to never make the situation of \"someone\" worse, in order to improve the situation of someone else who is already better off than him.\n",
    "\n",
    "To compare two worlds, leximin utilitarianism will compare the respective worst elements of these two worlds (and then the respective second worsts elements if the worsts are equals, etc…)<br>\n",
    "$\\forall (X,Y) \\in \\mathbb{W}^2, (U_L(X) > U_L(Y) \\Leftrightarrow \\exists V \\in \\mathbb{R},(m_X(V) < m_Y(V)) \\text{ and } (\\forall P<V, m_X(P) = m_Y(P)))$\n",
    "\n",
    "Another way to say the same thing, is that if we remove everything common elements, the best world is the world with the more intense element of minimal intensity.<br>\n",
    "$\\forall (X,Y) \\in \\mathbb{W}^2, U_L(X) > U_L(Y) \\Leftrightarrow min(X - X \\cap Y) > min(Y - X \\cap Y)$<br>\n",
    "where $\\forall w\\in\\mathbb{W}, min(w)=min(\\{x|m_w(x)>0\\})$\n",
    "\n",
    "Example :<br>\n",
    "$U_L([-1, -2, -2, 4, 5]) > U_L([-1, -2, -2, 3, 10])$ because $4>3$ (or because $m_X(3)=0 < 1=m_Y(3)$)\n",
    "\n",
    "You could note that $U_L$ is locally independant, this means there is a way to express it as a summation on singleton worlds. For that we could use polynomials ordered by the relation:<br>\n",
    "$P1<P2 \\Leftrightarrow \\lim_{x\\to\\infty} P1(x)<P2(x)$\n",
    "\n",
    "So the commons terms could be removed, and only the remaining term of highter degree count. Taking care of $U_L([0])=0$ we can define $U_L$ with the two relations :<br>\n",
    "$U_L(w)= \\sum_{i\\in\\mathbb{R}} m_w(i) * U_L([i])$<br>\n",
    "$U_L([a]) = 1-X^{-a}$\n",
    "\n",
    "Illustration :<br>\n",
    "$\n",
    "\\begin{align*}\n",
    "U_L([-1, -2, -2, 4, 5]) - U_L([-1, -2, -2, 3, 10]) &= (5 - X^1 - 2*X^2 - X^{-4} - X^{-5}) - (5 - X^1 - 2*X^2 - X^{-3} - X^{-10})\\\\\n",
    "&= X^{-3} + X^{-10} - X^{-4} - X^{-5}\\\\\n",
    "&> 0\\\\\n",
    "U_L([-1, -2, -2, 4, 5]) > U_L([-1, -2, -2, 3, 10])\n",
    "\\end{align*}\n",
    "$\n",
    "\n",
    "We can say than contrary to total utilitarianism, leximin utilitarianism focus entirely on equity.  \n",
    "Unfortunately, while entirely focusing on equity, it doesn’t take quantity into account anymore:<br>\n",
    "$U_L([100]) < U_L([99.9^{\\S 99999}])$<br>\n",
    "and worse :<br>\n",
    "$U_L([-100]) < U_L([-99.9^{\\S 99999}])$<br>\n",
    "\n",
    "It seems too extreme to me, and this is why I want to propose a compromise between leximin and total utilitarianism."
   ]
  },
  {
   "cell_type": "markdown",
   "metadata": {},
   "source": [
    "## Negative utilitarianism"
   ]
  },
  {
   "cell_type": "markdown",
   "metadata": {},
   "source": [
    "On the same idea than leximin utilitarianism, there is negative utilitarianism where a suffering is infinitely more important than a pleasure :<br>\n",
    "$U_N(w) = \\sum_{i\\in\\mathbb{R}^+}m_w(i)*i + X*\\sum_{i\\in\\mathbb{R}^-}m_w(i)*i$\n",
    "\n",
    "The problem is that negavite utilitarianism have no equity consideration on $\\mathbb{R}^+$ or $\\mathbb{R}^-$<br>\n",
    "$U_N([-10, -10]) <  U_N([-18,-1])$}<br>\n",
    "$U_N([10, 10]) < U_N([20, 1])$\n",
    "\n",
    "It is also vulnerable to the pinprick argument : <br>\n",
    "$U_N([-1, 100^{\\S 99999}]) < U_N([0])$"
   ]
  },
  {
   "cell_type": "markdown",
   "metadata": {
    "ein.tags": "worksheet-0",
    "slideshow": {
     "slide_type": "-"
    }
   },
   "source": [
    "## K-utilitarianism"
   ]
  },
  {
   "cell_type": "markdown",
   "metadata": {
    "ein.tags": "worksheet-0",
    "slideshow": {
     "slide_type": "-"
    }
   },
   "source": [
    "### A compromise"
   ]
  },
  {
   "cell_type": "markdown",
   "metadata": {
    "ein.tags": "worksheet-0",
    "slideshow": {
     "slide_type": "-"
    }
   },
   "source": [
    "What seems more reasonable, is a utility function which value equity **and** quantity. Something \"between\" leximin and total utilitarianism.\n",
    "\n",
    "The principle leading to leximin utilitarianism, namely:<br>\n",
    "> Never make the situation of \"someone\" worse, in order to improve the situation of someone else who is already better off than him.<br>\n",
    "\n",
    "Can be reformulated as :<br>\n",
    "\n",
    "> Improving the situation of someone in a worse situation is infinitely more important than improving the situation of someone else in a better one.<br>\n",
    "\n",
    "When for total utilitarianism, improving the situation of someone or someone else is equally important, no matter the respective situations.\n",
    "\n",
    "We can focus our attention on one element because of the local independance, we define the gain obtened by improving the situation of the element $x$ by $e$ relative to the utility function U :<br>\n",
    "$gain(U, x, e) = U([x+e])-U([x])$\n",
    "\n",
    "So for leximin utilitarianism we have :<br>\n",
    "$\\forall e>0, \\forall x, \\forall n, gain(U_L, x, e) > n * gain(U_L, x+e, e)$<br>\n",
    "And for total utilitarianism :<br>\n",
    "$\\forall e>0, \\forall x, gain(U_T, x, e) = gain(U_T, x+e, e)$<br>\n",
    "\n",
    "Instead, to build a compromise, we choose utility function parameterized by $K \\in [1, \\infty[$, which follow this proprety :<br>\n",
    "$\\forall e>0, \\forall x, gain(U_K, x, e) = K*gain(U_K, x+e, e)$<br>\n",
    "\n",
    "So $K$ represent how much we want to care for equity, and we have :<br>\n",
    "$U_{K=1} = U_T$<br>\n",
    "$lim_{K\\to\\infty}U_K = U_L$\n",
    "\n",
    "Note that at first I wanted a compromise between leximin and total utilitarianism, that is, a utility function which would agree with $U_T$ and $U_L$ when they agree together, but it lead to a particular problem I will explain at the end of this article.<br>\n",
    "So take into account the compromise is between the principles which lead to both utility functions, and not between the actual utility function.\n",
    "\n",
    "There is also a concerne about why the ratio of the gain should be constant, it seems intuitive to me (\"how much we care about equity is constant relative to x\"), and I believe we can find good reasons to defend it, but for now I am still unclear about how to make a strong argument for it."
   ]
  },
  {
   "cell_type": "markdown",
   "metadata": {
    "ein.tags": "worksheet-0",
    "slideshow": {
     "slide_type": "-"
    }
   },
   "source": [
    "### Finding the function"
   ]
  },
  {
   "cell_type": "markdown",
   "metadata": {
    "ein.tags": "worksheet-0",
    "slideshow": {
     "slide_type": "-"
    }
   },
   "source": [
    "This paragraph is just some basics calculus to find the function from its properties, feel free to pass it. \n",
    "\n",
    "We have :\n",
    "$\\forall e>0, \\forall x, gain(U_K, x, e) = K*gain(U_K, x+e, e)$<br>\n",
    "$U_K([0]) = 0$\n",
    "\n",
    "let choose a particular $e$, and to simplify calculus pose :\n",
    "$T_K(x) = U_K([x])$\n",
    "$b = T_K(e)$<br>\n",
    "\n",
    "\n",
    "$T_K(x+e)-T_K(x) = K*(T_K(x+2*e)-T_K(x+e))$<br>\n",
    "$T_K(x+2*e) = (T_K(x+e)*(K+1)-T_K(x)) / K$<br>\n",
    "$T_K(0)=0$<br>\n",
    "$T_K(e)=b$<br>\n",
    "$T_K(2*e)=(T_K(e)*(K+1)-T_K(0)) / K = (b*(K+1)-0)/K = b*(1+1/K)$<br>\n",
    "$T_K(3*e)=(T_K(2*e)*(K+1)-T_K(e)) / K = (b*(1+1/K)*(K+1)-b)/K = b*(1+1/K+1/K^2)$\n",
    "\n",
    "Suppose :<br>\n",
    "$\n",
    "\\begin{align*}\n",
    "\\forall n\\in\\mathbb{N}, n<N, T_K(n*e) = b*\\sum_{i=0}^{n-1} 1/K^{i}\n",
    "\\end{align*}\n",
    "$<br>\n",
    "So :<br>\n",
    "$\n",
    "\\begin{align*}\n",
    "\\forall n\\in\\mathbb{N}, n<N, T_K((n+1)*e) &= (b*\\sum_{i=0}^{n-1} 1/K^{i}*(K+1) - b*\\sum_{i=0}^{n-2} 1/K^{i})/K\\\\\n",
    "&=  b * (K * \\sum_{i=0}^{n-1} 1/K^{i} + \\sum_{i=0}^{n-1} 1/K^{i} - \\sum_{i=0}^{n-2} 1/K^{i}))/K\\\\\n",
    "&= b*(\\sum_{i=0}^{n-1} 1/K^{i-1} + 1/K^{n-1})/K\\\\\n",
    "&= b*(\\sum_{i=0}^{n} 1/K^{i-1})/K\\\\\n",
    "&= b*(\\sum_{i=0}^{n} 1/K^{i})\\\\\n",
    "\\end{align*}\n",
    "$\n",
    "\n",
    "So by induction we have :<br>\n",
    "$\n",
    "\\begin{align*}\n",
    "\\forall n\\in\\mathbb{N}, T_K(n*e)&=b*\\sum_{i=0}^{n-1} 1/K^{i}\\\\\n",
    "& = \n",
    "\\begin{cases}\n",
    "b*(K-K^{(1-n)}) / (K-1), &\\text{for } K>1\\\\\n",
    "b*n, &\\text{for } K=1\n",
    "\\end{cases}\n",
    "\\end{align*}\n",
    "$\n",
    "\n",
    "\n",
    "We can extend the function on $\\mathbb{R}$ to get :<br>\n",
    "\n",
    "$\n",
    "T_K(x) =\n",
    "\\begin{cases}\n",
    "b * (K-K^{(1-x/e)}) / (K-1),&\\text{for } K>1\\\\\n",
    "b * n,&\\text{for } K=1\\\\\n",
    "\\end{cases}\n",
    "$\n",
    "\n",
    "And because multiplying by a contant doesn’t change the order, we can simplify it :<br>\n",
    "$T_K(x) = 1-K^{-x/e}$\n",
    "\n",
    "We can see that $e$ is just a horizontal change of scale which basically correspond to the unit we will use, and we ended-up with almost the same expression as the one for leximin utilitarianism.\n",
    "\n",
    "We verify we actually get what we wanted :"
   ]
  },
  {
   "cell_type": "code",
   "execution_count": 2,
   "metadata": {},
   "outputs": [
    {
     "data": {
      "text/latex": [
       "\\begin{equation*}- K \\left(- K^{\\frac{- 2 e - x}{e}} + K^{\\frac{- e - x}{e}}\\right) - K^{\\frac{- e - x}{e}} + K^{- \\frac{x}{e}}\\end{equation*}"
      ],
      "text/plain": [
       "    ⎛   -2⋅e - x    -e - x⎞    -e - x    -x \n",
       "    ⎜   ────────    ──────⎟    ──────    ───\n",
       "    ⎜      e          e   ⎟      e        e \n",
       "- K⋅⎝- K         + K      ⎠ - K       + K   "
      ]
     },
     "metadata": {},
     "output_type": "display_data"
    },
    {
     "data": {
      "text/latex": [
       "\\begin{equation*}0\\end{equation*}"
      ],
      "text/plain": [
       "0"
      ]
     },
     "metadata": {},
     "output_type": "display_data"
    }
   ],
   "source": [
    "using SymPy\n",
    "\n",
    "@vars K x e\n",
    "\n",
    "Tk(x) = 1-K^(-x/e)\n",
    "\n",
    "gain(x, e) = Tk(x+e)-Tk(x)\n",
    "\n",
    "eq = gain(x, e) - K*gain(x+e, e)\n",
    "\n",
    "display(eq)\n",
    "display(simplify(eq))"
   ]
  },
  {
   "cell_type": "markdown",
   "metadata": {},
   "source": [
    "### What Tk look like"
   ]
  },
  {
   "cell_type": "code",
   "execution_count": 6,
   "metadata": {},
   "outputs": [
    {
     "data": {
      "image/svg+xml": [
       "<?xml version=\"1.0\" encoding=\"utf-8\"?>\n",
       "<svg xmlns=\"http://www.w3.org/2000/svg\" xmlns:xlink=\"http://www.w3.org/1999/xlink\" width=\"600\" height=\"400\" viewBox=\"0 0 2400 1600\">\n",
       "<defs>\n",
       "  <clipPath id=\"clip780\">\n",
       "    <rect x=\"0\" y=\"0\" width=\"2400\" height=\"1600\"/>\n",
       "  </clipPath>\n",
       "</defs>\n",
       "<path clip-path=\"url(#clip780)\" d=\"\n",
       "M0 1600 L2400 1600 L2400 0 L0 0  Z\n",
       "  \" fill=\"#ffffff\" fill-rule=\"evenodd\" fill-opacity=\"1\"/>\n",
       "<defs>\n",
       "  <clipPath id=\"clip781\">\n",
       "    <rect x=\"480\" y=\"0\" width=\"1681\" height=\"1600\"/>\n",
       "  </clipPath>\n",
       "</defs>\n",
       "<path clip-path=\"url(#clip780)\" d=\"\n",
       "M169.469 1486.45 L2352.76 1486.45 L2352.76 47.2441 L169.469 47.2441  Z\n",
       "  \" fill=\"#ffffff\" fill-rule=\"evenodd\" fill-opacity=\"1\"/>\n",
       "<defs>\n",
       "  <clipPath id=\"clip782\">\n",
       "    <rect x=\"169\" y=\"47\" width=\"2184\" height=\"1440\"/>\n",
       "  </clipPath>\n",
       "</defs>\n",
       "<polyline clip-path=\"url(#clip782)\" style=\"stroke:#000000; stroke-width:2; stroke-opacity:0.1; fill:none\" points=\"\n",
       "  488.723,1486.45 488.723,47.2441 \n",
       "  \"/>\n",
       "<polyline clip-path=\"url(#clip782)\" style=\"stroke:#000000; stroke-width:2; stroke-opacity:0.1; fill:none\" points=\"\n",
       "  1003.65,1486.45 1003.65,47.2441 \n",
       "  \"/>\n",
       "<polyline clip-path=\"url(#clip782)\" style=\"stroke:#000000; stroke-width:2; stroke-opacity:0.1; fill:none\" points=\"\n",
       "  1518.58,1486.45 1518.58,47.2441 \n",
       "  \"/>\n",
       "<polyline clip-path=\"url(#clip782)\" style=\"stroke:#000000; stroke-width:2; stroke-opacity:0.1; fill:none\" points=\"\n",
       "  2033.5,1486.45 2033.5,47.2441 \n",
       "  \"/>\n",
       "<polyline clip-path=\"url(#clip782)\" style=\"stroke:#000000; stroke-width:2; stroke-opacity:0.1; fill:none\" points=\"\n",
       "  169.469,1159.73 2352.76,1159.73 \n",
       "  \"/>\n",
       "<polyline clip-path=\"url(#clip782)\" style=\"stroke:#000000; stroke-width:2; stroke-opacity:0.1; fill:none\" points=\"\n",
       "  169.469,802.238 2352.76,802.238 \n",
       "  \"/>\n",
       "<polyline clip-path=\"url(#clip782)\" style=\"stroke:#000000; stroke-width:2; stroke-opacity:0.1; fill:none\" points=\"\n",
       "  169.469,444.75 2352.76,444.75 \n",
       "  \"/>\n",
       "<polyline clip-path=\"url(#clip782)\" style=\"stroke:#000000; stroke-width:2; stroke-opacity:0.1; fill:none\" points=\"\n",
       "  169.469,87.2627 2352.76,87.2627 \n",
       "  \"/>\n",
       "<polyline clip-path=\"url(#clip780)\" style=\"stroke:#000000; stroke-width:4; stroke-opacity:1; fill:none\" points=\"\n",
       "  169.469,1486.45 2352.76,1486.45 \n",
       "  \"/>\n",
       "<polyline clip-path=\"url(#clip780)\" style=\"stroke:#000000; stroke-width:4; stroke-opacity:1; fill:none\" points=\"\n",
       "  169.469,1486.45 169.469,47.2441 \n",
       "  \"/>\n",
       "<polyline clip-path=\"url(#clip780)\" style=\"stroke:#000000; stroke-width:4; stroke-opacity:1; fill:none\" points=\"\n",
       "  488.723,1486.45 488.723,1469.18 \n",
       "  \"/>\n",
       "<polyline clip-path=\"url(#clip780)\" style=\"stroke:#000000; stroke-width:4; stroke-opacity:1; fill:none\" points=\"\n",
       "  1003.65,1486.45 1003.65,1469.18 \n",
       "  \"/>\n",
       "<polyline clip-path=\"url(#clip780)\" style=\"stroke:#000000; stroke-width:4; stroke-opacity:1; fill:none\" points=\"\n",
       "  1518.58,1486.45 1518.58,1469.18 \n",
       "  \"/>\n",
       "<polyline clip-path=\"url(#clip780)\" style=\"stroke:#000000; stroke-width:4; stroke-opacity:1; fill:none\" points=\"\n",
       "  2033.5,1486.45 2033.5,1469.18 \n",
       "  \"/>\n",
       "<polyline clip-path=\"url(#clip780)\" style=\"stroke:#000000; stroke-width:4; stroke-opacity:1; fill:none\" points=\"\n",
       "  169.469,1159.73 195.668,1159.73 \n",
       "  \"/>\n",
       "<polyline clip-path=\"url(#clip780)\" style=\"stroke:#000000; stroke-width:4; stroke-opacity:1; fill:none\" points=\"\n",
       "  169.469,802.238 195.668,802.238 \n",
       "  \"/>\n",
       "<polyline clip-path=\"url(#clip780)\" style=\"stroke:#000000; stroke-width:4; stroke-opacity:1; fill:none\" points=\"\n",
       "  169.469,444.75 195.668,444.75 \n",
       "  \"/>\n",
       "<polyline clip-path=\"url(#clip780)\" style=\"stroke:#000000; stroke-width:4; stroke-opacity:1; fill:none\" points=\"\n",
       "  169.469,87.2627 195.668,87.2627 \n",
       "  \"/>\n",
       "<path clip-path=\"url(#clip780)\" d=\"M 0 0 M461.177 1523.09 L490.852 1523.09 L490.852 1527.03 L461.177 1527.03 L461.177 1523.09 Z\" fill=\"#000000\" fill-rule=\"evenodd\" fill-opacity=\"1\" /><path clip-path=\"url(#clip780)\" d=\"M 0 0 M499.95 1535.98 L516.269 1535.98 L516.269 1539.92 L494.325 1539.92 L494.325 1535.98 Q496.987 1533.23 501.57 1528.6 Q506.176 1523.95 507.357 1522.61 Q509.602 1520.08 510.482 1518.35 Q511.385 1516.59 511.385 1514.9 Q511.385 1512.14 509.44 1510.41 Q507.519 1508.67 504.417 1508.67 Q502.218 1508.67 499.764 1509.43 Q497.334 1510.2 494.556 1511.75 L494.556 1507.03 Q497.38 1505.89 499.834 1505.31 Q502.288 1504.73 504.325 1504.73 Q509.695 1504.73 512.889 1507.42 Q516.084 1510.11 516.084 1514.6 Q516.084 1516.73 515.274 1518.65 Q514.487 1520.54 512.38 1523.14 Q511.801 1523.81 508.7 1527.03 Q505.598 1530.22 499.95 1535.98 Z\" fill=\"#000000\" fill-rule=\"evenodd\" fill-opacity=\"1\" /><path clip-path=\"url(#clip780)\" d=\"M 0 0 M1003.65 1508.44 Q1000.04 1508.44 998.209 1512 Q996.404 1515.55 996.404 1522.67 Q996.404 1529.78 998.209 1533.35 Q1000.04 1536.89 1003.65 1536.89 Q1007.28 1536.89 1009.09 1533.35 Q1010.92 1529.78 1010.92 1522.67 Q1010.92 1515.55 1009.09 1512 Q1007.28 1508.44 1003.65 1508.44 M1003.65 1504.73 Q1009.46 1504.73 1012.51 1509.34 Q1015.59 1513.92 1015.59 1522.67 Q1015.59 1531.4 1012.51 1536.01 Q1009.46 1540.59 1003.65 1540.59 Q997.839 1540.59 994.76 1536.01 Q991.705 1531.4 991.705 1522.67 Q991.705 1513.92 994.76 1509.34 Q997.839 1504.73 1003.65 1504.73 Z\" fill=\"#000000\" fill-rule=\"evenodd\" fill-opacity=\"1\" /><path clip-path=\"url(#clip780)\" d=\"M 0 0 M1513.23 1535.98 L1529.55 1535.98 L1529.55 1539.92 L1507.6 1539.92 L1507.6 1535.98 Q1510.27 1533.23 1514.85 1528.6 Q1519.45 1523.95 1520.64 1522.61 Q1522.88 1520.08 1523.76 1518.35 Q1524.66 1516.59 1524.66 1514.9 Q1524.66 1512.14 1522.72 1510.41 Q1520.8 1508.67 1517.7 1508.67 Q1515.5 1508.67 1513.04 1509.43 Q1510.61 1510.2 1507.83 1511.75 L1507.83 1507.03 Q1510.66 1505.89 1513.11 1505.31 Q1515.57 1504.73 1517.6 1504.73 Q1522.97 1504.73 1526.17 1507.42 Q1529.36 1510.11 1529.36 1514.6 Q1529.36 1516.73 1528.55 1518.65 Q1527.77 1520.54 1525.66 1523.14 Q1525.08 1523.81 1521.98 1527.03 Q1518.88 1530.22 1513.23 1535.98 Z\" fill=\"#000000\" fill-rule=\"evenodd\" fill-opacity=\"1\" /><path clip-path=\"url(#clip780)\" d=\"M 0 0 M2036.51 1509.43 L2024.71 1527.88 L2036.51 1527.88 L2036.51 1509.43 M2035.28 1505.36 L2041.16 1505.36 L2041.16 1527.88 L2046.09 1527.88 L2046.09 1531.77 L2041.16 1531.77 L2041.16 1539.92 L2036.51 1539.92 L2036.51 1531.77 L2020.91 1531.77 L2020.91 1527.26 L2035.28 1505.36 Z\" fill=\"#000000\" fill-rule=\"evenodd\" fill-opacity=\"1\" /><path clip-path=\"url(#clip780)\" d=\"M 0 0 M62.9921 1160.18 L92.6679 1160.18 L92.6679 1164.11 L62.9921 1164.11 L62.9921 1160.18 Z\" fill=\"#000000\" fill-rule=\"evenodd\" fill-opacity=\"1\" /><path clip-path=\"url(#clip780)\" d=\"M 0 0 M98.5475 1173.07 L106.186 1173.07 L106.186 1146.7 L97.8762 1148.37 L97.8762 1144.11 L106.14 1142.45 L110.816 1142.45 L110.816 1173.07 L118.455 1173.07 L118.455 1177.01 L98.5475 1177.01 L98.5475 1173.07 Z\" fill=\"#000000\" fill-rule=\"evenodd\" fill-opacity=\"1\" /><path clip-path=\"url(#clip780)\" d=\"M 0 0 M133.524 1145.52 Q129.913 1145.52 128.084 1149.09 Q126.279 1152.63 126.279 1159.76 Q126.279 1166.87 128.084 1170.43 Q129.913 1173.97 133.524 1173.97 Q137.158 1173.97 138.964 1170.43 Q140.793 1166.87 140.793 1159.76 Q140.793 1152.63 138.964 1149.09 Q137.158 1145.52 133.524 1145.52 M133.524 1141.82 Q139.334 1141.82 142.39 1146.43 Q145.469 1151.01 145.469 1159.76 Q145.469 1168.49 142.39 1173.09 Q139.334 1177.68 133.524 1177.68 Q127.714 1177.68 124.635 1173.09 Q121.58 1168.49 121.58 1159.76 Q121.58 1151.01 124.635 1146.43 Q127.714 1141.82 133.524 1141.82 Z\" fill=\"#000000\" fill-rule=\"evenodd\" fill-opacity=\"1\" /><path clip-path=\"url(#clip780)\" d=\"M 0 0 M89.7744 802.689 L119.45 802.689 L119.45 806.625 L89.7744 806.625 L89.7744 802.689 Z\" fill=\"#000000\" fill-rule=\"evenodd\" fill-opacity=\"1\" /><path clip-path=\"url(#clip780)\" d=\"M 0 0 M124.566 784.958 L142.922 784.958 L142.922 788.893 L128.848 788.893 L128.848 797.365 Q129.867 797.018 130.885 796.856 Q131.904 796.671 132.922 796.671 Q138.709 796.671 142.089 799.842 Q145.469 803.013 145.469 808.43 Q145.469 814.009 141.996 817.111 Q138.524 820.189 132.205 820.189 Q130.029 820.189 127.76 819.819 Q125.515 819.449 123.108 818.708 L123.108 814.009 Q125.191 815.143 127.413 815.699 Q129.635 816.254 132.112 816.254 Q136.117 816.254 138.455 814.148 Q140.793 812.041 140.793 808.43 Q140.793 804.819 138.455 802.713 Q136.117 800.606 132.112 800.606 Q130.237 800.606 128.362 801.023 Q126.51 801.439 124.566 802.319 L124.566 784.958 Z\" fill=\"#000000\" fill-rule=\"evenodd\" fill-opacity=\"1\" /><path clip-path=\"url(#clip780)\" d=\"M 0 0 M133.524 430.549 Q129.913 430.549 128.084 434.114 Q126.279 437.655 126.279 444.785 Q126.279 451.892 128.084 455.456 Q129.913 458.998 133.524 458.998 Q137.158 458.998 138.964 455.456 Q140.793 451.892 140.793 444.785 Q140.793 437.655 138.964 434.114 Q137.158 430.549 133.524 430.549 M133.524 426.845 Q139.334 426.845 142.39 431.452 Q145.469 436.035 145.469 444.785 Q145.469 453.512 142.39 458.118 Q139.334 462.702 133.524 462.702 Q127.714 462.702 124.635 458.118 Q121.58 453.512 121.58 444.785 Q121.58 436.035 124.635 431.452 Q127.714 426.845 133.524 426.845 Z\" fill=\"#000000\" fill-rule=\"evenodd\" fill-opacity=\"1\" /><path clip-path=\"url(#clip780)\" d=\"M 0 0 M124.566 69.9827 L142.922 69.9827 L142.922 73.9179 L128.848 73.9179 L128.848 82.3901 Q129.867 82.0428 130.885 81.8808 Q131.904 81.6956 132.922 81.6956 Q138.709 81.6956 142.089 84.8669 Q145.469 88.0382 145.469 93.4548 Q145.469 99.0335 141.996 102.135 Q138.524 105.214 132.205 105.214 Q130.029 105.214 127.76 104.844 Q125.515 104.473 123.108 103.733 L123.108 99.0335 Q125.191 100.168 127.413 100.723 Q129.635 101.279 132.112 101.279 Q136.117 101.279 138.455 99.1724 Q140.793 97.0659 140.793 93.4548 Q140.793 89.8437 138.455 87.7373 Q136.117 85.6308 132.112 85.6308 Q130.237 85.6308 128.362 86.0475 Q126.51 86.4641 124.566 87.3437 L124.566 69.9827 Z\" fill=\"#000000\" fill-rule=\"evenodd\" fill-opacity=\"1\" /><polyline clip-path=\"url(#clip782)\" style=\"stroke:#009af9; stroke-width:4; stroke-opacity:1; fill:none\" points=\"\n",
       "  231.26,659.672 251.374,654.067 437.364,602.259 549.136,571.143 643.638,544.845 746.293,516.29 840.932,489.974 942.395,461.771 1059.95,429.109 1164.42,400.096 \n",
       "  1256.03,374.664 1355.91,346.946 1456.38,319.074 1567.47,288.271 1673.16,258.975 1783.06,228.526 1875.57,202.905 1988.52,171.638 2094.69,142.257 2264.79,95.2134 \n",
       "  2290.96,87.9763 \n",
       "  \"/>\n",
       "<polyline clip-path=\"url(#clip782)\" style=\"stroke:#e26f46; stroke-width:4; stroke-opacity:1; fill:none\" points=\"\n",
       "  231.26,757.052 251.374,746.567 437.364,656.384 549.136,607.634 643.638,569.321 746.293,530.508 840.932,497.142 942.395,463.768 1059.95,427.983 1164.42,398.588 \n",
       "  1256.03,374.542 1355.91,350.042 1456.38,327.085 1567.47,303.534 1673.16,282.781 1783.06,262.789 1875.57,247.125 1988.52,229.341 2094.69,213.872 2264.79,191.39 \n",
       "  2290.96,188.165 \n",
       "  \"/>\n",
       "<polyline clip-path=\"url(#clip782)\" style=\"stroke:#3da44d; stroke-width:4; stroke-opacity:1; fill:none\" points=\"\n",
       "  231.26,881.171 241.317,872.205 251.374,863.356 344.369,786.815 437.364,719.032 493.25,682.089 549.136,647.747 596.387,620.606 643.638,595.09 746.293,544.798 \n",
       "  840.932,504.046 942.395,465.606 1059.95,426.999 1164.42,397.329 1256.03,374.444 1355.91,352.425 1456.38,332.994 1567.47,314.28 1673.16,298.828 1783.06,284.872 \n",
       "  1875.57,274.581 1988.52,263.593 2094.69,254.643 2264.79,242.657 2290.96,241.037 \n",
       "  \"/>\n",
       "<polyline clip-path=\"url(#clip782)\" style=\"stroke:#c271d2; stroke-width:4; stroke-opacity:1; fill:none\" points=\"\n",
       "  231.26,1035.03 236.288,1027.9 241.317,1020.83 246.346,1013.82 251.374,1006.88 297.872,945.617 344.369,889.341 390.867,837.645 437.364,790.156 493.25,738.163 \n",
       "  549.136,691.213 596.387,655.088 643.638,621.949 694.965,589.047 746.293,559.087 793.613,533.846 840.932,510.694 942.395,467.308 1059.95,426.128 1164.42,396.257 \n",
       "  1256.03,374.364 1355.91,354.317 1456.38,337.521 1567.47,322.208 1673.16,310.255 1783.06,300.045 1875.57,292.904 1988.52,285.673 2094.69,280.108 2264.79,273.163 \n",
       "  2290.96,272.273 \n",
       "  \"/>\n",
       "<polyline clip-path=\"url(#clip782)\" style=\"stroke:#ac8d18; stroke-width:4; stroke-opacity:1; fill:none\" points=\"\n",
       "  231.26,1222.07 236.288,1211.36 241.317,1200.78 246.346,1190.31 251.374,1179.96 297.872,1089.72 344.369,1008.56 390.867,935.573 437.364,869.939 493.25,799.739 \n",
       "  549.136,737.947 596.387,691.515 643.638,649.831 694.965,609.366 746.293,573.375 793.613,543.731 840.932,517.122 942.395,468.896 1059.95,425.347 1164.42,395.329 \n",
       "  1256.03,374.296 1355.91,355.861 1456.38,341.107 1567.47,328.288 1673.16,318.767 1783.06,311.026 1875.57,305.858 1988.52,300.863 2094.69,297.207 2264.79,292.919 \n",
       "  2290.96,292.394 \n",
       "  \"/>\n",
       "<polyline clip-path=\"url(#clip782)\" style=\"stroke:#00a9ad; stroke-width:4; stroke-opacity:1; fill:none\" points=\"\n",
       "  231.26,1445.72 236.288,1430.33 241.317,1415.16 246.346,1400.18 251.374,1385.41 297.872,1257.91 344.369,1145.4 390.867,1046.14 437.364,958.552 465.307,910.954 \n",
       "  493.25,866.807 521.193,825.858 549.136,787.877 596.387,729.809 643.638,678.678 694.965,630.031 746.293,587.663 793.613,553.464 840.932,523.357 942.395,470.387 \n",
       "  1059.95,424.638 1164.42,394.512 1256.03,374.238 1355.91,357.148 1456.38,344.02 1567.47,333.095 1673.16,325.334 1783.06,319.295 1875.57,315.428 1988.52,311.843 \n",
       "  2094.69,309.335 2264.79,306.55 2290.96,306.224 \n",
       "  \"/>\n",
       "<path clip-path=\"url(#clip780)\" d=\"\n",
       "M1864.13 1438.47 L2279.98 1438.47 L2279.98 1015.11 L1864.13 1015.11  Z\n",
       "  \" fill=\"#ffffff\" fill-rule=\"evenodd\" fill-opacity=\"1\"/>\n",
       "<polyline clip-path=\"url(#clip780)\" style=\"stroke:#000000; stroke-width:4; stroke-opacity:1; fill:none\" points=\"\n",
       "  1864.13,1438.47 2279.98,1438.47 2279.98,1015.11 1864.13,1015.11 1864.13,1438.47 \n",
       "  \"/>\n",
       "<polyline clip-path=\"url(#clip780)\" style=\"stroke:#009af9; stroke-width:4; stroke-opacity:1; fill:none\" points=\"\n",
       "  1888.39,1075.59 2033.94,1075.59 \n",
       "  \"/>\n",
       "<path clip-path=\"url(#clip780)\" d=\"M 0 0 M2058.2 1056.86 L2062.48 1056.86 L2062.48 1078.13 L2075.19 1066.95 L2080.63 1066.95 L2066.88 1079.08 L2081.21 1092.87 L2075.65 1092.87 L2062.48 1080.21 L2062.48 1092.87 L2058.2 1092.87 L2058.2 1056.86 Z\" fill=\"#000000\" fill-rule=\"evenodd\" fill-opacity=\"1\" /><path clip-path=\"url(#clip780)\" d=\"M 0 0 M2086.23 1071.35 L2115.91 1071.35 L2115.91 1075.24 L2086.23 1075.24 L2086.23 1071.35 M2086.23 1080.79 L2115.91 1080.79 L2115.91 1084.73 L2086.23 1084.73 L2086.23 1080.79 Z\" fill=\"#000000\" fill-rule=\"evenodd\" fill-opacity=\"1\" /><path clip-path=\"url(#clip780)\" d=\"M 0 0 M2121.79 1088.94 L2129.43 1088.94 L2129.43 1062.57 L2121.12 1064.24 L2121.12 1059.98 L2129.38 1058.31 L2134.06 1058.31 L2134.06 1088.94 L2141.69 1088.94 L2141.69 1092.87 L2121.79 1092.87 L2121.79 1088.94 Z\" fill=\"#000000\" fill-rule=\"evenodd\" fill-opacity=\"1\" /><path clip-path=\"url(#clip780)\" d=\"M 0 0 M2146.76 1086.99 L2151.65 1086.99 L2151.65 1092.87 L2146.76 1092.87 L2146.76 1086.99 Z\" fill=\"#000000\" fill-rule=\"evenodd\" fill-opacity=\"1\" /><path clip-path=\"url(#clip780)\" d=\"M 0 0 M2166.72 1061.39 Q2163.11 1061.39 2161.28 1064.96 Q2159.47 1068.5 2159.47 1075.63 Q2159.47 1082.74 2161.28 1086.3 Q2163.11 1089.84 2166.72 1089.84 Q2170.35 1089.84 2172.16 1086.3 Q2173.99 1082.74 2173.99 1075.63 Q2173.99 1068.5 2172.16 1064.96 Q2170.35 1061.39 2166.72 1061.39 M2166.72 1057.69 Q2172.53 1057.69 2175.58 1062.3 Q2178.66 1066.88 2178.66 1075.63 Q2178.66 1084.36 2175.58 1088.96 Q2172.53 1093.55 2166.72 1093.55 Q2160.91 1093.55 2157.83 1088.96 Q2154.77 1084.36 2154.77 1075.63 Q2154.77 1066.88 2157.83 1062.3 Q2160.91 1057.69 2166.72 1057.69 Z\" fill=\"#000000\" fill-rule=\"evenodd\" fill-opacity=\"1\" /><path clip-path=\"url(#clip780)\" d=\"M 0 0 M2193.73 1061.39 Q2190.12 1061.39 2188.29 1064.96 Q2186.49 1068.5 2186.49 1075.63 Q2186.49 1082.74 2188.29 1086.3 Q2190.12 1089.84 2193.73 1089.84 Q2197.37 1089.84 2199.17 1086.3 Q2201 1082.74 2201 1075.63 Q2201 1068.5 2199.17 1064.96 Q2197.37 1061.39 2193.73 1061.39 M2193.73 1057.69 Q2199.54 1057.69 2202.6 1062.3 Q2205.68 1066.88 2205.68 1075.63 Q2205.68 1084.36 2202.6 1088.96 Q2199.54 1093.55 2193.73 1093.55 Q2187.92 1093.55 2184.84 1088.96 Q2181.79 1084.36 2181.79 1075.63 Q2181.79 1066.88 2184.84 1062.3 Q2187.92 1057.69 2193.73 1057.69 Z\" fill=\"#000000\" fill-rule=\"evenodd\" fill-opacity=\"1\" /><path clip-path=\"url(#clip780)\" d=\"M 0 0 M2211.55 1088.94 L2219.19 1088.94 L2219.19 1062.57 L2210.88 1064.24 L2210.88 1059.98 L2219.15 1058.31 L2223.82 1058.31 L2223.82 1088.94 L2231.46 1088.94 L2231.46 1092.87 L2211.55 1092.87 L2211.55 1088.94 Z\" fill=\"#000000\" fill-rule=\"evenodd\" fill-opacity=\"1\" /><polyline clip-path=\"url(#clip780)\" style=\"stroke:#e26f46; stroke-width:4; stroke-opacity:1; fill:none\" points=\"\n",
       "  1888.39,1136.07 2033.94,1136.07 \n",
       "  \"/>\n",
       "<path clip-path=\"url(#clip780)\" d=\"M 0 0 M2058.2 1117.34 L2062.48 1117.34 L2062.48 1138.61 L2075.19 1127.43 L2080.63 1127.43 L2066.88 1139.56 L2081.21 1153.35 L2075.65 1153.35 L2062.48 1140.69 L2062.48 1153.35 L2058.2 1153.35 L2058.2 1117.34 Z\" fill=\"#000000\" fill-rule=\"evenodd\" fill-opacity=\"1\" /><path clip-path=\"url(#clip780)\" d=\"M 0 0 M2086.23 1131.83 L2115.91 1131.83 L2115.91 1135.72 L2086.23 1135.72 L2086.23 1131.83 M2086.23 1141.27 L2115.91 1141.27 L2115.91 1145.21 L2086.23 1145.21 L2086.23 1141.27 Z\" fill=\"#000000\" fill-rule=\"evenodd\" fill-opacity=\"1\" /><path clip-path=\"url(#clip780)\" d=\"M 0 0 M2121.79 1149.42 L2129.43 1149.42 L2129.43 1123.05 L2121.12 1124.72 L2121.12 1120.46 L2129.38 1118.79 L2134.06 1118.79 L2134.06 1149.42 L2141.69 1149.42 L2141.69 1153.35 L2121.79 1153.35 L2121.79 1149.42 Z\" fill=\"#000000\" fill-rule=\"evenodd\" fill-opacity=\"1\" /><path clip-path=\"url(#clip780)\" d=\"M 0 0 M2146.76 1147.47 L2151.65 1147.47 L2151.65 1153.35 L2146.76 1153.35 L2146.76 1147.47 Z\" fill=\"#000000\" fill-rule=\"evenodd\" fill-opacity=\"1\" /><path clip-path=\"url(#clip780)\" d=\"M 0 0 M2160.74 1149.42 L2177.06 1149.42 L2177.06 1153.35 L2155.12 1153.35 L2155.12 1149.42 Q2157.78 1146.66 2162.37 1142.04 Q2166.97 1137.38 2168.15 1136.04 Q2170.4 1133.52 2171.28 1131.78 Q2172.18 1130.02 2172.18 1128.33 Q2172.18 1125.58 2170.24 1123.84 Q2168.31 1122.1 2165.21 1122.1 Q2163.01 1122.1 2160.56 1122.87 Q2158.13 1123.63 2155.35 1125.18 L2155.35 1120.46 Q2158.18 1119.33 2160.63 1118.75 Q2163.08 1118.17 2165.12 1118.17 Q2170.49 1118.17 2173.68 1120.85 Q2176.88 1123.54 2176.88 1128.03 Q2176.88 1130.16 2176.07 1132.08 Q2175.28 1133.98 2173.18 1136.57 Q2172.6 1137.24 2169.49 1140.46 Q2166.39 1143.66 2160.74 1149.42 Z\" fill=\"#000000\" fill-rule=\"evenodd\" fill-opacity=\"1\" /><polyline clip-path=\"url(#clip780)\" style=\"stroke:#3da44d; stroke-width:4; stroke-opacity:1; fill:none\" points=\"\n",
       "  1888.39,1196.55 2033.94,1196.55 \n",
       "  \"/>\n",
       "<path clip-path=\"url(#clip780)\" d=\"M 0 0 M2058.2 1177.82 L2062.48 1177.82 L2062.48 1199.09 L2075.19 1187.91 L2080.63 1187.91 L2066.88 1200.04 L2081.21 1213.83 L2075.65 1213.83 L2062.48 1201.17 L2062.48 1213.83 L2058.2 1213.83 L2058.2 1177.82 Z\" fill=\"#000000\" fill-rule=\"evenodd\" fill-opacity=\"1\" /><path clip-path=\"url(#clip780)\" d=\"M 0 0 M2086.23 1192.31 L2115.91 1192.31 L2115.91 1196.2 L2086.23 1196.2 L2086.23 1192.31 M2086.23 1201.75 L2115.91 1201.75 L2115.91 1205.69 L2086.23 1205.69 L2086.23 1201.75 Z\" fill=\"#000000\" fill-rule=\"evenodd\" fill-opacity=\"1\" /><path clip-path=\"url(#clip780)\" d=\"M 0 0 M2121.79 1209.9 L2129.43 1209.9 L2129.43 1183.53 L2121.12 1185.2 L2121.12 1180.94 L2129.38 1179.27 L2134.06 1179.27 L2134.06 1209.9 L2141.69 1209.9 L2141.69 1213.83 L2121.79 1213.83 L2121.79 1209.9 Z\" fill=\"#000000\" fill-rule=\"evenodd\" fill-opacity=\"1\" /><path clip-path=\"url(#clip780)\" d=\"M 0 0 M2146.76 1207.95 L2151.65 1207.95 L2151.65 1213.83 L2146.76 1213.83 L2146.76 1207.95 Z\" fill=\"#000000\" fill-rule=\"evenodd\" fill-opacity=\"1\" /><path clip-path=\"url(#clip780)\" d=\"M 0 0 M2169.56 1183.35 L2157.76 1201.8 L2169.56 1201.8 L2169.56 1183.35 M2168.34 1179.27 L2174.22 1179.27 L2174.22 1201.8 L2179.15 1201.8 L2179.15 1205.69 L2174.22 1205.69 L2174.22 1213.83 L2169.56 1213.83 L2169.56 1205.69 L2153.96 1205.69 L2153.96 1201.17 L2168.34 1179.27 Z\" fill=\"#000000\" fill-rule=\"evenodd\" fill-opacity=\"1\" /><polyline clip-path=\"url(#clip780)\" style=\"stroke:#c271d2; stroke-width:4; stroke-opacity:1; fill:none\" points=\"\n",
       "  1888.39,1257.03 2033.94,1257.03 \n",
       "  \"/>\n",
       "<path clip-path=\"url(#clip780)\" d=\"M 0 0 M2058.2 1238.3 L2062.48 1238.3 L2062.48 1259.57 L2075.19 1248.39 L2080.63 1248.39 L2066.88 1260.52 L2081.21 1274.31 L2075.65 1274.31 L2062.48 1261.65 L2062.48 1274.31 L2058.2 1274.31 L2058.2 1238.3 Z\" fill=\"#000000\" fill-rule=\"evenodd\" fill-opacity=\"1\" /><path clip-path=\"url(#clip780)\" d=\"M 0 0 M2086.23 1252.79 L2115.91 1252.79 L2115.91 1256.68 L2086.23 1256.68 L2086.23 1252.79 M2086.23 1262.23 L2115.91 1262.23 L2115.91 1266.17 L2086.23 1266.17 L2086.23 1262.23 Z\" fill=\"#000000\" fill-rule=\"evenodd\" fill-opacity=\"1\" /><path clip-path=\"url(#clip780)\" d=\"M 0 0 M2121.79 1270.38 L2129.43 1270.38 L2129.43 1244.01 L2121.12 1245.68 L2121.12 1241.42 L2129.38 1239.75 L2134.06 1239.75 L2134.06 1270.38 L2141.69 1270.38 L2141.69 1274.31 L2121.79 1274.31 L2121.79 1270.38 Z\" fill=\"#000000\" fill-rule=\"evenodd\" fill-opacity=\"1\" /><path clip-path=\"url(#clip780)\" d=\"M 0 0 M2146.76 1268.43 L2151.65 1268.43 L2151.65 1274.31 L2146.76 1274.31 L2146.76 1268.43 Z\" fill=\"#000000\" fill-rule=\"evenodd\" fill-opacity=\"1\" /><path clip-path=\"url(#clip780)\" d=\"M 0 0 M2167.3 1255.17 Q2164.15 1255.17 2162.3 1257.32 Q2160.47 1259.48 2160.47 1263.23 Q2160.47 1266.95 2162.3 1269.13 Q2164.15 1271.28 2167.3 1271.28 Q2170.44 1271.28 2172.27 1269.13 Q2174.12 1266.95 2174.12 1263.23 Q2174.12 1259.48 2172.27 1257.32 Q2170.44 1255.17 2167.3 1255.17 M2176.58 1240.52 L2176.58 1244.78 Q2174.82 1243.94 2173.01 1243.5 Q2171.23 1243.06 2169.47 1243.06 Q2164.84 1243.06 2162.39 1246.19 Q2159.96 1249.31 2159.61 1255.63 Q2160.98 1253.62 2163.04 1252.56 Q2165.1 1251.47 2167.57 1251.47 Q2172.78 1251.47 2175.79 1254.64 Q2178.82 1257.79 2178.82 1263.23 Q2178.82 1268.55 2175.68 1271.77 Q2172.53 1274.99 2167.3 1274.99 Q2161.3 1274.99 2158.13 1270.4 Q2154.96 1265.8 2154.96 1257.07 Q2154.96 1248.87 2158.85 1244.01 Q2162.74 1239.13 2169.29 1239.13 Q2171.05 1239.13 2172.83 1239.48 Q2174.63 1239.82 2176.58 1240.52 Z\" fill=\"#000000\" fill-rule=\"evenodd\" fill-opacity=\"1\" /><polyline clip-path=\"url(#clip780)\" style=\"stroke:#ac8d18; stroke-width:4; stroke-opacity:1; fill:none\" points=\"\n",
       "  1888.39,1317.51 2033.94,1317.51 \n",
       "  \"/>\n",
       "<path clip-path=\"url(#clip780)\" d=\"M 0 0 M2058.2 1298.78 L2062.48 1298.78 L2062.48 1320.05 L2075.19 1308.87 L2080.63 1308.87 L2066.88 1321 L2081.21 1334.79 L2075.65 1334.79 L2062.48 1322.13 L2062.48 1334.79 L2058.2 1334.79 L2058.2 1298.78 Z\" fill=\"#000000\" fill-rule=\"evenodd\" fill-opacity=\"1\" /><path clip-path=\"url(#clip780)\" d=\"M 0 0 M2086.23 1313.27 L2115.91 1313.27 L2115.91 1317.16 L2086.23 1317.16 L2086.23 1313.27 M2086.23 1322.71 L2115.91 1322.71 L2115.91 1326.65 L2086.23 1326.65 L2086.23 1322.71 Z\" fill=\"#000000\" fill-rule=\"evenodd\" fill-opacity=\"1\" /><path clip-path=\"url(#clip780)\" d=\"M 0 0 M2121.79 1330.86 L2129.43 1330.86 L2129.43 1304.49 L2121.12 1306.16 L2121.12 1301.9 L2129.38 1300.23 L2134.06 1300.23 L2134.06 1330.86 L2141.69 1330.86 L2141.69 1334.79 L2121.79 1334.79 L2121.79 1330.86 Z\" fill=\"#000000\" fill-rule=\"evenodd\" fill-opacity=\"1\" /><path clip-path=\"url(#clip780)\" d=\"M 0 0 M2146.76 1328.91 L2151.65 1328.91 L2151.65 1334.79 L2146.76 1334.79 L2146.76 1328.91 Z\" fill=\"#000000\" fill-rule=\"evenodd\" fill-opacity=\"1\" /><path clip-path=\"url(#clip780)\" d=\"M 0 0 M2166.72 1318.38 Q2163.38 1318.38 2161.46 1320.16 Q2159.56 1321.95 2159.56 1325.07 Q2159.56 1328.2 2161.46 1329.98 Q2163.38 1331.76 2166.72 1331.76 Q2170.05 1331.76 2171.97 1329.98 Q2173.89 1328.17 2173.89 1325.07 Q2173.89 1321.95 2171.97 1320.16 Q2170.07 1318.38 2166.72 1318.38 M2162.04 1316.39 Q2159.03 1315.65 2157.34 1313.59 Q2155.68 1311.53 2155.68 1308.57 Q2155.68 1304.42 2158.62 1302.02 Q2161.58 1299.61 2166.72 1299.61 Q2171.88 1299.61 2174.82 1302.02 Q2177.76 1304.42 2177.76 1308.57 Q2177.76 1311.53 2176.07 1313.59 Q2174.4 1315.65 2171.42 1316.39 Q2174.8 1317.18 2176.67 1319.47 Q2178.57 1321.76 2178.57 1325.07 Q2178.57 1330.1 2175.49 1332.78 Q2172.43 1335.47 2166.72 1335.47 Q2161 1335.47 2157.92 1332.78 Q2154.87 1330.1 2154.87 1325.07 Q2154.87 1321.76 2156.76 1319.47 Q2158.66 1317.18 2162.04 1316.39 M2160.33 1309.01 Q2160.33 1311.69 2161.99 1313.2 Q2163.68 1314.7 2166.72 1314.7 Q2169.73 1314.7 2171.42 1313.2 Q2173.13 1311.69 2173.13 1309.01 Q2173.13 1306.32 2171.42 1304.82 Q2169.73 1303.31 2166.72 1303.31 Q2163.68 1303.31 2161.99 1304.82 Q2160.33 1306.32 2160.33 1309.01 Z\" fill=\"#000000\" fill-rule=\"evenodd\" fill-opacity=\"1\" /><polyline clip-path=\"url(#clip780)\" style=\"stroke:#00a9ad; stroke-width:4; stroke-opacity:1; fill:none\" points=\"\n",
       "  1888.39,1377.99 2033.94,1377.99 \n",
       "  \"/>\n",
       "<path clip-path=\"url(#clip780)\" d=\"M 0 0 M2058.2 1359.26 L2062.48 1359.26 L2062.48 1380.53 L2075.19 1369.35 L2080.63 1369.35 L2066.88 1381.48 L2081.21 1395.27 L2075.65 1395.27 L2062.48 1382.61 L2062.48 1395.27 L2058.2 1395.27 L2058.2 1359.26 Z\" fill=\"#000000\" fill-rule=\"evenodd\" fill-opacity=\"1\" /><path clip-path=\"url(#clip780)\" d=\"M 0 0 M2086.23 1373.75 L2115.91 1373.75 L2115.91 1377.64 L2086.23 1377.64 L2086.23 1373.75 M2086.23 1383.19 L2115.91 1383.19 L2115.91 1387.13 L2086.23 1387.13 L2086.23 1383.19 Z\" fill=\"#000000\" fill-rule=\"evenodd\" fill-opacity=\"1\" /><path clip-path=\"url(#clip780)\" d=\"M 0 0 M2125 1391.34 L2141.32 1391.34 L2141.32 1395.27 L2119.38 1395.27 L2119.38 1391.34 Q2122.04 1388.58 2126.62 1383.96 Q2131.23 1379.3 2132.41 1377.96 Q2134.66 1375.44 2135.54 1373.7 Q2136.44 1371.94 2136.44 1370.25 Q2136.44 1367.5 2134.5 1365.76 Q2132.57 1364.02 2129.47 1364.02 Q2127.27 1364.02 2124.82 1364.79 Q2122.39 1365.55 2119.61 1367.1 L2119.61 1362.38 Q2122.43 1361.25 2124.89 1360.67 Q2127.34 1360.09 2129.38 1360.09 Q2134.75 1360.09 2137.94 1362.77 Q2141.14 1365.46 2141.14 1369.95 Q2141.14 1372.08 2140.33 1374 Q2139.54 1375.9 2137.43 1378.49 Q2136.86 1379.16 2133.75 1382.38 Q2130.65 1385.58 2125 1391.34 Z\" fill=\"#000000\" fill-rule=\"evenodd\" fill-opacity=\"1\" /><path clip-path=\"url(#clip780)\" d=\"M 0 0 M2146.39 1389.39 L2151.28 1389.39 L2151.28 1395.27 L2146.39 1395.27 L2146.39 1389.39 Z\" fill=\"#000000\" fill-rule=\"evenodd\" fill-opacity=\"1\" /><path clip-path=\"url(#clip780)\" d=\"M 0 0 M2166.35 1363.79 Q2162.74 1363.79 2160.91 1367.36 Q2159.1 1370.9 2159.1 1378.03 Q2159.1 1385.14 2160.91 1388.7 Q2162.74 1392.24 2166.35 1392.24 Q2169.98 1392.24 2171.79 1388.7 Q2173.62 1385.14 2173.62 1378.03 Q2173.62 1370.9 2171.79 1367.36 Q2169.98 1363.79 2166.35 1363.79 M2166.35 1360.09 Q2172.16 1360.09 2175.21 1364.7 Q2178.29 1369.28 2178.29 1378.03 Q2178.29 1386.76 2175.21 1391.36 Q2172.16 1395.95 2166.35 1395.95 Q2160.54 1395.95 2157.46 1391.36 Q2154.4 1386.76 2154.4 1378.03 Q2154.4 1369.28 2157.46 1364.7 Q2160.54 1360.09 2166.35 1360.09 Z\" fill=\"#000000\" fill-rule=\"evenodd\" fill-opacity=\"1\" /></svg>\n"
      ]
     },
     "metadata": {},
     "output_type": "display_data"
    }
   ],
   "source": [
    "using Plots\n",
    "\n",
    "# We fix Tk(1)=1 to get a better comparaison\n",
    "Tk_scaled = (K-K^(1-x))/(K-1)\n",
    "\n",
    "graph = plot(Tk_scaled(K=>1.001), -3, 5, label=\"k=1.001\", legend=:bottomright)\n",
    "for i in 1.2:0.2:2\n",
    "    plot!(graph, Tk_scaled(K=>i), -3, 5, label=\"k=$i\")\n",
    "end\n",
    "\n",
    "display(graph)"
   ]
  },
  {
   "cell_type": "markdown",
   "metadata": {},
   "source": [
    "### "
   ]
  },
  {
   "cell_type": "markdown",
   "metadata": {},
   "source": [
    "### The $U_K$ function and its parameters"
   ]
  },
  {
   "cell_type": "markdown",
   "metadata": {},
   "source": [
    "So the proposed alternative utility function of this article is finally:<br>\n",
    "$U_K(w)= \\sum_i m_w(i)*U_K([i])$<br>\n",
    "$U_K([x])= 1-K^{-x/e}$\n",
    "\n",
    "Where $K$ correspond to how much we care for equity, and $e$ correspond to the unit we use to represent the intensity of a element.<br>\n",
    "This is what I propose to name \"K-utilitarianism\".\n",
    "\n",
    "The value we will want to give to the two parameters will depend on what we are representing and on the intuition of each person. But we can determine their value if we can compare examples of distributions.<br>\n",
    "That is to say, the main idea is that the form of the utility function assure us it follow some general principles, and we choose the two parameters for the function to best fit our moral intuition on set of particulars cases."
   ]
  },
  {
   "cell_type": "markdown",
   "metadata": {},
   "source": [
    "### Examples with some $K=2$ and $e=1$ "
   ]
  },
  {
   "cell_type": "code",
   "execution_count": 121,
   "metadata": {},
   "outputs": [
    {
     "name": "stdout",
     "output_type": "stream",
     "text": [
      "[-1.0, 2.0, 2.0, 2.0, 2.0] > [2.0, 2.0] (ratio=1.333)\n",
      "[-1.5, 2.0, 2.0, 2.0, 2.0] < [2.0, 2.0] (ratio=1.28)\n",
      "[20.0, 5.0] > [21.0] (ratio=1.969)\n",
      "[-50.0, -50.0] ≈ [-51.0] (ratio=1.0)\n",
      "[-1.0] < Float64[] (ratio=-Inf)\n",
      "[5.0, 5.0, 5.0, 5.0, 5.0, 5.0, 5.0, 5.0, -5.0] < [5.0] (ratio=-24.0)\n",
      "[5.0, 5.0, 5.0, 5.0, 5.0, 5.0, 5.0, 5.0, 5.0, 5.0, 5.0, 5.0, 5.0, 5.0, 5.0, 5.0, 5.0, 5.0, 5.0, 5.0, 5.0, 5.0, 5.0, 5.0, 5.0, 5.0, 5.0, 5.0, 5.0, 5.0, 5.0, 5.0, 5.0, 5.0, 5.0, -5.0] > [5.0] (ratio=3.0)\n",
      "[2.0, 2.0, 2.0, 2.0] > [20.0] (ratio=3.0)\n",
      "[2.0, 2.0, 2.0, 2.0] ≈ [50.0, 50.0, 1.0, 1.0] (ratio=1.0)\n",
      "[2.0, 2.0, 2.0, 2.0] < [10.0, 10.0, 10.0, 1.0] (ratio=1.166)\n",
      "[-30.0, 50.0, 50.0, 50.0, 50.0] < [-20.0] (ratio=1024.001)\n"
     ]
    }
   ],
   "source": [
    "Uk(K, e, w) = K > 1 ? sum([1-K^(-x/e) for x in w]) : sum(w)\n",
    "\n",
    "K = 2\n",
    "e = 1\n",
    "\n",
    "worlds_pair = Tuple{Array{Float64}, Array{Float64}}[\n",
    "    ([-1,2,2,2,2], [2,2]),\n",
    "    ([-1.5,2,2,2,2], [2,2]),\n",
    "    ([20, 5], [21]),\n",
    "    ([-50, -50], [-51]),\n",
    "    ([-1], []),\n",
    "    ([5, 5, 5, 5, 5, 5, 5, 5, -5], [5]),\n",
    "    ([fill(5,35); -5], [5]),\n",
    "    ([2, 2, 2, 2], [20]),\n",
    "    ([2, 2, 2, 2], [50, 50, 1, 1]),\n",
    "    ([2, 2, 2, 2], [10, 10, 10, 1]),\n",
    "    ([-30, 50, 50, 50, 50], [-20])\n",
    "]\n",
    "\n",
    "for (w1, w2) in worlds_pair\n",
    "    w1v = Uk(K, e, w1)\n",
    "    w2v = Uk(K, e, w2)\n",
    "    \n",
    "    if w1v ≈ w2v\n",
    "        print(\"$w1 ≈ $w2\")\n",
    "    elseif w1v < w2v\n",
    "        print(\"$w1 < $w2\")\n",
    "    else\n",
    "        print(\"$w1 > $w2\")\n",
    "    end\n",
    "    \n",
    "    \n",
    "    if abs(w1v/w2v) > 1\n",
    "        ratio = round(w1v/w2v, digits=3)\n",
    "    else\n",
    "        ratio = round(w2v/w1v, digits=3)        \n",
    "    end\n",
    "    \n",
    "    println(\" (ratio=$ratio)\")\n",
    "end"
   ]
  },
  {
   "cell_type": "markdown",
   "metadata": {},
   "source": [
    "## "
   ]
  },
  {
   "cell_type": "code",
   "execution_count": null,
   "metadata": {},
   "outputs": [],
   "source": []
  },
  {
   "cell_type": "markdown",
   "metadata": {},
   "source": [
    "## Difficult compromise between $U_T$ and $U_L$"
   ]
  },
  {
   "cell_type": "markdown",
   "metadata": {},
   "source": [
    "If $U_C$ is a compromise between $U_1$ and $U_2$, then each time $U_1$ and $U_2$ agree together, $U_C$ should also agree with them. (a compromise is only here to fix the cases where there is a disagreement)\n",
    "\n",
    "To illustrate why $U_k$ isn’t an compromise between $U_T$ and $U_L$, take by exemple $w_1=[1.000001, 10^{\\S 100}, 1020]$ and $w_2=[1, 20^{\\S 101}]$, we can see that :<br>\n",
    "$U_L(w_1)>U_L(w_2)$ because $1.000001 > 1$ and<br>\n",
    "$U_T(w_1)>U_T(w_2)$ because $1020$ compensate for the rest\n",
    "\n",
    "The problem is that if we don’t care infinitely about equity then $1.000001 \\approx 1$. <br>\n",
    "And if care a little about equity, one element going from $20$ to $1020$ can’t compensate for $100$ elements going from $20$ to $10$.\n",
    "\n",
    "That is to say, if we care about equity and quantity, there are worlds where we will disagree with $U_T$ and $U_L$, and this is because $U_T$ and $U_L$ where agreeing together but not for the same reason.<br>\n",
    "So a compromise between the principles that lead to $U_T$ and $U_L$ lead to a different result than a compromise between $U_T$ and $U_L$.\n",
    "\n",
    "But if we restrain ourself to locally independant utility functions, what would a compromize between $U_T$ and $U_L$ look like ?<br>\n",
    "\n",
    "$U_1$ and $U_2$ agree on $w_1$ and $w_2$ if they agree on how $w_1$ compare to $w_2$ :<br>\n",
    "$\n",
    "\\begin{align*}\n",
    "agree(U_1, U_2, w_1, w_2) \\Leftrightarrow &(U_1(w_1) \\leq U_1(w_2) \\text{ and } U_2(w_1) \\leq U_2(w_2)) \\text{ or}\\\\\n",
    "&(U_1(w_1) \\geq U_1(w_2) \\text{ and } U_2(w_1) \\geq U_2(w_2))\n",
    "\\end{align*}\n",
    "$\n",
    "\n",
    "We define $\\mathbb{A}(U_1, U_2)$, the set of couple of worlds for which $U_1$ and $U_2$ agree :<br>\n",
    "$\\mathbb{A}(U_1, U_2) = \\{(w_1, w_2)\\in\\mathbb{W}^2 | agree(U_1, U_2, w_1, w_2)\\}$\n",
    "\n",
    "The compromises between $U_1$ and $U_2$ (named $\\mathbb{C}(U_1, U_2)$), are the utility functions which agree with $U_1$ and $U_2$ when they agree together :<br>\n",
    "$\\mathbb{C}(U_1, U_2) = \\{U_c | \\forall (w_1, w_2)\\in\\mathbb{W}^2, agree(U_1,U_2, w_1, w_2) \\Rightarrow agree(U_c, U_1, w_1, w_2)\\}$<br>\n",
    "Or equivalently : <br>\n",
    "$\\mathbb{C}(U_1, U_2) = \\{U_c | \\mathbb{A}(U_1, U_2) \\subset \\mathbb{A}(U_c, U_1)\\}$\n",
    "\n",
    "\n",
    "Given :<br>\n",
    "- $Uc$ is locally independent.<br>\n",
    "- $Uc \\in\\mathbb{C}(U_T, U_L)$<br>\n",
    "\n",
    "Then :<br>\n",
    "$\\forall(w_1,w_2)\\in\\mathbb{W}^2, (w_1,w_2)\\in\\mathbb{A}(U_C, U_T) \\text{ or } (w_1,w_2)\\in\\mathbb{A}(U_C, U_L)$\n",
    "\n",
    "Take $(w1, w2)$ to be a pair of world where $U_T$ and $U_L$ disagree, and where $U_C$ agree with $U_L$:<br>\n",
    "$(w_1, w_2)\\notin\\mathbb{A}(U_T, U_L)$<br>\n",
    "$(w_1, w_2)\\notin\\mathbb{A}(U_C, U_L)$<br>\n",
    "\n",
    "Assume, without loss of generality, than $U_L(w_1) < U_L(w_2)$ :<br>\n",
    "$\n",
    "\\begin{align*}\n",
    "&U_T(w1) \\geq U_T(w2)\\\\\n",
    "&x_{min} = min(w1+w2)\\\\\n",
    "&x_{max} = U_T(w2)-U_T(w1)\\\\\n",
    "&\\forall x_{max}<e<0, && U_L(w1+[x_{min}]) > U_L(w2+[x_{min}-e]) \\text{ and }\\\\\n",
    "& &&U_L(w1+[x_{min}]) > U_L(w2+[x_{min}-e])\\\\\n",
    "& &&\\Rightarrow U_C(w1+[x_{min}]) > U_C(w2+[x_{min}-e])\n",
    "\\end{align*}\n",
    "$ \n",
    "\n",
    "Thanks for reading :-)"
   ]
  },
  {
   "cell_type": "markdown",
   "metadata": {},
   "source": [
    "lemme :\n",
    "\n",
    "L : a < b < c < d  \n",
    "T : a > b  \n",
    "\n",
    "C : a > b ⇒ Agree(Uc, Ut, c, d)  \n",
    "cad:  \n",
    "Agree(Uc, Ut, a, b) et non(Agree(Uc, Ul, a, b)) et c >L b et d >L b ⇒ Agree(Uc, Ut, c, d)  "
   ]
  },
  {
   "cell_type": "markdown",
   "metadata": {},
   "source": [
    "données:\n",
    "T = {(w1,w2)∈W^2 |w1<w2 et Agree(Uc, Ut, w1, w2) et non(Agree(Uc, Ul, w1, w2))}\n",
    "\n",
    "T = ∅ ⇒ ∀(w1,w2)∈W^2, non(w2<w1 et Agree(Uc, Ut, w1, w2) et non(Agree(Uc, Ul, w1, w2)))\n",
    "⇒ ∀(w1,w2), w1>=w2 ou non(Agree(Uc, Ut, w1, w2)) ou Agree(Uc, Ul, w1, w2)\n",
    "⇒ ∀(w1,w2)∈W^2, w1<w2 ⇒ Agree(Uc, Ul, w1, w2)\n",
    "⇒ Uc = Ul\n",
    "\n",
    "T_right = {w2 | ∃w1, (w1, w2)∈T}\n",
    "\n",
    "L→w_inf→T_left\n",
    "\n",
    "w_inf = inf(T_right)  \n",
    "LB = {w_small | ∀w_big∈T_right, w_small ≤ w_big}  \n",
    "w_inf∈LB  \n",
    "and  \n",
    "∀w∈LB, w_inf >= w  \n",
    "\n",
    "∀(w1, w2)∈W^2, w1 < w2 < w_inf ⇒ w1∉T_right et w2∉T_right\n",
    "⇒ (w1, w2)∉T ⇒ non(w1<w2 et Agree(Uc, Ut, w1, w2) et non(Agree(Uc, Ul, w1, w2)))  \n",
    "⇒ non(Agree(Uc, Ut, w1, w2)) ou Agree(Uc, Ul, w1, w2)  \n",
    "⇒ Agree(Uc, Ul, w1, w2)\n",
    "\n",
    "∀(w1, w2)∈W^2, w1 > w2 > w_inf ⇒ ∃w, (w, w_inf)∈T et w < w_inf < w1 < w2\n",
    "⇒ Agree(Uc, Ut, w1, w2) (lemme)\n",
    "\n",
    "∀(w1, w2), w1 < w_inf < w2\n",
    "\n",
    "Agree(Uc, Ut, w1, w2) et Agree(Uc, Ul, w1, w2) ⇒ Agree(Uc, Ul, w1, w2)\n",
    "ou\n",
    "non(Agree(Uc, Ut, w1, w2)) et Agree(Uc, Ul, w1, w2) ⇒ Agree(Uc, Ul, w1, w2)\n",
    "ou\n",
    "Agree(Uc, Ut, w1, w2) et non(Agree(Uc, Ul, w1, w2)) ⇒\n",
    "(w1, w2)∈T ⇒ w1 >c w2 (nonL) et w1 <c w_inf(L)\n",
    "C: w2 < w1 < w_inf\n",
    "T: w2 < winf\n",
    "\n",
    "L: w1 < w < w_inf < w2 ⇒ w < w2\n",
    "C: w2 < w1 < w < w_inf ⇒ w2 < w \n",
    "T: w2 < w\n",
    "(w,w2)∈T \n"
   ]
  }
 ],
 "metadata": {
  "kernelspec": {
   "display_name": "Julia 1.5.3",
   "language": "julia",
   "name": "julia-1.5"
  },
  "language_info": {
   "file_extension": ".jl",
   "mimetype": "application/julia",
   "name": "julia",
   "version": "1.5.3"
  },
  "name": "k-utilitarianism.ipynb",
  "toc-autonumbering": false,
  "toc-showcode": false,
  "toc-showmarkdowntxt": false,
  "toc-showtags": false
 },
 "nbformat": 4,
 "nbformat_minor": 4
}
