{
 "cells": [
  {
   "cell_type": "markdown",
   "metadata": {
    "ein.tags": "worksheet-0",
    "slideshow": {
     "slide_type": "-"
    }
   },
   "source": [
    "# A compromise between total and leximin utilitarianism"
   ]
  },
  {
   "cell_type": "markdown",
   "metadata": {
    "ein.tags": "worksheet-0",
    "slideshow": {
     "slide_type": "-"
    }
   },
   "source": [
    "## Introduction"
   ]
  },
  {
   "cell_type": "markdown",
   "metadata": {
    "ein.tags": "worksheet-0",
    "slideshow": {
     "slide_type": "-"
    }
   },
   "source": [
    "You can find the jupyter notebook of this document __[here]()__ (I used the sagemath kernel)  \n",
    "You can find the pdf of this document __[here]()__.\n",
    "\n",
    "The goal of this document is to quickly highly the problems in different kind of utilitarianisms, and present a compromise between total and leximin utilitarianism.  \n",
    "\n",
    "I am a hedonistic consequentialist, and so I wrote this document with the idea that what give its intrinsic (dis)value to something is the intensity or quantity of suffering and pleasure.  \n",
    "Anyway this document focus on how to aggregate the value of a set of local things into the global value of the sum of these things, and not on how to determine the intrinsic value of these local things.  \n",
    "So even if you intrinsically values something else that suffering and pleasure, like autonomy, the fullfilling of preferences, liberty, etc… (or a combinaison of theses), I think the idea highlighted here should still matter approximatively the same way.  \n",
    "\n",
    "What is \"local\" here, will also be up to the reader. Probably a closed individualist will want to focus on the individus, where a empty/open individualist will want to focus on subjective experiences.  \n",
    "\n",
    "Take into account I am not really satisfied with the compromise I am proposing here, but supprisingly and unfortunately, I never found something akind to it, so it will at least be a first draft towards this direction.  "
   ]
  },
  {
   "cell_type": "markdown",
   "metadata": {
    "ein.tags": "worksheet-0",
    "slideshow": {
     "slide_type": "-"
    }
   },
   "source": [
    "## Formalism"
   ]
  },
  {
   "cell_type": "markdown",
   "metadata": {
    "ein.tags": "worksheet-0",
    "slideshow": {
     "slide_type": "-"
    }
   },
   "source": [
    "_What follow is a cumbersome, but I wanted to make a intuitive notation more formal, you can probably skip it without losing in understanding_.\n",
    "\n",
    "We will represente the possible worlds as __[multiset](https://en.wikipedia.org/wiki/Multiset)__ with element taken in the set of real number.\n",
    "a(R,m)\n",
    "\n",
    "Each element of these multiset represent the intrinsic local value of an \"atomistic valuable\" subset of the world.  \n",
    "Where an atomistic valuable subset of the world is defined as a minimun subset of the world for which it still make sense to attribut a intrinsic value.(probably part of the life of a individus or a subjective experience)  \n",
    "\n",
    "By example, if what is valued is suffering and pleasure, and we want to represente a world composed of these 7 subjective experiences:  \n",
    "- 3 identically low pleasure (That we will assign a intrinsic value of 1)\n",
    "- 2 identically low suffering (-1)\n",
    "- 1 strong pleasure (100)\n",
    "- 1 strong suffering (-100)\n",
    "\n",
    "Then we can represent this world by : $[1, 1, 1, -1, -1, 100, -100]$ or more succinctly $[1^{3}, -1^{2}, 100, -100]$\n",
    "\n",
    "$\\mathbb{W}$ will be the set of all possible world:  \n",
    "$\\mathbb{W} = \\{(A, m_A) | A\\in \\mathbb{R}, m_A:\\mathbb{R}\\to \\mathbb{N}\\}$\n",
    "\n",
    "Our utility functions will be of the form $\\textbf{U} :  \\mathbb{W} \\to E$  \n",
    "Where E is a __[totally ordered set](http://mathworld.wolfram.com/TotallyOrderedSet.html)__  \n",
    "And where $\\textbf{U}(X) > \\textbf{U}(Y)$ mean that the world X is better than the world Y. (or that between X and Y, X should be chosen)\n",
    "\n",
    "Most of the time $E=\\mathbb{R}$, but some order (like leximin), can’t be represented in $\\mathbb{R}$."
   ]
  },
  {
   "cell_type": "markdown",
   "metadata": {
    "ein.tags": "worksheet-0",
    "slideshow": {
     "slide_type": "-"
    }
   },
   "source": [
    "## Total utilitarianism"
   ]
  },
  {
   "cell_type": "markdown",
   "metadata": {
    "ein.tags": "worksheet-0",
    "slideshow": {
     "slide_type": "-"
    }
   },
   "source": [
    "Total utilitarianism is the simplest form of utilitarianism, we just sum the utility of every local part:  \n",
    "$\\textbf{U}_T(X) = \\sum_{i \\in Supp(X)} m_X(i)*i$  \n",
    "Example :  \n",
    "$\\textbf{U}_T([-5^2,3^3,7^4]) = 2*-5 + 3*3 + 4*7 = 27$\n",
    "\n",
    "The problem is we are lacking some idea of equity :  \n",
    "$\\textbf{U}_T([10, 10]) < \\textbf{U}_T([-50, 71])$\n",
    "\n",
    "And also its imply what is called the repugnant conclusion :  \n",
    "$\\textbf{U}_T([100^{100}]) < \\textbf{U}_T([1^{10001}])$"
   ]
  },
  {
   "cell_type": "markdown",
   "metadata": {
    "ein.tags": "worksheet-0",
    "slideshow": {
     "slide_type": "-"
    }
   },
   "source": [
    "## The repugnant conclusion and local independance"
   ]
  },
  {
   "cell_type": "markdown",
   "metadata": {
    "ein.tags": "worksheet-0",
    "slideshow": {
     "slide_type": "-"
    }
   },
   "source": [
    "### Local independance"
   ]
  },
  {
   "cell_type": "markdown",
   "metadata": {
    "ein.tags": "worksheet-0",
    "slideshow": {
     "slide_type": "-"
    }
   },
   "source": [
    "I believe the utility function should \"locally independant\".\n",
    "By that I mean that if a local thing X is better than another local thing Y, it stay better whatever you change outside it.\n",
    "\n",
    "$\\forall (X,Y,A,B) \\in \\mathbb{W}^4, \\textbf{U}(X+A) > \\textbf{U}(Y+A) \\Rightarrow \\textbf{U}(X+B) > \\textbf{U}(Y+B)$\n",
    "\n",
    "\n",
    "Falling to meet this criteria would be strongly problematic, because you would always have take into account the whole to know what to do locally. (even the part of this whole that are causally independant of what you choose to do).\n",
    "That mean that even if you know you have no influence on something, or that on average your expected influence is neutral, you can’t avoid to take it into account because the intrinsic value of the things you have direct influence on, would be dependant of the whole."
   ]
  },
  {
   "cell_type": "markdown",
   "metadata": {
    "ein.tags": "worksheet-0",
    "slideshow": {
     "slide_type": "-"
    }
   },
   "source": [
    "### Average utilitarianism"
   ]
  },
  {
   "cell_type": "markdown",
   "metadata": {
    "ein.tags": "worksheet-0",
    "slideshow": {
     "slide_type": "-"
    }
   },
   "source": [
    "Instead the sum of local utilities, average utilitarianism compute the average:  \n",
    "$\\textbf{U}_A(X) = \\cfrac{\\sum_{i \\in Supp(X)} m_X(i)*i}{|X|}$  \n",
    "Example :  \n",
    "$\\textbf{U}_A([-5^2,3^3,7^4]) = \\cfrac{(2*-5 + 3*3 + 4*7)}{(2+3+4)} = 3$\n",
    "\n",
    "I think the main idea of average utilitarianism was to avoid the repugnant conclusion.  \n",
    "Unfortunately this version of utilitarianism isn’t locally independant (and also sort of crazy):  \n",
    "$\\textbf{U}_A([10]) > \\textbf{U}_A([9, 9])$  \n",
    "but:  \n",
    "$\\textbf{U}_A([10, 5, 5]) < \\textbf{U}_A([9, 9, 5, 5])$  \n",
    "\n",
    "But if you think it is still good, you also have :  \n",
    "$\\textbf{U}_A([-99^{100}, -100]) > \\textbf{U}_A([-100])$  \n",
    "$\\textbf{U}_A([100]) > \\textbf{U}_A([99^{100}, 100])$"
   ]
  },
  {
   "cell_type": "markdown",
   "metadata": {
    "ein.tags": "worksheet-0",
    "slideshow": {
     "slide_type": "-"
    }
   },
   "source": [
    "### The repugnant conclusion is hardly avoidable"
   ]
  },
  {
   "cell_type": "markdown",
   "metadata": {
    "ein.tags": "worksheet-0",
    "slideshow": {
     "slide_type": "-"
    }
   },
   "source": [
    "The only way to avoid the repugnant conclusion while keeping local independence would be to have, somewhere in the utility function, a local utility which is infinitely more valuable that another arbitrarily close local utility:  \n",
    "\n",
    "$\\forall \\epsilon \\in \\mathbb{R}_{>0}, \\exists V \\in \\mathbb{R}_{>0}, \\forall N , \\in \\mathbb{N} , U([V]) > U([(V-\\epsilon)^N])$  \n",
    "Otherwise you would be able to start from $V$, remove $\\epsilon$ an abritrary number of time (making $N$ grow exponentially in the process), and end up with something arbitrarely close to 0 :  \n",
    "$\\textbf{U}([V]) < \\textbf{U}([(V-\\epsilon)^{N_1}]) < \\textbf{U}([(V-2*\\epsilon)^{N_1*N_2}]) < \\ldots$\n",
    "\n",
    "I find it really weird and hard to accept, and I think it is much more acceptable to just \"bite the other bullet\", and accept the repugnant conclusion."
   ]
  },
  {
   "cell_type": "markdown",
   "metadata": {
    "ein.tags": "worksheet-0",
    "slideshow": {
     "slide_type": "-"
    }
   },
   "source": [
    "## Leximin utilitarianism"
   ]
  },
  {
   "cell_type": "markdown",
   "metadata": {
    "ein.tags": "worksheet-0",
    "slideshow": {
     "slide_type": "-"
    }
   },
   "source": [
    "To compare two worlds, leximin utilitarianism will compare the respective worst local utility of these two world (and then the second worsts if the worsts are equal, etc…)  \n",
    "$\\forall (X,Y) \\in \\mathbb{W}^2, (\\textbf{U}_L(X) > \\textbf{U}_L(Y) \\Leftrightarrow \\exists V \\in \\mathbb{R},(m_X(V) < m_Y(V)) \\: \\text{and} \\: (\\forall P<V, m_X(P) = m_Y(P)))$  \n",
    "\n",
    "Another way to say the same thing, is that if we remove everything that is common, the best world is the world with the bigger minimum:  \n",
    "$\\forall (X,Y) \\in \\mathbb{W}^2, (\\textbf{U}_L(X) > \\textbf{U}_L(Y) \\Leftrightarrow min(Supp(X - X \\cap Y)) > min(Supp(Y - X \\cap Y))$\n",
    "\n",
    "(you could note that $\\textbf{U}_L$ is locally independant)\n",
    "\n",
    "Example :  \n",
    "$\\textbf{U}_L([-1, -2, -2, 4, 5]) > \\textbf{U}_L([-1, -2, -2, 3, 10])$ because $4>3$ (or $m_X(3)=0 < 1=m_Y(3)$)\n",
    "\n",
    "The name \"leximin\" come from the __[lexicographic ordering](https://en.wikipedia.org/wiki/Lexicographic_preferences)__\n",
    "\n",
    "The idea is to never make the situation of \"someone\" worse, to improve the situation of person already better off than him.  \n",
    "We can say than contrary to total utilitarianism, leximin utilitarianism focus entirely on equity.  \n",
    "\n",
    "Unfortunately, while entirely focusing on equity, it doesn’t take quantity into account anymore:  \n",
    "$\\textbf{U}_L([100]) < \\textbf{U}_L([99.9^{99999}])$  \n",
    "and worse :  \n",
    "$\\textbf{U}_L([-100]) < \\textbf{U}_L([-99.9^{99999}])$\n",
    "\n",
    "It seems too extreme to me, and that is why I want to propose a compromise between leximin and total utilitarianism"
   ]
  },
  {
   "cell_type": "markdown",
   "metadata": {
    "ein.tags": "worksheet-0",
    "slideshow": {
     "slide_type": "-"
    }
   },
   "source": [
    "## K-utilitarianism"
   ]
  },
  {
   "cell_type": "markdown",
   "metadata": {
    "ein.tags": "worksheet-0",
    "slideshow": {
     "slide_type": "-"
    }
   },
   "source": [
    "### The transformation function"
   ]
  },
  {
   "cell_type": "markdown",
   "metadata": {
    "ein.tags": "worksheet-0",
    "slideshow": {
     "slide_type": "-"
    }
   },
   "source": [
    "The main idea is, like for total utilitarianism, we will do a sum.  \n",
    "Except that for giving more weight to the utility of the worst off, we will first transform each local utility with a unlinear function $\\textbf{T}_K: \\mathbb{R} \\to \\mathbb{R}$\n",
    "\n",
    "$\\textbf{U}_K(X) = \\sum_{i \\in Supp(X)} m_X(i)*\\textbf{T}_K(i)$\n",
    "\n",
    "Here the idea is that $K$ is parameter which will specify how much we \"weight\" equity over quantity.\n",
    "\n"
   ]
  }
 ],
 "metadata": {
  "kernelspec": {
   "display_name": "SageMath 8.6",
   "name": "sagemath"
  },
  "language_info": {
   "codemirror_mode": {
    "name": "ipython",
    "version": 2
   },
   "file_extension": ".py",
   "mimetype": "text/x-python",
   "name": "python",
   "nbconvert_exporter": "python",
   "pygments_lexer": "ipython2",
   "version": "2.7.15"
  },
  "name": "k-utilitarianism.ipynb"
 },
 "nbformat": 4,
 "nbformat_minor": 2
}
