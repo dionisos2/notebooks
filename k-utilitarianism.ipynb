{
 "cells": [
  {
   "cell_type": "markdown",
   "metadata": {
    "ein.tags": "worksheet-0",
    "slideshow": {
     "slide_type": "-"
    }
   },
   "source": [
    "# A compromise between equity and quantity"
   ]
  },
  {
   "cell_type": "markdown",
   "metadata": {
    "toc": true
   },
   "source": [
    "<div class=\"toc\"><ul class=\"toc-item\"><li><span><a href=\"#Introduction\" data-toc-modified-id=\"Introduction-1\">Introduction</a></span></li><li><span><a href=\"#Formalism\" data-toc-modified-id=\"Formalism-2\">Formalism</a></span><ul class=\"toc-item\"><li><span><a href=\"#Possible-generalizations\" data-toc-modified-id=\"Possible-generalizations-2.1\">Possible generalizations</a></span></li><li><span><a href=\"#Utility-function\" data-toc-modified-id=\"Utility-function-2.2\">Utility function</a></span></li></ul></li><li><span><a href=\"#General-properties\" data-toc-modified-id=\"General-properties-3\">General properties</a></span><ul class=\"toc-item\"><li><span><a href=\"#Local-independence\" data-toc-modified-id=\"Local-independence-3.1\">Local independence</a></span></li><li><span><a href=\"#From-local-independance-to-summation\" data-toc-modified-id=\"From-local-independance-to-summation-3.2\">From local independance to summation</a></span></li></ul></li><li><span><a href=\"#Some-utilitarianisms-and-their-issues\" data-toc-modified-id=\"Some-utilitarianisms-and-their-issues-4\">Some utilitarianisms and their issues</a></span><ul class=\"toc-item\"><li><span><a href=\"#Total-utilitarianism\" data-toc-modified-id=\"Total-utilitarianism-4.1\">Total utilitarianism</a></span></li><li><span><a href=\"#Average-utilitarianism\" data-toc-modified-id=\"Average-utilitarianism-4.2\">Average utilitarianism</a></span></li><li><span><a href=\"#The-repugnant-conclusion-is-hardly-avoidable\" data-toc-modified-id=\"The-repugnant-conclusion-is-hardly-avoidable-4.3\">The repugnant conclusion is hardly avoidable</a></span></li><li><span><a href=\"#Leximin-utilitarianism\" data-toc-modified-id=\"Leximin-utilitarianism-4.4\">Leximin utilitarianism</a></span></li><li><span><a href=\"#Negative-utilitarianism\" data-toc-modified-id=\"Negative-utilitarianism-4.5\">Negative utilitarianism</a></span></li></ul></li><li><span><a href=\"#K-utilitarianism\" data-toc-modified-id=\"K-utilitarianism-5\">K-utilitarianism</a></span><ul class=\"toc-item\"><li><span><a href=\"#A-compromise\" data-toc-modified-id=\"A-compromise-5.1\">A compromise</a></span></li><li><span><a href=\"#Finding-the-function\" data-toc-modified-id=\"Finding-the-function-5.2\">Finding the function</a></span></li><li><span><a href=\"#What-Tk-look-like\" data-toc-modified-id=\"What-Tk-look-like-5.3\">What Tk look like</a></span></li><li><span><a href=\"#The-$-U_K-$-function\" data-toc-modified-id=\"The-$-U_K-$-function-5.5\">The $ U_K $ function</a></span></li><li><span><a href=\"#Some-examples-of-comparisons-with-$K=2$\" data-toc-modified-id=\"Some-examples-of-comparisons-with-$K=2$-5.6\">Some examples of comparisons with $K=2$</a></span></li></ul></li><li><span><a href=\"#The-direct-compromises-between-$U_T$-and-$U_L$-aren't-goods\" data-toc-modified-id=\"The-direct-compromises-between-$U_T$-and-$U_L$-aren't-goods-7\">The direct compromises between $U_T$ and $U_L$ aren't goods</a></span></li></ul></div>"
   ]
  },
  {
   "cell_type": "markdown",
   "metadata": {
    "ein.tags": "worksheet-0",
    "slideshow": {
     "slide_type": "-"
    }
   },
   "source": [
    "## Introduction"
   ]
  },
  {
   "cell_type": "markdown",
   "metadata": {
    "ein.tags": "worksheet-0",
    "slideshow": {
     "slide_type": "-"
    }
   },
   "source": [
    "The goal of this document is to quickly highlight problems in different kinds of utilitarianisms, and present a compromise *between* total and leximin utilitarianism.<br>\n",
    "\n",
    "I wrote this document with suffering and pleasure as the source of value in mind, anyway this document focuses on how to aggregate the [intrinsic value](https://plato.stanford.edu/entries/value-intrinsic-extrinsic/) of a set of local things into the global intrinsic value of the sum of these things, and not on how to determine the intrinsic value of these local things.<br>\n",
    "So even if you intrinsically value something else that suffering and pleasure, like autonomy, the fulfilling of preferences, liberty, etc… (or a combination of theses), I think the idea highlighted here should still matter approximately the same way.\n",
    "\n",
    "What is \"local\" will also be up to the reader. Probably a __[closed individualist](https://en.wikipedia.org/wiki/Open_individualism)__ will want to focus on individuals, where an empty/open individualist will want to focus on subjective experiences or qualia."
   ]
  },
  {
   "cell_type": "markdown",
   "metadata": {
    "ein.tags": "worksheet-0",
    "slideshow": {
     "slide_type": "-"
    }
   },
   "source": [
    "## Formalism"
   ]
  },
  {
   "cell_type": "markdown",
   "metadata": {},
   "source": [
    "We want to be able to morally compare different possible worlds, but how do we represent a world ?\n",
    "\n",
    "First of all, we only need to know the set of things we intrinsically value to be able to do a moral judgment.  \n",
    "Moreover, in this article we consider we are able to determine how \"intense\" these things are, in such a way that we only need to know the intensity of these things.\n",
    "\n",
    "By example a hedonist could represent a world as a big set of experiences, negative or positive with variable intensity.\n",
    "\n",
    "But if an experience is lived more than once, that's something we want to take into account, so a normal mathematical set wouldn't be suitable to modelize our different worlds.<br>\n",
    "A way to solve that issue is to modelize with __[multisets](https://en.wikipedia.org/wiki/Multiset)__, in which an element can appear more than once, the same way an experience can be lived more than once.\n",
    "\n",
    "Here we will only consider finite worlds, because introducing infinite worlds would introduce a lot of complexities and stray from the goal of this article.<br>\n",
    "\n",
    "Note that sometimes in the litterature a \"possible world\" is represented as a tuple instead of a multiset, and any permutation of the elements of the tuple are considered as equivalents (this is called the symmetry/anonymity axiom).<br>\n",
    "In both formalisms we don’t care about the order of the elements, but using multiset will be simpler in most definitions and demonstrations here.\n",
    "\n",
    "By example, if a world is composed of these 7 subjectives experiences :\n",
    "- 3 identically low pleasures (pleasure with 1 of intensity)\n",
    "- 2 identically low sufferings (-1)\n",
    "- 1 strong pleasure (100)\n",
    "- 1 strong suffering (-100)\n",
    "\n",
    "The hedonist can represent it like this : $\\{\\!\\{1, 1, 1, -1, -1, 100, -100\\}\\!\\}$ or more succinctly $\\{\\!\\{1^{3}, -1^{2}, 100, -100\\}\\!\\}$\n",
    "\n",
    "More formally, a possible world can be defined as the couple $(\\mathbb{R}, m)$, where $m$ is the multiplicity function ($m:\\mathbb{R}\\to \\mathbb{N}$)<br>\n",
    "ie, $\\{\\!\\{1,5,5\\}\\!\\} = (\\mathbb{R}, m)$ where $m(1)=1$, $m(5)=2$ and $m(x)=0$ otherwise.\n",
    "\n",
    "So the set of all possible worlds $\\mathbb{W}$ is defined as:\n",
    "- $\\mathbb{W} = \\{(\\mathbb{R}, m) | m\\in\\mathbb{N}^\\mathbb{R}\\}$ (where $\\mathbb{N}^\\mathbb{R}$ is the set of all functions from $\\mathbb{R}$ to $\\mathbb{N}$)\n",
    "\n",
    "\n",
    "We define the $+$ operation on worlds as usual on multisets :<br>\n",
    "- $\\forall (a,b)\\in \\mathbb{W}^2, a+b = (\\mathbb{R}, m_a)+(\\mathbb{R}, m_b) = (\\mathbb{R}, m_a+m_b)$    \n",
    "\n",
    "Where $(m_a+m_b)(x)=m_a(x)+m_b(x)$\n",
    "\n",
    "The support of a world is all its elements with a non-null multiplicity :\n",
    "- $Supp(w) = \\{x \\in \\mathbb{R} |  m_w(x) \\neq 0\\}$\n",
    "\n",
    "It is then possible to decompose a world as a sum of its elements :<br>\n",
    "- $\\forall w\\in\\mathbb{W}, w=\\sum_{i\\in Supp(W)} m_w(i)*\\{\\!\\{i\\}\\!\\}$"
   ]
  },
  {
   "cell_type": "markdown",
   "metadata": {},
   "source": [
    "### Possible generalizations"
   ]
  },
  {
   "cell_type": "markdown",
   "metadata": {},
   "source": [
    "It is easy to generalize multiset to real-valued multiset by choosing the multiplicity function to be $m : \\mathbb{R}\\to \\mathbb{R}$ instead of $m : \\mathbb{R}\\to \\mathbb{N}$.  \n",
    "To avoid too much detail and keep the connexion with tuples, I will use simple multisets, but everything generalizes easily with real-valued multisets.\n",
    "\n",
    "Then if we want to represent a continuous variation of a intensity, F(t), we can consider this limit of real-valued multisets  :<br>\n",
    "- $w_F = \\lim_{n\\to\\infty} \\sum_{i\\in \\mathbb{N}, i/n \\in dom(F)} 1/n*\\{\\!\\{F(i/n)\\}\\!\\}$\n",
    "\n",
    "Unfortunatly we would need to take infinite multisets into consideration to be able to do it."
   ]
  },
  {
   "cell_type": "markdown",
   "metadata": {},
   "source": [
    "### Utility function"
   ]
  },
  {
   "cell_type": "markdown",
   "metadata": {},
   "source": [
    "We want to be able to compare possible worlds, so we want a utility functions of the form $U :  \\mathbb{W} \\to E$ where :<r>  \n",
    "- E is a __[totally ordered set](http://mathworld.wolfram.com/TotallyOrderedSet.html)__<br>\n",
    "- $U(X) > U(Y)$ means that the world X is better than the world Y. (or that we should choose X over Y)\n",
    "\n",
    "Most of the time $E=\\mathbb{R}$, but some order (like leximin), can’t be represented in $\\mathbb{R}$.\n",
    "\n",
    "Because by convention a element of positive/negative intensity represents something good/bad, we will also require :<br>\n",
    "- $x>0 \\Leftrightarrow U(\\{\\!\\{x\\}\\!\\})>0_E$<br>\n",
    "- $x<0 \\Leftrightarrow U(\\{\\!\\{x\\}\\!\\})<0_E$<br>\n",
    "\n",
    "This implies :<br>\n",
    "- $x=0 \\Leftrightarrow U(\\{\\!\\{x\\}\\!\\})=0_E$"
   ]
  },
  {
   "cell_type": "markdown",
   "metadata": {},
   "source": [
    "## General properties"
   ]
  },
  {
   "cell_type": "markdown",
   "metadata": {
    "ein.tags": "worksheet-0",
    "slideshow": {
     "slide_type": "-"
    }
   },
   "source": [
    "### Local independence"
   ]
  },
  {
   "cell_type": "markdown",
   "metadata": {
    "ein.tags": "worksheet-0",
    "slideshow": {
     "slide_type": "-"
    }
   },
   "source": [
    "Local independence means that if a local thing X is intrinsically better than another local thing Y, it stays intrinsically better if you change something else in the world.<br>\n",
    "This means that if $U$ is locally independent, then : <br>\n",
    "- $\\forall (X,Y,A,B) \\in \\mathbb{W}^4, U(X+A) > U(Y+A) \\Rightarrow U(X+B) > U(Y+B)$\n",
    "\n",
    "Failing to meet this criteria would be strongly problematic because you would always have to take into account the whole to know what to do locally. (even the parts of this whole which are causally independent of what you choose to do). \n",
    "\n",
    "This means that even if you know you have no influence on something, or that your expected influence is neutral, you can’t avoid to take it into account because the intrinsic value of the things you have direct influence on would be dependant of what is the whole (and this, even if you have no knowledge on this whole)."
   ]
  },
  {
   "cell_type": "markdown",
   "metadata": {},
   "source": [
    "### From local independance to summation"
   ]
  },
  {
   "cell_type": "markdown",
   "metadata": {},
   "source": [
    "It is important to note that we are only interested in the order represented by the utility function, so if two functions represent the same order, they are equivalent :<br>\n",
    "- $U_1$ is equivalent to $U_2$ if $\\forall (x,y)\\in\\mathbb{W}^2, U_1(x)<U_1(y) \\Leftrightarrow U_2(x)<U_2(y)$\n",
    "\n",
    "Take $U : \\mathbb{W}\\to E$ a locally independent utility function.<br>\n",
    "We can create a equivalence class $C(w)$ :\n",
    "- $C(w) = \\{x\\in \\mathbb{W} | U(x)=U(w)\\}$\n",
    "\n",
    "By local independence we have : <br>\n",
    "- $U(x)=U(y) \\Rightarrow U(x+c)=U(y+c)$\n",
    "\n",
    "We can deduce :  \n",
    "- $\n",
    "\\begin{align*}\n",
    "x_1\\in C(x_2) \\text{ and } y_1\\in C(y_2) &\\Rightarrow U(x_1)=U(x_2) \\text{ and } U(y_1)=U(y_2)\\\\\n",
    "&\\Rightarrow U(x_1+y_1)=U(x_2+y_1) \\text{ and } U(y_1+x_2)=U(y_2+x_2) \\text{ (local independence)}\\\\\n",
    "&\\Rightarrow U(x_1+y_1)=U(x_2+y_2)\\\\\n",
    "&\\Rightarrow C(x_1+y_1)=C(x_2+y_2)\\\\\n",
    "\\end{align*}\n",
    "$\n",
    "\n",
    "\n",
    "So $C(x+y)$ is completely determined by $C(x)$ and $C(y)$ (we can choose any representatives of theses classes), and we can define the $+$ operator on the equivalences classes : $C(x)+C(y) = C(x+y)$\n",
    "\n",
    "And we create a order relation on these classes : <br>\n",
    "- $C(x)<C(y)\\Leftrightarrow U(x)<U(y)$\n",
    "\n",
    "We can now define a new utility function $U_c$ representing the same order relation than $U$ :<br>\n",
    "- $U_c(w) = C(w)$<br>\n",
    "- $\n",
    "\\begin{align*}\n",
    "U_c(x)<U_c(y) &\\Leftrightarrow C(x)<C(y)\\\\\n",
    "&\\Leftrightarrow U(x)<U(y)\n",
    "\\end{align*}\n",
    "$\n",
    "\n",
    "So we have :\n",
    "- $U_c(x+y)=C(x+y)=C(x)+C(y)=U_c(x)+U_c(y)$  \n",
    "\n",
    "Or more generally :\n",
    "- $U_c(w)= C(\\sum_{i\\in Supp(w)} m_w(i)*\\{\\!\\{i\\}\\!\\}) = \\sum_i m_w(i)*C(\\{\\!\\{i\\}\\!\\}) = \\sum_i m_w(i)*U_c(\\{\\!\\{i\\}\\!\\})$\n",
    "\n",
    "It means that as soon as we have a locally independent utility function, we can find an equivalent linear utility function. <br>\n",
    "It is easy to see the reciprocal is also true : A linear utility function is locally independant.\n",
    "\n",
    "By example, the locally independent utility function:<br>\n",
    "- $U(w)=\\prod_{i\\in  Supp(w)^{\\bf{+}}}m_w(i)*i$<br>\n",
    "\n",
    "$(Supp(w)^{\\bf{+}} = Supp(w)\\cap \\mathbb{R}^{\\bf{+}} = Supp(w)\\cap[0, +\\infty[ )$\n",
    "\n",
    "Is equivalent (represents the same order relation) to the linear function : <br>\n",
    "- $U(w)=\\sum_{i\\in  Supp(w)^{\\bf{+}}}m_w(i)*ln(i)$"
   ]
  },
  {
   "cell_type": "markdown",
   "metadata": {},
   "source": [
    "## Some utilitarianisms and their issues"
   ]
  },
  {
   "cell_type": "markdown",
   "metadata": {
    "ein.tags": "worksheet-0",
    "slideshow": {
     "slide_type": "-"
    }
   },
   "source": [
    "### Total utilitarianism"
   ]
  },
  {
   "cell_type": "markdown",
   "metadata": {
    "ein.tags": "worksheet-0",
    "slideshow": {
     "slide_type": "-"
    }
   },
   "source": [
    "Total utilitarianism is the simplest form of utilitarianism, we just sum the intensity of every elements:\n",
    "- $U_T(w) = U_T(\\sum_{i \\in  Supp(w)} m_w(i)*\\{\\!\\{i\\}\\!\\}) = \\sum_{i \\in  Supp(w)} m_w(i)*i$<br>\n",
    "\n",
    "Example :\n",
    "- $U_T(\\{\\!\\{-5^{2},3^{3},7^{4}\\}\\!\\}) = 2*(-5) + 3*3 + 4*7 = 27$\n",
    "\n",
    "The main problem is that we are lacking some idea of equity :\n",
    "- $U_T(\\{\\!\\{10, 10\\}\\!\\}) < U_T(\\{\\!\\{-50, 71\\}\\!\\})$\n",
    "\n",
    "And also it implies what is called [the repugnant conclusion](https://en.wikipedia.org/wiki/Mere_addition_paradox) :\n",
    "- $U_T(\\{\\!\\{100^{100}\\}\\!\\}) < U_T(\\{\\!\\{1^{10001}\\}\\!\\})$"
   ]
  },
  {
   "cell_type": "markdown",
   "metadata": {
    "ein.tags": "worksheet-0",
    "slideshow": {
     "slide_type": "-"
    }
   },
   "source": [
    "### Average utilitarianism"
   ]
  },
  {
   "cell_type": "markdown",
   "metadata": {
    "ein.tags": "worksheet-0",
    "slideshow": {
     "slide_type": "-"
    }
   },
   "source": [
    "Instead the sum of local utilities, average utilitarianism care about the average:\n",
    "- $U_A(w) = \\cfrac{\\sum_{i \\in Supp(w)} m_w(i)*i}{|w|}$\n",
    "\n",
    "Where $|w|$ is the cardinality of a world $w$, that is to say, the sum of the quantity of element of each intensity :<br>\n",
    "- $\\forall w\\in\\mathbb{W}, card(w) = |w| = \\sum_{i\\in Supp(W)}m_w(i)$\n",
    "\n",
    "Example :\n",
    "- $U_A(\\{\\!\\{-5^{2},3^{3},7^{4}\\}\\!\\}) = \\cfrac{(2*-5 + 3*3 + 4*7)}{(2+3+4)} = 3$\n",
    "\n",
    "I think the main idea of average utilitarianism was to avoid the repugnant conclusion.<br>\n",
    "Unfortunately this version of utilitarianism isn’t locally independant (and also sort of crazy):\n",
    "- $U_A(\\{\\!\\{10\\}\\!\\}) > U_A(\\{\\!\\{9, 9\\}\\!\\})$\n",
    "\n",
    "but:\n",
    "- $U_A(\\{\\!\\{10, 5, 5\\}\\!\\}) < U_A(\\{\\!\\{9, 9, 5, 5\\}\\!\\})$  \n",
    "\n",
    "But if you think it is still good, you also have :\n",
    "- $U_A(\\{\\!\\{-99^{100}, -100\\}\\!\\}) > U_A(\\{\\!\\{-100\\}\\!\\})$  \n",
    "- $U_A(\\{\\!\\{100\\}\\!\\}) > U_A(\\{\\!\\{99^{100}, 100\\}\\!\\})$"
   ]
  },
  {
   "cell_type": "markdown",
   "metadata": {
    "ein.tags": "worksheet-0",
    "slideshow": {
     "slide_type": "-"
    }
   },
   "source": [
    "### The repugnant conclusion is hardly avoidable"
   ]
  },
  {
   "cell_type": "markdown",
   "metadata": {
    "ein.tags": "worksheet-0",
    "slideshow": {
     "slide_type": "-"
    }
   },
   "source": [
    "The only way to avoid the repugnant conclusion would be to have a good thing which is better than an arbitrarily large number of something arbitrarily close to this thing :\n",
    "- $\\exists V\\in \\mathbb{R}_{>0}, \\forall \\epsilon \\in \\mathbb{R}_{>0}, \\forall N \\in \\mathbb{N} , U(\\{\\!\\{V\\}\\!\\}) > U(\\{\\!\\{(V-\\epsilon)^{N}\\}\\!\\})$\n",
    "\n",
    "Otherwise you would be able to start from $V$, remove $\\epsilon$ an arbitrary number of time (making $N$ grow exponentially in the process), and end up with something arbitrarily close to 0 :\n",
    "- $U(\\{\\!\\{V\\}\\!\\}) < U(\\{\\!\\{(V-\\epsilon)^{N_1}\\}\\!\\}) < U(\\{\\!\\{(V-2*\\epsilon)^{N_1*N_2}\\}\\!\\}) < \\ldots$\n",
    "\n",
    "I find it really weird and hard to accept, and I think it is much more acceptable to just \"bite the other bullet\", and accept the repugnant conclusion.<br>\n",
    "But I don’t think the repugnant conclusion is really a problem, and I believe it could seems like a problem largely for three reasons :\n",
    "- [Scope insensitivity](https://www.lesswrong.com/posts/2ftJ38y9SRBCBsCzy/scope-insensitivity)\n",
    "- A confusion about what \"a life barely worth living\" means here : It means a life just above 0 intrinsic value, so it means either a life with only good things (but few), or a life where any bad is compensated with enough good. It doesn’t mean a life of boredom (which is bad), or a life so bad the person living it would want to die (which is super bad, we evolved to fear death).\n",
    "- A confusion between intrinsic and extrinsic values, and about complexe social considerations : It is obviously not about saying to some people it would be preferable if they were dead, no more than saying the repugnant conclusion is bad is saying to one billion of people than their accumulated life worth less than the life of one happy person."
   ]
  },
  {
   "cell_type": "markdown",
   "metadata": {
    "ein.tags": "worksheet-0",
    "slideshow": {
     "slide_type": "-"
    }
   },
   "source": [
    "### Leximin utilitarianism"
   ]
  },
  {
   "cell_type": "markdown",
   "metadata": {
    "ein.tags": "worksheet-0",
    "slideshow": {
     "slide_type": "-"
    }
   },
   "source": [
    "The name \"leximin\" come from the __[lexicographic ordering](https://en.wikipedia.org/wiki/Lexicographic_preferences)__\n",
    "\n",
    "The basic idea is to never make the situation of someone worse, in order to improve the situation of someone else who is already better off than him.\n",
    "\n",
    "To compare two worlds, leximin utilitarianism will compare the respective worst elements of these two worlds (and then the respective second worst elements if the worsts are equals, etc…)\n",
    "- $\\forall (X,Y) \\in \\mathbb{W}^2, U_L(X) > U_L(Y) \\Leftrightarrow \\exists V \\in \\mathbb{R},m_X(V) < m_Y(V) \\text{ and } \\forall P<V, m_X(P) = m_Y(P)$\n",
    "\n",
    "Another way to say the same thing, is that if we remove everything common elements, the best world is the world with the most intense element of minimal intensity :\n",
    "- $\\forall (X,Y) \\in \\mathbb{W}^2, U_L(X) > U_L(Y) \\Leftrightarrow min(X - X \\cap Y) > min(Y - X \\cap Y)$<br>\n",
    "where $\\forall w\\in\\mathbb{W}, min(w)=min(\\{x|m_w(x)>0\\})$\n",
    "\n",
    "Example :\n",
    "- $U_L(\\{\\!\\{-1, -2, -2, 4, 5\\}\\!\\}) > U_L(\\{\\!\\{-1, -2, -2, 3, 10\\}\\!\\})$ because $4>3$ $($or because $m_X(3)=0$ and $m_Y(3)=1$ so $m_X(3)<m_Y(3))$\n",
    "\n",
    "Note that $U_L$ is locally independant, this means there is a way to express it as a summation on singleton worlds, do to this we can use polynomials ordered by the relation : \n",
    "- $P1<P2 \\Leftrightarrow \\lim_{x\\to\\infty} P1(x)<P2(x)$\n",
    "\n",
    "So when comparing worlds the common terms can be ignored and only the remaining term of higher degree count.<br>\n",
    "Taking care of $U_L(\\{\\!\\{0\\}\\!\\})=0$ we can then define $U_L$ with the two relations :\n",
    "- $U_L(w)= \\sum_{i\\in  Supp(w)} m_w(i) * U_L(\\{\\!\\{i\\}\\!\\})$\n",
    "- $U_L(\\{\\!\\{a\\}\\!\\}) = 1-X^{-a}$\n",
    "\n",
    "Illustration :\n",
    "- $\n",
    "\\begin{align*}\n",
    "U_L(\\{\\!\\{-1, -2, -2, 4, 5\\}\\!\\}) - U_L(\\{\\!\\{-1, -2, -2, 3, 10\\}\\!\\}) &= (5 - X^1 - 2*X^2 - X^{-4} - X^{-5}) - (5 - X^1 - 2*X^2 - X^{-3} - X^{-10})\\\\\n",
    "&= X^{-3} + X^{-10} - X^{-4} - X^{-5}\\\\\n",
    "&> 0\\\\\n",
    "U_L(\\{\\!\\{-1, -2, -2, 4, 5\\}\\!\\}) > U_L(\\{\\!\\{-1, -2, -2, 3, 10\\}\\!\\})\n",
    "\\end{align*}\n",
    "$\n",
    "\n",
    "In some way opposed to total utilitarianism, leximin utilitarianism only cares about equity.<br>\n",
    "Unfortunately, while entirely focusing on equity, it doesn’t take quantity into account anymore:\n",
    "- $U_L(\\{\\!\\{100\\}\\!\\}) < U_L(\\{\\!\\{99.9^{99999}\\}\\!\\})$\n",
    "\n",
    "and worse :\n",
    "- $U_L(\\{\\!\\{-100\\}\\!\\}) < U_L(\\{\\!\\{-99.9^{99999}\\}\\!\\})$\n",
    "\n",
    "In my opinion it is too extreme and I think most would agree, and this is why I want to propose a compromise between leximin and total utilitarianism."
   ]
  },
  {
   "cell_type": "markdown",
   "metadata": {},
   "source": [
    "### Negative utilitarianism"
   ]
  },
  {
   "cell_type": "markdown",
   "metadata": {},
   "source": [
    "On the same idea than leximin utilitarianism, there is negative utilitarianism where suffering is infinitely more important than pleasure :\n",
    "- $U_N(w) = \\sum_{i\\in Supp(w)^+}m_w(i)*i + X*\\sum_{i\\in Supp(w)^-}m_w(i)*i$\n",
    "\n",
    "The problem is that negative utilitarianism, just like total utilitarianism, have no equity consideration on $\\mathbb{R}^+$ or $\\mathbb{R}^-$ :\n",
    "- $U_N(\\{\\!\\{-10, -10\\}\\!\\}) <  U_N(\\{\\!\\{-18,-1\\}\\!\\})$}<br>\n",
    "- $U_N(\\{\\!\\{10, 10\\}\\!\\}) < U_N(\\{\\!\\{20, 1\\}\\!\\})$\n",
    "\n",
    "It is also vulnerable to the __[pinprick argument](https://www.utilitarianism.com/pinprick-argument.html)__ :\n",
    "- $U_N(\\{\\!\\{-1, 100^{99999}\\}\\!\\}) < U_N(\\{\\!\\{0\\}\\!\\})$"
   ]
  },
  {
   "cell_type": "markdown",
   "metadata": {
    "ein.tags": "worksheet-0",
    "slideshow": {
     "slide_type": "-"
    }
   },
   "source": [
    "## K-utilitarianism"
   ]
  },
  {
   "cell_type": "markdown",
   "metadata": {
    "ein.tags": "worksheet-0",
    "slideshow": {
     "slide_type": "-"
    }
   },
   "source": [
    "### A compromise"
   ]
  },
  {
   "cell_type": "markdown",
   "metadata": {
    "ein.tags": "worksheet-0",
    "slideshow": {
     "slide_type": "-"
    }
   },
   "source": [
    "A utility function which values equity **and** quantity, something \"between\" leximin and total utilitarianism, seems more reasonable.\n",
    "\n",
    "The principle leading to leximin utilitarianism I presented previously, that is :\n",
    "- Never make the situation of someone worse, in order to improve the situation of someone else who is already better off than him.<br>\n",
    "\n",
    "Can be reformulated as :<br>\n",
    "\n",
    "- Improving the situation of someone in a worse situation is infinitely more important than improving the situation of someone else in a better one.\n",
    "\n",
    "(Take into consideration we are comparing the value of different worlds here, so the possible considerations about the difference between intervene and not intervene aren’t meaningful)\n",
    "\n",
    "\n",
    "Whereas for total utilitarianism, improving the situation of someone is always equally important than improving the situation of someone else, no matter the respective situations.\n",
    "\n",
    "We can focus our attention on one element because of the local independence, we define the gain obtained by improving the situation of the element $x$ by $e$ relative to the utility function U :\n",
    "- $gain(U, x, e) = U(\\{\\!\\{x+e\\}\\!\\})-U(\\{\\!\\{x\\}\\!\\})$\n",
    "\n",
    "So for leximin utilitarianism we have :\n",
    "- $\\forall e>0, \\forall x, \\forall n, gain(U_L, x, e) > n * gain(U_L, x+e, e)$<br>\n",
    "And for total utilitarianism :\n",
    "- $\\forall e>0, \\forall x, gain(U_T, x, e) = gain(U_T, x+e, e)$<br>\n",
    "\n",
    "To build a compromise we can choose a utility function with the following property :\n",
    "- $\\forall e>0, \\forall x, \\exists K, gain(U, x, e) = K*gain(U, x+e, e)$\n",
    "\n",
    "We can represents all functions of this kind by using a utility function $U_K$ parameterized by $K$ in $[1, \\infty[$ with the property :\n",
    "- $\\forall x, gain(U_K, x, 1) = K*gain(U_K, x+1, 1)$\n",
    "\n",
    "So $K$ represent how much we want to care about equity, and we have :\n",
    "- $U_{K=1} = U_T$<br>\n",
    "- $lim_{K\\to\\infty}U_K = U_L$\n",
    "\n",
    "Note that at first I wanted a compromise between leximin and total utilitarianism, that is to say, a utility function which would agree with $U_T$ and $U_L$ when they agree together, but it leads to a particular problem I will explain [at the end of this article](#The-direct-compromises-between-$U_T$-and-$U_L$-aren't-goods).<br>\n",
    "So take into account the compromise is between *the principles* which lead to both utility functions, and not between the *actual* utility functions.\n",
    "\n",
    "There is also a concern about why the ratio of the gain should be constant, it seems intuitive to me that how much we care about equity should be constant and I believe we can find good reasons to defend it, but for now I am still unclear about how to make a strong argument for it."
   ]
  },
  {
   "cell_type": "markdown",
   "metadata": {
    "ein.tags": "worksheet-0",
    "slideshow": {
     "slide_type": "-"
    }
   },
   "source": [
    "### Finding the function"
   ]
  },
  {
   "cell_type": "markdown",
   "metadata": {
    "ein.tags": "worksheet-0",
    "slideshow": {
     "slide_type": "-"
    }
   },
   "source": [
    "This paragraph is just some basic calculus to find the function from its properties, feel free to pass it. \n",
    "\n",
    "We have :\n",
    "- $\\forall x, gain(U_K, x, 1) = K*gain(U_K, x+1, 1)$<br>\n",
    "- $U_K(\\{\\!\\{0\\}\\!\\}) = 0$\n",
    "\n",
    "To simplify calculus we pose :\n",
    "- $T_K(x) = U_K(\\{\\!\\{x\\}\\!\\})$<br>\n",
    "- $b = T_K(1)$<br>\n",
    "\n",
    "So :\n",
    "- $T_K(x+1)-T_K(x) = K*(T_K(x+2)-T_K(x+1))$\n",
    "- $T_K(x+2) = (T_K(x+1)*(K+1)-T_K(x)) / K$\n",
    "- $T_K(x+1) = (T_K(x)*(K+1)-T_K(x-1)) / K$\n",
    "\n",
    "Let's build some examples :\n",
    "- $T_K(0)=0$\n",
    "- $T_K(1)=b$\n",
    "- $T_K(2)=(T_K(1)*(K+1)-T_K(0)) / K = (b*(K+1)-0)/K = b*(1+1/K)$\n",
    "- $T_K(3)=(T_K(2)*(K+1)-T_K(1)) / K = (b*(1+1/K)*(K+1)-b)/K = b*(1+1/K+1/K^2)$\n",
    "\n",
    "Suppose :\n",
    "- $\n",
    "\\begin{align*}\n",
    "\\forall n\\in\\mathbb{N}, n<N, T_K(n) = b*\\sum_{i=0}^{n-1} 1/K^{i}\n",
    "\\end{align*}\n",
    "$\n",
    "\n",
    "So :\n",
    "- $\n",
    "\\begin{align*}\n",
    "\\forall n\\in\\mathbb{N}, n<N, T_K(n+1) &= (T_K(x)*(K+1)-T_K(x-1)) / K\\\\\n",
    "&= (b*\\sum_{i=0}^{n-1} 1/K^{i}*(K+1) - b*\\sum_{i=0}^{n-2} 1/K^{i})/K\\\\\n",
    "&=  b * (K * \\sum_{i=0}^{n-1} 1/K^{i} + \\sum_{i=0}^{n-1} 1/K^{i} - \\sum_{i=0}^{n-2} 1/K^{i}))/K\\\\\n",
    "&= b*(\\sum_{i=0}^{n-1} 1/K^{i-1} + 1/K^{n-1})/K\\\\\n",
    "&= b*(\\sum_{i=0}^{n} 1/K^{i-1})/K\\\\\n",
    "&= b*(\\sum_{i=0}^{n} 1/K^{i})\\\\\n",
    "\\end{align*}\n",
    "$\n",
    "\n",
    "So by induction we have :\n",
    "- $\n",
    "\\begin{align*}\n",
    "\\forall n\\in\\mathbb{N}, T_K(n)&=b*\\sum_{i=0}^{n-1} 1/K^{i}\\\\\n",
    "& = \n",
    "\\begin{cases}\n",
    "b*(K-K^{(1-n)}) / (K-1), &\\text{for } K>1\\\\\n",
    "b*n, &\\text{for } K=1\n",
    "\\end{cases}\n",
    "\\end{align*}\n",
    "$\n",
    "\n",
    "\n",
    "We can extend the function from $\\mathbb{N}$ to $\\mathbb{R}$ to get :\n",
    "- $\n",
    "T_K(x) =\n",
    "\\begin{cases}\n",
    "b * (K-K^{(1-x)}) / (K-1),&\\text{for } K>1\\\\\n",
    "b * n,&\\text{for } K=1\\\\\n",
    "\\end{cases}\n",
    "$\n",
    "\n",
    "And because multiplying by a constant doesn’t change the order, we can simplify it :\n",
    "- $T_K(x) = 1-K^{-x}$\n",
    "\n",
    "Note that we ended-up with almost the same expression as the one for leximin utilitarianism, let's check we actually get what we wanted :"
   ]
  },
  {
   "cell_type": "code",
   "execution_count": 6,
   "metadata": {},
   "outputs": [
    {
     "data": {
      "text/latex": [
       "$\\begin{equation*}- K \\left(- K^{- x - 2} + K^{- x - 1}\\right) - K^{- x - 1} + K^{- x}\\end{equation*}$\n"
      ],
      "text/plain": [
       "    ⎛   -x - 2    -x - 1⎞    -x - 1    -x\n",
       "- K⋅⎝- K       + K      ⎠ - K       + K  "
      ]
     },
     "metadata": {},
     "output_type": "display_data"
    },
    {
     "data": {
      "text/latex": [
       "$\\begin{equation*}0\\end{equation*}$\n"
      ],
      "text/plain": [
       "0"
      ]
     },
     "metadata": {},
     "output_type": "display_data"
    }
   ],
   "source": [
    "using SymPy\n",
    "\n",
    "@vars K x\n",
    "\n",
    "Tk(x) = 1-K^(-x)\n",
    "\n",
    "gain(x, e) = Tk(x+e)-Tk(x)\n",
    "\n",
    "# gain(U_K, x, 1) = K*gain(U_K, x+1, 1)\n",
    "# gain(U_K, x, 1) - K*gain(U_K, x+1, 1) = 0\n",
    "eq = gain(x, 1) - K*gain(x+1, 1)\n",
    "\n",
    "display(eq)\n",
    "display(simplify(eq))"
   ]
  },
  {
   "cell_type": "markdown",
   "metadata": {},
   "source": [
    "### What Tk look like"
   ]
  },
  {
   "cell_type": "code",
   "execution_count": 10,
   "metadata": {},
   "outputs": [
    {
     "data": {
      "image/svg+xml": [
       "<?xml version=\"1.0\" encoding=\"utf-8\"?>\n",
       "<svg xmlns=\"http://www.w3.org/2000/svg\" xmlns:xlink=\"http://www.w3.org/1999/xlink\" width=\"600\" height=\"400\" viewBox=\"0 0 2400 1600\">\n",
       "<defs>\n",
       "  <clipPath id=\"clip980\">\n",
       "    <rect x=\"0\" y=\"0\" width=\"2400\" height=\"1600\"/>\n",
       "  </clipPath>\n",
       "</defs>\n",
       "<path clip-path=\"url(#clip980)\" d=\"\n",
       "M0 1600 L2400 1600 L2400 0 L0 0  Z\n",
       "  \" fill=\"#ffffff\" fill-rule=\"evenodd\" fill-opacity=\"1\"/>\n",
       "<defs>\n",
       "  <clipPath id=\"clip981\">\n",
       "    <rect x=\"480\" y=\"0\" width=\"1681\" height=\"1600\"/>\n",
       "  </clipPath>\n",
       "</defs>\n",
       "<path clip-path=\"url(#clip980)\" d=\"\n",
       "M169.469 1486.45 L2352.76 1486.45 L2352.76 47.2441 L169.469 47.2441  Z\n",
       "  \" fill=\"#ffffff\" fill-rule=\"evenodd\" fill-opacity=\"1\"/>\n",
       "<defs>\n",
       "  <clipPath id=\"clip982\">\n",
       "    <rect x=\"169\" y=\"47\" width=\"2184\" height=\"1440\"/>\n",
       "  </clipPath>\n",
       "</defs>\n",
       "<polyline clip-path=\"url(#clip982)\" style=\"stroke:#000000; stroke-width:2; stroke-opacity:0.1; fill:none\" points=\"\n",
       "  488.723,1486.45 488.723,47.2441 \n",
       "  \"/>\n",
       "<polyline clip-path=\"url(#clip982)\" style=\"stroke:#000000; stroke-width:2; stroke-opacity:0.1; fill:none\" points=\"\n",
       "  1003.65,1486.45 1003.65,47.2441 \n",
       "  \"/>\n",
       "<polyline clip-path=\"url(#clip982)\" style=\"stroke:#000000; stroke-width:2; stroke-opacity:0.1; fill:none\" points=\"\n",
       "  1518.58,1486.45 1518.58,47.2441 \n",
       "  \"/>\n",
       "<polyline clip-path=\"url(#clip982)\" style=\"stroke:#000000; stroke-width:2; stroke-opacity:0.1; fill:none\" points=\"\n",
       "  2033.5,1486.45 2033.5,47.2441 \n",
       "  \"/>\n",
       "<polyline clip-path=\"url(#clip980)\" style=\"stroke:#000000; stroke-width:4; stroke-opacity:1; fill:none\" points=\"\n",
       "  169.469,1486.45 2352.76,1486.45 \n",
       "  \"/>\n",
       "<polyline clip-path=\"url(#clip980)\" style=\"stroke:#000000; stroke-width:4; stroke-opacity:1; fill:none\" points=\"\n",
       "  488.723,1486.45 488.723,1469.18 \n",
       "  \"/>\n",
       "<polyline clip-path=\"url(#clip980)\" style=\"stroke:#000000; stroke-width:4; stroke-opacity:1; fill:none\" points=\"\n",
       "  1003.65,1486.45 1003.65,1469.18 \n",
       "  \"/>\n",
       "<polyline clip-path=\"url(#clip980)\" style=\"stroke:#000000; stroke-width:4; stroke-opacity:1; fill:none\" points=\"\n",
       "  1518.58,1486.45 1518.58,1469.18 \n",
       "  \"/>\n",
       "<polyline clip-path=\"url(#clip980)\" style=\"stroke:#000000; stroke-width:4; stroke-opacity:1; fill:none\" points=\"\n",
       "  2033.5,1486.45 2033.5,1469.18 \n",
       "  \"/>\n",
       "<path clip-path=\"url(#clip980)\" d=\"M 0 0 M461.177 1530.29 L490.852 1530.29 L490.852 1534.23 L461.177 1534.23 L461.177 1530.29 Z\" fill=\"#000000\" fill-rule=\"evenodd\" fill-opacity=\"1\" /><path clip-path=\"url(#clip980)\" d=\"M 0 0 M499.95 1543.18 L516.269 1543.18 L516.269 1547.12 L494.325 1547.12 L494.325 1543.18 Q496.987 1540.43 501.57 1535.8 Q506.176 1531.15 507.357 1529.81 Q509.602 1527.28 510.482 1525.55 Q511.385 1523.79 511.385 1522.1 Q511.385 1519.34 509.44 1517.61 Q507.519 1515.87 504.417 1515.87 Q502.218 1515.87 499.764 1516.63 Q497.334 1517.4 494.556 1518.95 L494.556 1514.23 Q497.38 1513.09 499.834 1512.51 Q502.288 1511.93 504.325 1511.93 Q509.695 1511.93 512.889 1514.62 Q516.084 1517.31 516.084 1521.8 Q516.084 1523.93 515.274 1525.85 Q514.487 1527.74 512.38 1530.34 Q511.801 1531.01 508.7 1534.23 Q505.598 1537.42 499.95 1543.18 Z\" fill=\"#000000\" fill-rule=\"evenodd\" fill-opacity=\"1\" /><path clip-path=\"url(#clip980)\" d=\"M 0 0 M1003.65 1515.64 Q1000.04 1515.64 998.209 1519.2 Q996.404 1522.75 996.404 1529.87 Q996.404 1536.98 998.209 1540.55 Q1000.04 1544.09 1003.65 1544.09 Q1007.28 1544.09 1009.09 1540.55 Q1010.92 1536.98 1010.92 1529.87 Q1010.92 1522.75 1009.09 1519.2 Q1007.28 1515.64 1003.65 1515.64 M1003.65 1511.93 Q1009.46 1511.93 1012.51 1516.54 Q1015.59 1521.12 1015.59 1529.87 Q1015.59 1538.6 1012.51 1543.21 Q1009.46 1547.79 1003.65 1547.79 Q997.839 1547.79 994.76 1543.21 Q991.705 1538.6 991.705 1529.87 Q991.705 1521.12 994.76 1516.54 Q997.839 1511.93 1003.65 1511.93 Z\" fill=\"#000000\" fill-rule=\"evenodd\" fill-opacity=\"1\" /><path clip-path=\"url(#clip980)\" d=\"M 0 0 M1513.23 1543.18 L1529.55 1543.18 L1529.55 1547.12 L1507.6 1547.12 L1507.6 1543.18 Q1510.27 1540.43 1514.85 1535.8 Q1519.45 1531.15 1520.64 1529.81 Q1522.88 1527.28 1523.76 1525.55 Q1524.66 1523.79 1524.66 1522.1 Q1524.66 1519.34 1522.72 1517.61 Q1520.8 1515.87 1517.7 1515.87 Q1515.5 1515.87 1513.04 1516.63 Q1510.61 1517.4 1507.83 1518.95 L1507.83 1514.23 Q1510.66 1513.09 1513.11 1512.51 Q1515.57 1511.93 1517.6 1511.93 Q1522.97 1511.93 1526.17 1514.62 Q1529.36 1517.31 1529.36 1521.8 Q1529.36 1523.93 1528.55 1525.85 Q1527.77 1527.74 1525.66 1530.34 Q1525.08 1531.01 1521.98 1534.23 Q1518.88 1537.42 1513.23 1543.18 Z\" fill=\"#000000\" fill-rule=\"evenodd\" fill-opacity=\"1\" /><path clip-path=\"url(#clip980)\" d=\"M 0 0 M2036.51 1516.63 L2024.71 1535.08 L2036.51 1535.08 L2036.51 1516.63 M2035.28 1512.56 L2041.16 1512.56 L2041.16 1535.08 L2046.09 1535.08 L2046.09 1538.97 L2041.16 1538.97 L2041.16 1547.12 L2036.51 1547.12 L2036.51 1538.97 L2020.91 1538.97 L2020.91 1534.46 L2035.28 1512.56 Z\" fill=\"#000000\" fill-rule=\"evenodd\" fill-opacity=\"1\" /><polyline clip-path=\"url(#clip982)\" style=\"stroke:#000000; stroke-width:2; stroke-opacity:0.1; fill:none\" points=\"\n",
       "  169.469,1159.73 2352.76,1159.73 \n",
       "  \"/>\n",
       "<polyline clip-path=\"url(#clip982)\" style=\"stroke:#000000; stroke-width:2; stroke-opacity:0.1; fill:none\" points=\"\n",
       "  169.469,802.238 2352.76,802.238 \n",
       "  \"/>\n",
       "<polyline clip-path=\"url(#clip982)\" style=\"stroke:#000000; stroke-width:2; stroke-opacity:0.1; fill:none\" points=\"\n",
       "  169.469,444.75 2352.76,444.75 \n",
       "  \"/>\n",
       "<polyline clip-path=\"url(#clip982)\" style=\"stroke:#000000; stroke-width:2; stroke-opacity:0.1; fill:none\" points=\"\n",
       "  169.469,87.2627 2352.76,87.2627 \n",
       "  \"/>\n",
       "<polyline clip-path=\"url(#clip980)\" style=\"stroke:#000000; stroke-width:4; stroke-opacity:1; fill:none\" points=\"\n",
       "  169.469,1486.45 169.469,47.2441 \n",
       "  \"/>\n",
       "<polyline clip-path=\"url(#clip980)\" style=\"stroke:#000000; stroke-width:4; stroke-opacity:1; fill:none\" points=\"\n",
       "  169.469,1159.73 195.668,1159.73 \n",
       "  \"/>\n",
       "<polyline clip-path=\"url(#clip980)\" style=\"stroke:#000000; stroke-width:4; stroke-opacity:1; fill:none\" points=\"\n",
       "  169.469,802.238 195.668,802.238 \n",
       "  \"/>\n",
       "<polyline clip-path=\"url(#clip980)\" style=\"stroke:#000000; stroke-width:4; stroke-opacity:1; fill:none\" points=\"\n",
       "  169.469,444.75 195.668,444.75 \n",
       "  \"/>\n",
       "<polyline clip-path=\"url(#clip980)\" style=\"stroke:#000000; stroke-width:4; stroke-opacity:1; fill:none\" points=\"\n",
       "  169.469,87.2627 195.668,87.2627 \n",
       "  \"/>\n",
       "<path clip-path=\"url(#clip980)\" d=\"M 0 0 M50.9921 1160.18 L80.6679 1160.18 L80.6679 1164.11 L50.9921 1164.11 L50.9921 1160.18 Z\" fill=\"#000000\" fill-rule=\"evenodd\" fill-opacity=\"1\" /><path clip-path=\"url(#clip980)\" d=\"M 0 0 M86.5475 1173.07 L94.1863 1173.07 L94.1863 1146.7 L85.8762 1148.37 L85.8762 1144.11 L94.14 1142.45 L98.8159 1142.45 L98.8159 1173.07 L106.455 1173.07 L106.455 1177.01 L86.5475 1177.01 L86.5475 1173.07 Z\" fill=\"#000000\" fill-rule=\"evenodd\" fill-opacity=\"1\" /><path clip-path=\"url(#clip980)\" d=\"M 0 0 M121.524 1145.52 Q117.913 1145.52 116.084 1149.09 Q114.279 1152.63 114.279 1159.76 Q114.279 1166.87 116.084 1170.43 Q117.913 1173.97 121.524 1173.97 Q125.158 1173.97 126.964 1170.43 Q128.793 1166.87 128.793 1159.76 Q128.793 1152.63 126.964 1149.09 Q125.158 1145.52 121.524 1145.52 M121.524 1141.82 Q127.334 1141.82 130.39 1146.43 Q133.469 1151.01 133.469 1159.76 Q133.469 1168.49 130.39 1173.09 Q127.334 1177.68 121.524 1177.68 Q115.714 1177.68 112.635 1173.09 Q109.58 1168.49 109.58 1159.76 Q109.58 1151.01 112.635 1146.43 Q115.714 1141.82 121.524 1141.82 Z\" fill=\"#000000\" fill-rule=\"evenodd\" fill-opacity=\"1\" /><path clip-path=\"url(#clip980)\" d=\"M 0 0 M77.7744 802.689 L107.45 802.689 L107.45 806.625 L77.7744 806.625 L77.7744 802.689 Z\" fill=\"#000000\" fill-rule=\"evenodd\" fill-opacity=\"1\" /><path clip-path=\"url(#clip980)\" d=\"M 0 0 M112.566 784.958 L130.922 784.958 L130.922 788.893 L116.848 788.893 L116.848 797.365 Q117.867 797.018 118.885 796.856 Q119.904 796.671 120.922 796.671 Q126.709 796.671 130.089 799.842 Q133.469 803.013 133.469 808.43 Q133.469 814.009 129.996 817.111 Q126.524 820.189 120.205 820.189 Q118.029 820.189 115.76 819.819 Q113.515 819.449 111.108 818.708 L111.108 814.009 Q113.191 815.143 115.413 815.699 Q117.635 816.254 120.112 816.254 Q124.117 816.254 126.455 814.148 Q128.793 812.041 128.793 808.43 Q128.793 804.819 126.455 802.713 Q124.117 800.606 120.112 800.606 Q118.237 800.606 116.362 801.023 Q114.51 801.439 112.566 802.319 L112.566 784.958 Z\" fill=\"#000000\" fill-rule=\"evenodd\" fill-opacity=\"1\" /><path clip-path=\"url(#clip980)\" d=\"M 0 0 M121.524 430.549 Q117.913 430.549 116.084 434.114 Q114.279 437.655 114.279 444.785 Q114.279 451.892 116.084 455.456 Q117.913 458.998 121.524 458.998 Q125.158 458.998 126.964 455.456 Q128.793 451.892 128.793 444.785 Q128.793 437.655 126.964 434.114 Q125.158 430.549 121.524 430.549 M121.524 426.845 Q127.334 426.845 130.39 431.452 Q133.469 436.035 133.469 444.785 Q133.469 453.512 130.39 458.118 Q127.334 462.702 121.524 462.702 Q115.714 462.702 112.635 458.118 Q109.58 453.512 109.58 444.785 Q109.58 436.035 112.635 431.452 Q115.714 426.845 121.524 426.845 Z\" fill=\"#000000\" fill-rule=\"evenodd\" fill-opacity=\"1\" /><path clip-path=\"url(#clip980)\" d=\"M 0 0 M112.566 69.9827 L130.922 69.9827 L130.922 73.9179 L116.848 73.9179 L116.848 82.3901 Q117.867 82.0428 118.885 81.8808 Q119.904 81.6956 120.922 81.6956 Q126.709 81.6956 130.089 84.8669 Q133.469 88.0382 133.469 93.4548 Q133.469 99.0335 129.996 102.135 Q126.524 105.214 120.205 105.214 Q118.029 105.214 115.76 104.844 Q113.515 104.473 111.108 103.733 L111.108 99.0335 Q113.191 100.168 115.413 100.723 Q117.635 101.279 120.112 101.279 Q124.117 101.279 126.455 99.1724 Q128.793 97.0659 128.793 93.4548 Q128.793 89.8437 126.455 87.7373 Q124.117 85.6308 120.112 85.6308 Q118.237 85.6308 116.362 86.0475 Q114.51 86.4641 112.566 87.3437 L112.566 69.9827 Z\" fill=\"#000000\" fill-rule=\"evenodd\" fill-opacity=\"1\" /><polyline clip-path=\"url(#clip982)\" style=\"stroke:#009af9; stroke-width:4; stroke-opacity:1; fill:none\" points=\"\n",
       "  231.26,659.672 251.374,654.067 437.364,602.259 549.136,571.143 643.638,544.845 746.293,516.29 840.932,489.974 942.395,461.771 1059.95,429.109 1164.42,400.096 \n",
       "  1256.03,374.664 1355.91,346.946 1456.38,319.074 1567.47,288.271 1673.16,258.975 1783.06,228.526 1875.57,202.905 1988.52,171.638 2094.69,142.257 2264.79,95.2134 \n",
       "  2290.96,87.9763 \n",
       "  \"/>\n",
       "<polyline clip-path=\"url(#clip982)\" style=\"stroke:#e26f46; stroke-width:4; stroke-opacity:1; fill:none\" points=\"\n",
       "  231.26,757.052 251.374,746.567 437.364,656.384 549.136,607.634 643.638,569.321 746.293,530.508 840.932,497.142 942.395,463.768 1059.95,427.983 1164.42,398.588 \n",
       "  1256.03,374.542 1355.91,350.042 1456.38,327.085 1567.47,303.534 1673.16,282.781 1783.06,262.789 1875.57,247.125 1988.52,229.341 2094.69,213.872 2264.79,191.39 \n",
       "  2290.96,188.165 \n",
       "  \"/>\n",
       "<polyline clip-path=\"url(#clip982)\" style=\"stroke:#3da44d; stroke-width:4; stroke-opacity:1; fill:none\" points=\"\n",
       "  231.26,881.171 241.317,872.205 251.374,863.356 344.369,786.815 437.364,719.032 493.25,682.089 549.136,647.747 596.387,620.606 643.638,595.09 746.293,544.798 \n",
       "  840.932,504.046 942.395,465.606 1059.95,426.999 1164.42,397.329 1256.03,374.444 1355.91,352.425 1456.38,332.994 1567.47,314.28 1673.16,298.828 1783.06,284.872 \n",
       "  1875.57,274.581 1988.52,263.593 2094.69,254.643 2264.79,242.657 2290.96,241.037 \n",
       "  \"/>\n",
       "<polyline clip-path=\"url(#clip982)\" style=\"stroke:#c271d2; stroke-width:4; stroke-opacity:1; fill:none\" points=\"\n",
       "  231.26,1035.03 236.288,1027.9 241.317,1020.83 246.346,1013.82 251.374,1006.88 297.872,945.617 344.369,889.341 390.867,837.645 437.364,790.156 493.25,738.163 \n",
       "  549.136,691.213 596.387,655.088 643.638,621.949 694.965,589.047 746.293,559.087 793.613,533.846 840.932,510.694 942.395,467.308 1059.95,426.128 1164.42,396.257 \n",
       "  1256.03,374.364 1355.91,354.317 1456.38,337.521 1567.47,322.208 1673.16,310.255 1783.06,300.045 1875.57,292.904 1988.52,285.673 2094.69,280.108 2264.79,273.163 \n",
       "  2290.96,272.273 \n",
       "  \"/>\n",
       "<polyline clip-path=\"url(#clip982)\" style=\"stroke:#ac8d18; stroke-width:4; stroke-opacity:1; fill:none\" points=\"\n",
       "  231.26,1222.07 236.288,1211.36 241.317,1200.78 246.346,1190.31 251.374,1179.96 297.872,1089.72 344.369,1008.56 390.867,935.573 437.364,869.939 493.25,799.739 \n",
       "  549.136,737.947 596.387,691.515 643.638,649.831 694.965,609.366 746.293,573.375 793.613,543.731 840.932,517.122 942.395,468.896 1059.95,425.347 1164.42,395.329 \n",
       "  1256.03,374.296 1355.91,355.861 1456.38,341.107 1567.47,328.288 1673.16,318.767 1783.06,311.026 1875.57,305.858 1988.52,300.863 2094.69,297.207 2264.79,292.919 \n",
       "  2290.96,292.394 \n",
       "  \"/>\n",
       "<polyline clip-path=\"url(#clip982)\" style=\"stroke:#00a9ad; stroke-width:4; stroke-opacity:1; fill:none\" points=\"\n",
       "  231.26,1445.72 236.288,1430.33 241.317,1415.16 246.346,1400.18 251.374,1385.41 297.872,1257.91 344.369,1145.4 390.867,1046.14 437.364,958.552 465.307,910.954 \n",
       "  493.25,866.807 521.193,825.858 549.136,787.877 596.387,729.809 643.638,678.678 694.965,630.031 746.293,587.663 793.613,553.464 840.932,523.357 942.395,470.387 \n",
       "  1059.95,424.638 1164.42,394.512 1256.03,374.238 1355.91,357.148 1456.38,344.02 1567.47,333.095 1673.16,325.334 1783.06,319.295 1875.57,315.428 1988.52,311.843 \n",
       "  2094.69,309.335 2264.79,306.55 2290.96,306.224 \n",
       "  \"/>\n",
       "<path clip-path=\"url(#clip980)\" d=\"\n",
       "M1864.13 1438.47 L2279.98 1438.47 L2279.98 1015.11 L1864.13 1015.11  Z\n",
       "  \" fill=\"#ffffff\" fill-rule=\"evenodd\" fill-opacity=\"1\"/>\n",
       "<polyline clip-path=\"url(#clip980)\" style=\"stroke:#000000; stroke-width:4; stroke-opacity:1; fill:none\" points=\"\n",
       "  1864.13,1438.47 2279.98,1438.47 2279.98,1015.11 1864.13,1015.11 1864.13,1438.47 \n",
       "  \"/>\n",
       "<polyline clip-path=\"url(#clip980)\" style=\"stroke:#009af9; stroke-width:4; stroke-opacity:1; fill:none\" points=\"\n",
       "  1888.39,1075.59 2033.94,1075.59 \n",
       "  \"/>\n",
       "<path clip-path=\"url(#clip980)\" d=\"M 0 0 M2058.2 1056.86 L2062.48 1056.86 L2062.48 1078.13 L2075.19 1066.95 L2080.63 1066.95 L2066.88 1079.08 L2081.21 1092.87 L2075.65 1092.87 L2062.48 1080.21 L2062.48 1092.87 L2058.2 1092.87 L2058.2 1056.86 Z\" fill=\"#000000\" fill-rule=\"evenodd\" fill-opacity=\"1\" /><path clip-path=\"url(#clip980)\" d=\"M 0 0 M2086.23 1071.35 L2115.91 1071.35 L2115.91 1075.24 L2086.23 1075.24 L2086.23 1071.35 M2086.23 1080.79 L2115.91 1080.79 L2115.91 1084.73 L2086.23 1084.73 L2086.23 1080.79 Z\" fill=\"#000000\" fill-rule=\"evenodd\" fill-opacity=\"1\" /><path clip-path=\"url(#clip980)\" d=\"M 0 0 M2121.79 1088.94 L2129.43 1088.94 L2129.43 1062.57 L2121.12 1064.24 L2121.12 1059.98 L2129.38 1058.31 L2134.06 1058.31 L2134.06 1088.94 L2141.69 1088.94 L2141.69 1092.87 L2121.79 1092.87 L2121.79 1088.94 Z\" fill=\"#000000\" fill-rule=\"evenodd\" fill-opacity=\"1\" /><path clip-path=\"url(#clip980)\" d=\"M 0 0 M2146.76 1086.99 L2151.65 1086.99 L2151.65 1092.87 L2146.76 1092.87 L2146.76 1086.99 Z\" fill=\"#000000\" fill-rule=\"evenodd\" fill-opacity=\"1\" /><path clip-path=\"url(#clip980)\" d=\"M 0 0 M2166.72 1061.39 Q2163.11 1061.39 2161.28 1064.96 Q2159.47 1068.5 2159.47 1075.63 Q2159.47 1082.74 2161.28 1086.3 Q2163.11 1089.84 2166.72 1089.84 Q2170.35 1089.84 2172.16 1086.3 Q2173.99 1082.74 2173.99 1075.63 Q2173.99 1068.5 2172.16 1064.96 Q2170.35 1061.39 2166.72 1061.39 M2166.72 1057.69 Q2172.53 1057.69 2175.58 1062.3 Q2178.66 1066.88 2178.66 1075.63 Q2178.66 1084.36 2175.58 1088.96 Q2172.53 1093.55 2166.72 1093.55 Q2160.91 1093.55 2157.83 1088.96 Q2154.77 1084.36 2154.77 1075.63 Q2154.77 1066.88 2157.83 1062.3 Q2160.91 1057.69 2166.72 1057.69 Z\" fill=\"#000000\" fill-rule=\"evenodd\" fill-opacity=\"1\" /><path clip-path=\"url(#clip980)\" d=\"M 0 0 M2193.73 1061.39 Q2190.12 1061.39 2188.29 1064.96 Q2186.49 1068.5 2186.49 1075.63 Q2186.49 1082.74 2188.29 1086.3 Q2190.12 1089.84 2193.73 1089.84 Q2197.37 1089.84 2199.17 1086.3 Q2201 1082.74 2201 1075.63 Q2201 1068.5 2199.17 1064.96 Q2197.37 1061.39 2193.73 1061.39 M2193.73 1057.69 Q2199.54 1057.69 2202.6 1062.3 Q2205.68 1066.88 2205.68 1075.63 Q2205.68 1084.36 2202.6 1088.96 Q2199.54 1093.55 2193.73 1093.55 Q2187.92 1093.55 2184.84 1088.96 Q2181.79 1084.36 2181.79 1075.63 Q2181.79 1066.88 2184.84 1062.3 Q2187.92 1057.69 2193.73 1057.69 Z\" fill=\"#000000\" fill-rule=\"evenodd\" fill-opacity=\"1\" /><path clip-path=\"url(#clip980)\" d=\"M 0 0 M2211.55 1088.94 L2219.19 1088.94 L2219.19 1062.57 L2210.88 1064.24 L2210.88 1059.98 L2219.15 1058.31 L2223.82 1058.31 L2223.82 1088.94 L2231.46 1088.94 L2231.46 1092.87 L2211.55 1092.87 L2211.55 1088.94 Z\" fill=\"#000000\" fill-rule=\"evenodd\" fill-opacity=\"1\" /><polyline clip-path=\"url(#clip980)\" style=\"stroke:#e26f46; stroke-width:4; stroke-opacity:1; fill:none\" points=\"\n",
       "  1888.39,1136.07 2033.94,1136.07 \n",
       "  \"/>\n",
       "<path clip-path=\"url(#clip980)\" d=\"M 0 0 M2058.2 1117.34 L2062.48 1117.34 L2062.48 1138.61 L2075.19 1127.43 L2080.63 1127.43 L2066.88 1139.56 L2081.21 1153.35 L2075.65 1153.35 L2062.48 1140.69 L2062.48 1153.35 L2058.2 1153.35 L2058.2 1117.34 Z\" fill=\"#000000\" fill-rule=\"evenodd\" fill-opacity=\"1\" /><path clip-path=\"url(#clip980)\" d=\"M 0 0 M2086.23 1131.83 L2115.91 1131.83 L2115.91 1135.72 L2086.23 1135.72 L2086.23 1131.83 M2086.23 1141.27 L2115.91 1141.27 L2115.91 1145.21 L2086.23 1145.21 L2086.23 1141.27 Z\" fill=\"#000000\" fill-rule=\"evenodd\" fill-opacity=\"1\" /><path clip-path=\"url(#clip980)\" d=\"M 0 0 M2121.79 1149.42 L2129.43 1149.42 L2129.43 1123.05 L2121.12 1124.72 L2121.12 1120.46 L2129.38 1118.79 L2134.06 1118.79 L2134.06 1149.42 L2141.69 1149.42 L2141.69 1153.35 L2121.79 1153.35 L2121.79 1149.42 Z\" fill=\"#000000\" fill-rule=\"evenodd\" fill-opacity=\"1\" /><path clip-path=\"url(#clip980)\" d=\"M 0 0 M2146.76 1147.47 L2151.65 1147.47 L2151.65 1153.35 L2146.76 1153.35 L2146.76 1147.47 Z\" fill=\"#000000\" fill-rule=\"evenodd\" fill-opacity=\"1\" /><path clip-path=\"url(#clip980)\" d=\"M 0 0 M2160.74 1149.42 L2177.06 1149.42 L2177.06 1153.35 L2155.12 1153.35 L2155.12 1149.42 Q2157.78 1146.66 2162.37 1142.04 Q2166.97 1137.38 2168.15 1136.04 Q2170.4 1133.52 2171.28 1131.78 Q2172.18 1130.02 2172.18 1128.33 Q2172.18 1125.58 2170.24 1123.84 Q2168.31 1122.1 2165.21 1122.1 Q2163.01 1122.1 2160.56 1122.87 Q2158.13 1123.63 2155.35 1125.18 L2155.35 1120.46 Q2158.18 1119.33 2160.63 1118.75 Q2163.08 1118.17 2165.12 1118.17 Q2170.49 1118.17 2173.68 1120.85 Q2176.88 1123.54 2176.88 1128.03 Q2176.88 1130.16 2176.07 1132.08 Q2175.28 1133.98 2173.18 1136.57 Q2172.6 1137.24 2169.49 1140.46 Q2166.39 1143.66 2160.74 1149.42 Z\" fill=\"#000000\" fill-rule=\"evenodd\" fill-opacity=\"1\" /><polyline clip-path=\"url(#clip980)\" style=\"stroke:#3da44d; stroke-width:4; stroke-opacity:1; fill:none\" points=\"\n",
       "  1888.39,1196.55 2033.94,1196.55 \n",
       "  \"/>\n",
       "<path clip-path=\"url(#clip980)\" d=\"M 0 0 M2058.2 1177.82 L2062.48 1177.82 L2062.48 1199.09 L2075.19 1187.91 L2080.63 1187.91 L2066.88 1200.04 L2081.21 1213.83 L2075.65 1213.83 L2062.48 1201.17 L2062.48 1213.83 L2058.2 1213.83 L2058.2 1177.82 Z\" fill=\"#000000\" fill-rule=\"evenodd\" fill-opacity=\"1\" /><path clip-path=\"url(#clip980)\" d=\"M 0 0 M2086.23 1192.31 L2115.91 1192.31 L2115.91 1196.2 L2086.23 1196.2 L2086.23 1192.31 M2086.23 1201.75 L2115.91 1201.75 L2115.91 1205.69 L2086.23 1205.69 L2086.23 1201.75 Z\" fill=\"#000000\" fill-rule=\"evenodd\" fill-opacity=\"1\" /><path clip-path=\"url(#clip980)\" d=\"M 0 0 M2121.79 1209.9 L2129.43 1209.9 L2129.43 1183.53 L2121.12 1185.2 L2121.12 1180.94 L2129.38 1179.27 L2134.06 1179.27 L2134.06 1209.9 L2141.69 1209.9 L2141.69 1213.83 L2121.79 1213.83 L2121.79 1209.9 Z\" fill=\"#000000\" fill-rule=\"evenodd\" fill-opacity=\"1\" /><path clip-path=\"url(#clip980)\" d=\"M 0 0 M2146.76 1207.95 L2151.65 1207.95 L2151.65 1213.83 L2146.76 1213.83 L2146.76 1207.95 Z\" fill=\"#000000\" fill-rule=\"evenodd\" fill-opacity=\"1\" /><path clip-path=\"url(#clip980)\" d=\"M 0 0 M2169.56 1183.35 L2157.76 1201.8 L2169.56 1201.8 L2169.56 1183.35 M2168.34 1179.27 L2174.22 1179.27 L2174.22 1201.8 L2179.15 1201.8 L2179.15 1205.69 L2174.22 1205.69 L2174.22 1213.83 L2169.56 1213.83 L2169.56 1205.69 L2153.96 1205.69 L2153.96 1201.17 L2168.34 1179.27 Z\" fill=\"#000000\" fill-rule=\"evenodd\" fill-opacity=\"1\" /><polyline clip-path=\"url(#clip980)\" style=\"stroke:#c271d2; stroke-width:4; stroke-opacity:1; fill:none\" points=\"\n",
       "  1888.39,1257.03 2033.94,1257.03 \n",
       "  \"/>\n",
       "<path clip-path=\"url(#clip980)\" d=\"M 0 0 M2058.2 1238.3 L2062.48 1238.3 L2062.48 1259.57 L2075.19 1248.39 L2080.63 1248.39 L2066.88 1260.52 L2081.21 1274.31 L2075.65 1274.31 L2062.48 1261.65 L2062.48 1274.31 L2058.2 1274.31 L2058.2 1238.3 Z\" fill=\"#000000\" fill-rule=\"evenodd\" fill-opacity=\"1\" /><path clip-path=\"url(#clip980)\" d=\"M 0 0 M2086.23 1252.79 L2115.91 1252.79 L2115.91 1256.68 L2086.23 1256.68 L2086.23 1252.79 M2086.23 1262.23 L2115.91 1262.23 L2115.91 1266.17 L2086.23 1266.17 L2086.23 1262.23 Z\" fill=\"#000000\" fill-rule=\"evenodd\" fill-opacity=\"1\" /><path clip-path=\"url(#clip980)\" d=\"M 0 0 M2121.79 1270.38 L2129.43 1270.38 L2129.43 1244.01 L2121.12 1245.68 L2121.12 1241.42 L2129.38 1239.75 L2134.06 1239.75 L2134.06 1270.38 L2141.69 1270.38 L2141.69 1274.31 L2121.79 1274.31 L2121.79 1270.38 Z\" fill=\"#000000\" fill-rule=\"evenodd\" fill-opacity=\"1\" /><path clip-path=\"url(#clip980)\" d=\"M 0 0 M2146.76 1268.43 L2151.65 1268.43 L2151.65 1274.31 L2146.76 1274.31 L2146.76 1268.43 Z\" fill=\"#000000\" fill-rule=\"evenodd\" fill-opacity=\"1\" /><path clip-path=\"url(#clip980)\" d=\"M 0 0 M2167.3 1255.17 Q2164.15 1255.17 2162.3 1257.32 Q2160.47 1259.48 2160.47 1263.23 Q2160.47 1266.95 2162.3 1269.13 Q2164.15 1271.28 2167.3 1271.28 Q2170.44 1271.28 2172.27 1269.13 Q2174.12 1266.95 2174.12 1263.23 Q2174.12 1259.48 2172.27 1257.32 Q2170.44 1255.17 2167.3 1255.17 M2176.58 1240.52 L2176.58 1244.78 Q2174.82 1243.94 2173.01 1243.5 Q2171.23 1243.06 2169.47 1243.06 Q2164.84 1243.06 2162.39 1246.19 Q2159.96 1249.31 2159.61 1255.63 Q2160.98 1253.62 2163.04 1252.56 Q2165.1 1251.47 2167.57 1251.47 Q2172.78 1251.47 2175.79 1254.64 Q2178.82 1257.79 2178.82 1263.23 Q2178.82 1268.55 2175.68 1271.77 Q2172.53 1274.99 2167.3 1274.99 Q2161.3 1274.99 2158.13 1270.4 Q2154.96 1265.8 2154.96 1257.07 Q2154.96 1248.87 2158.85 1244.01 Q2162.74 1239.13 2169.29 1239.13 Q2171.05 1239.13 2172.83 1239.48 Q2174.63 1239.82 2176.58 1240.52 Z\" fill=\"#000000\" fill-rule=\"evenodd\" fill-opacity=\"1\" /><polyline clip-path=\"url(#clip980)\" style=\"stroke:#ac8d18; stroke-width:4; stroke-opacity:1; fill:none\" points=\"\n",
       "  1888.39,1317.51 2033.94,1317.51 \n",
       "  \"/>\n",
       "<path clip-path=\"url(#clip980)\" d=\"M 0 0 M2058.2 1298.78 L2062.48 1298.78 L2062.48 1320.05 L2075.19 1308.87 L2080.63 1308.87 L2066.88 1321 L2081.21 1334.79 L2075.65 1334.79 L2062.48 1322.13 L2062.48 1334.79 L2058.2 1334.79 L2058.2 1298.78 Z\" fill=\"#000000\" fill-rule=\"evenodd\" fill-opacity=\"1\" /><path clip-path=\"url(#clip980)\" d=\"M 0 0 M2086.23 1313.27 L2115.91 1313.27 L2115.91 1317.16 L2086.23 1317.16 L2086.23 1313.27 M2086.23 1322.71 L2115.91 1322.71 L2115.91 1326.65 L2086.23 1326.65 L2086.23 1322.71 Z\" fill=\"#000000\" fill-rule=\"evenodd\" fill-opacity=\"1\" /><path clip-path=\"url(#clip980)\" d=\"M 0 0 M2121.79 1330.86 L2129.43 1330.86 L2129.43 1304.49 L2121.12 1306.16 L2121.12 1301.9 L2129.38 1300.23 L2134.06 1300.23 L2134.06 1330.86 L2141.69 1330.86 L2141.69 1334.79 L2121.79 1334.79 L2121.79 1330.86 Z\" fill=\"#000000\" fill-rule=\"evenodd\" fill-opacity=\"1\" /><path clip-path=\"url(#clip980)\" d=\"M 0 0 M2146.76 1328.91 L2151.65 1328.91 L2151.65 1334.79 L2146.76 1334.79 L2146.76 1328.91 Z\" fill=\"#000000\" fill-rule=\"evenodd\" fill-opacity=\"1\" /><path clip-path=\"url(#clip980)\" d=\"M 0 0 M2166.72 1318.38 Q2163.38 1318.38 2161.46 1320.16 Q2159.56 1321.95 2159.56 1325.07 Q2159.56 1328.2 2161.46 1329.98 Q2163.38 1331.76 2166.72 1331.76 Q2170.05 1331.76 2171.97 1329.98 Q2173.89 1328.17 2173.89 1325.07 Q2173.89 1321.95 2171.97 1320.16 Q2170.07 1318.38 2166.72 1318.38 M2162.04 1316.39 Q2159.03 1315.65 2157.34 1313.59 Q2155.68 1311.53 2155.68 1308.57 Q2155.68 1304.42 2158.62 1302.02 Q2161.58 1299.61 2166.72 1299.61 Q2171.88 1299.61 2174.82 1302.02 Q2177.76 1304.42 2177.76 1308.57 Q2177.76 1311.53 2176.07 1313.59 Q2174.4 1315.65 2171.42 1316.39 Q2174.8 1317.18 2176.67 1319.47 Q2178.57 1321.76 2178.57 1325.07 Q2178.57 1330.1 2175.49 1332.78 Q2172.43 1335.47 2166.72 1335.47 Q2161 1335.47 2157.92 1332.78 Q2154.87 1330.1 2154.87 1325.07 Q2154.87 1321.76 2156.76 1319.47 Q2158.66 1317.18 2162.04 1316.39 M2160.33 1309.01 Q2160.33 1311.69 2161.99 1313.2 Q2163.68 1314.7 2166.72 1314.7 Q2169.73 1314.7 2171.42 1313.2 Q2173.13 1311.69 2173.13 1309.01 Q2173.13 1306.32 2171.42 1304.82 Q2169.73 1303.31 2166.72 1303.31 Q2163.68 1303.31 2161.99 1304.82 Q2160.33 1306.32 2160.33 1309.01 Z\" fill=\"#000000\" fill-rule=\"evenodd\" fill-opacity=\"1\" /><polyline clip-path=\"url(#clip980)\" style=\"stroke:#00a9ad; stroke-width:4; stroke-opacity:1; fill:none\" points=\"\n",
       "  1888.39,1377.99 2033.94,1377.99 \n",
       "  \"/>\n",
       "<path clip-path=\"url(#clip980)\" d=\"M 0 0 M2058.2 1359.26 L2062.48 1359.26 L2062.48 1380.53 L2075.19 1369.35 L2080.63 1369.35 L2066.88 1381.48 L2081.21 1395.27 L2075.65 1395.27 L2062.48 1382.61 L2062.48 1395.27 L2058.2 1395.27 L2058.2 1359.26 Z\" fill=\"#000000\" fill-rule=\"evenodd\" fill-opacity=\"1\" /><path clip-path=\"url(#clip980)\" d=\"M 0 0 M2086.23 1373.75 L2115.91 1373.75 L2115.91 1377.64 L2086.23 1377.64 L2086.23 1373.75 M2086.23 1383.19 L2115.91 1383.19 L2115.91 1387.13 L2086.23 1387.13 L2086.23 1383.19 Z\" fill=\"#000000\" fill-rule=\"evenodd\" fill-opacity=\"1\" /><path clip-path=\"url(#clip980)\" d=\"M 0 0 M2125 1391.34 L2141.32 1391.34 L2141.32 1395.27 L2119.38 1395.27 L2119.38 1391.34 Q2122.04 1388.58 2126.62 1383.96 Q2131.23 1379.3 2132.41 1377.96 Q2134.66 1375.44 2135.54 1373.7 Q2136.44 1371.94 2136.44 1370.25 Q2136.44 1367.5 2134.5 1365.76 Q2132.57 1364.02 2129.47 1364.02 Q2127.27 1364.02 2124.82 1364.79 Q2122.39 1365.55 2119.61 1367.1 L2119.61 1362.38 Q2122.43 1361.25 2124.89 1360.67 Q2127.34 1360.09 2129.38 1360.09 Q2134.75 1360.09 2137.94 1362.77 Q2141.14 1365.46 2141.14 1369.95 Q2141.14 1372.08 2140.33 1374 Q2139.54 1375.9 2137.43 1378.49 Q2136.86 1379.16 2133.75 1382.38 Q2130.65 1385.58 2125 1391.34 Z\" fill=\"#000000\" fill-rule=\"evenodd\" fill-opacity=\"1\" /><path clip-path=\"url(#clip980)\" d=\"M 0 0 M2146.39 1389.39 L2151.28 1389.39 L2151.28 1395.27 L2146.39 1395.27 L2146.39 1389.39 Z\" fill=\"#000000\" fill-rule=\"evenodd\" fill-opacity=\"1\" /><path clip-path=\"url(#clip980)\" d=\"M 0 0 M2166.35 1363.79 Q2162.74 1363.79 2160.91 1367.36 Q2159.1 1370.9 2159.1 1378.03 Q2159.1 1385.14 2160.91 1388.7 Q2162.74 1392.24 2166.35 1392.24 Q2169.98 1392.24 2171.79 1388.7 Q2173.62 1385.14 2173.62 1378.03 Q2173.62 1370.9 2171.79 1367.36 Q2169.98 1363.79 2166.35 1363.79 M2166.35 1360.09 Q2172.16 1360.09 2175.21 1364.7 Q2178.29 1369.28 2178.29 1378.03 Q2178.29 1386.76 2175.21 1391.36 Q2172.16 1395.95 2166.35 1395.95 Q2160.54 1395.95 2157.46 1391.36 Q2154.4 1386.76 2154.4 1378.03 Q2154.4 1369.28 2157.46 1364.7 Q2160.54 1360.09 2166.35 1360.09 Z\" fill=\"#000000\" fill-rule=\"evenodd\" fill-opacity=\"1\" /></svg>\n"
      ]
     },
     "metadata": {},
     "output_type": "display_data"
    }
   ],
   "source": [
    "using SymPy\n",
    "using Plots\n",
    "\n",
    "@vars K x\n",
    "\n",
    "# We fix Tk(1)=1 to get a better comparison\n",
    "Tk_scaled = (K-K^(1-x))/(K-1)\n",
    "\n",
    "graph = plot(Tk_scaled(K=>1.001), -3, 5, label=\"k=1.001\", legend=:bottomright)\n",
    "for i in 1.2:0.2:2\n",
    "    plot!(graph, Tk_scaled(K=>i), -3, 5, label=\"k=$i\")\n",
    "end\n",
    "\n",
    "display(graph)"
   ]
  },
  {
   "cell_type": "markdown",
   "metadata": {},
   "source": [
    "### The $ U_K $ function"
   ]
  },
  {
   "cell_type": "markdown",
   "metadata": {},
   "source": [
    "Finally the proposed alternative, which I name K-utilitarianism, is represented by the utility function:\n",
    "- $U_K(w)= \\sum_{i \\in  Supp(w)} m_w(i)*U_K(\\{\\!\\{i\\}\\!\\})$\n",
    "- $U_K(\\{\\!\\{x\\}\\!\\})= 1-K^{-x}$\n",
    "\n",
    "Where $K$ correspond to how much we care for equity<br>\n",
    "\n",
    "The value we will want to give to $K$ will depend on what we are representing and on the intuition of each person. But we can determine its value if we can compare examples of distributions.<br>\n",
    "That is to say, the main idea is that the form of the utility function assure us it follow some general principles, and we choose $K$ in a way for $U_K$ to best fit our moral intuition on particulars cases."
   ]
  },
  {
   "cell_type": "markdown",
   "metadata": {},
   "source": [
    "### Some examples of comparisons with $K=2$"
   ]
  },
  {
   "cell_type": "code",
   "execution_count": 8,
   "metadata": {},
   "outputs": [
    {
     "name": "stdout",
     "output_type": "stream",
     "text": [
      "[-1.0, 2.0, 2.0, 2.0, 2.0] > [2.0, 2.0] (ratio=1.333)\n",
      "[-1.5, 2.0, 2.0, 2.0, 2.0] < [2.0, 2.0] (ratio=1.28)\n",
      "[20.0, 5.0] > [21.0] (ratio=1.969)\n",
      "[-50.0, -50.0] ≈ [-51.0] (ratio=1.0)\n",
      "[-1.0] < Float64[] (ratio=-Inf)\n",
      "[5.0, 5.0, 5.0, 5.0, 5.0, 5.0, 5.0, 5.0, -5.0] < [5.0] (ratio=-24.0)\n",
      "[5.0, 5.0, 5.0, 5.0, 5.0, 5.0, 5.0, 5.0, 5.0, 5.0, 5.0, 5.0, 5.0, 5.0, 5.0, 5.0, 5.0, 5.0, 5.0, 5.0, 5.0, 5.0, 5.0, 5.0, 5.0, 5.0, 5.0, 5.0, 5.0, 5.0, 5.0, 5.0, 5.0, 5.0, 5.0, -5.0] > [5.0] (ratio=3.0)\n",
      "[2.0, 2.0, 2.0, 2.0] > [20.0] (ratio=3.0)\n",
      "[2.0, 2.0, 2.0, 2.0] ≈ [50.0, 50.0, 1.0, 1.0] (ratio=1.0)\n",
      "[2.0, 2.0, 2.0, 2.0] < [10.0, 10.0, 10.0, 1.0] (ratio=1.166)\n",
      "[-30.0, 50.0, 50.0, 50.0, 50.0] < [-20.0] (ratio=1024.001)\n"
     ]
    }
   ],
   "source": [
    "Uk(K, w) = K > 1 ? sum([1-K^(-x) for x in w]) : sum(w)\n",
    "\n",
    "K = 2\n",
    "\n",
    "worlds_pair = Tuple{Array{Float64}, Array{Float64}}[\n",
    "    ([-1,2,2,2,2], [2,2]),\n",
    "    ([-1.5,2,2,2,2], [2,2]),\n",
    "    ([20, 5], [21]),\n",
    "    ([-50, -50], [-51]),\n",
    "    ([-1], []),\n",
    "    ([5, 5, 5, 5, 5, 5, 5, 5, -5], [5]),\n",
    "    ([fill(5,35); -5], [5]),\n",
    "    ([2, 2, 2, 2], [20]),\n",
    "    ([2, 2, 2, 2], [50, 50, 1, 1]),\n",
    "    ([2, 2, 2, 2], [10, 10, 10, 1]),\n",
    "    ([-30, 50, 50, 50, 50], [-20])\n",
    "]\n",
    "\n",
    "for (w1, w2) in worlds_pair\n",
    "    w1v = Uk(K, w1)\n",
    "    w2v = Uk(K, w2)\n",
    "    \n",
    "    if w1v ≈ w2v\n",
    "        print(\"$w1 ≈ $w2\")\n",
    "    elseif w1v < w2v\n",
    "        print(\"$w1 < $w2\")\n",
    "    else\n",
    "        print(\"$w1 > $w2\")\n",
    "    end\n",
    "    \n",
    "    \n",
    "    if abs(w1v/w2v) > 1\n",
    "        ratio = round(w1v/w2v, digits=3)\n",
    "    else\n",
    "        ratio = round(w2v/w1v, digits=3)        \n",
    "    end\n",
    "    \n",
    "    println(\" (ratio=$ratio)\")\n",
    "end"
   ]
  },
  {
   "cell_type": "markdown",
   "metadata": {},
   "source": [
    "## "
   ]
  },
  {
   "cell_type": "markdown",
   "metadata": {},
   "source": [
    "## The direct compromises between $U_T$ and $U_L$ aren't goods"
   ]
  },
  {
   "cell_type": "markdown",
   "metadata": {},
   "source": [
    "If $U_C$ is a compromise between $U_1$ and $U_2$, then each time $U_1$ and $U_2$ agree together on what world to prefer, $U_C$ should also agree with them. (the compromise only matter on cases where there is a disagreement)\n",
    "\n",
    "Choose $U_C$ a compromise between $U_T$ and $U_L$.\n",
    "\n",
    "\n",
    "Now take by example :\n",
    "- $w_1=\\{\\!\\{1.000001, 10^{100}, 1020\\}\\!\\}$\n",
    "- $w_2=\\{\\!\\{1, 20^{101}\\}\\!\\}$\n",
    "\n",
    "We can see that :\n",
    "- $U_L(w_1)>U_L(w_2)$ because $1.000001 > 1$ and\n",
    "- $U_T(w_1)>U_T(w_2)$ because an element going from $20$ to $1020$ compensate for $100$ elements going from $20$ to $10$.\n",
    "\n",
    "so :\n",
    "- $U_C(w_1)>U_C(w_2)$\n",
    "\n",
    "The problem is that if we don’t care infinitely about equity, then we would not care too much about the difference between $1$ and $1.000001$, and so we would want $U_C(w_1)<U_C(w_2)$ because $w_2$ is more equitable than $w_1$ on the other elements. <br>\n",
    "And if care at least little about equity, one element going from $20$ to $1020$ can’t compensate for $100$ elements going from $20$ to $10$, and we would also want $U_C(w_1)<U_C(w_2)$.\n",
    "\n",
    "That is to say, if we care about equity and quantity, there are worlds where we will disagree with $U_T$ **and** $U_L$, and this is because $U_T$ and $U_L$ were agreeing together but not for the same reason.<br>\n",
    "So a compromise between the principles that lead to $U_T$ and $U_L$ lead to a different result than a compromise between $U_T$ and $U_L$.\n",
    "\n",
    "\n",
    "Thanks for reading :-)"
   ]
  }
 ],
 "metadata": {
  "kernelspec": {
   "display_name": "Julia 1.5.3",
   "language": "julia",
   "name": "julia-1.5"
  },
  "language_info": {
   "file_extension": ".jl",
   "mimetype": "application/julia",
   "name": "julia",
   "version": "1.5.3"
  },
  "name": "k-utilitarianism.ipynb",
  "toc": {
   "base_numbering": "1",
   "nav_menu": {},
   "number_sections": false,
   "sideBar": true,
   "skip_h1_title": true,
   "title_cell": "Table of Contents",
   "title_sidebar": "Contents",
   "toc_cell": true,
   "toc_position": {},
   "toc_section_display": true,
   "toc_window_display": true
  },
  "toc-autonumbering": false,
  "toc-showcode": false,
  "toc-showmarkdowntxt": false,
  "toc-showtags": false,
  "varInspector": {
   "cols": {
    "lenName": 16,
    "lenType": 16,
    "lenVar": 40
   },
   "kernels_config": {
    "python": {
     "delete_cmd_postfix": "",
     "delete_cmd_prefix": "del ",
     "library": "var_list.py",
     "varRefreshCmd": "print(var_dic_list())"
    },
    "r": {
     "delete_cmd_postfix": ") ",
     "delete_cmd_prefix": "rm(",
     "library": "var_list.r",
     "varRefreshCmd": "cat(var_dic_list()) "
    }
   },
   "types_to_exclude": [
    "module",
    "function",
    "builtin_function_or_method",
    "instance",
    "_Feature"
   ],
   "window_display": false
  }
 },
 "nbformat": 4,
 "nbformat_minor": 4
}
